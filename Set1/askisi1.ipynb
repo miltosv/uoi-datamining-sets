{
 "metadata": {
  "language_info": {
   "codemirror_mode": {
    "name": "ipython",
    "version": 3
   },
   "file_extension": ".py",
   "mimetype": "text/x-python",
   "name": "python",
   "nbconvert_exporter": "python",
   "pygments_lexer": "ipython3",
   "version": "3.7.9-final"
  },
  "orig_nbformat": 2,
  "kernelspec": {
   "name": "python3",
   "display_name": "Python 3"
  }
 },
 "nbformat": 4,
 "nbformat_minor": 2,
 "cells": [
  {
   "source": [
    "# Question 1 Reservoir Sampling \n",
    "## Miltiades Vasiliades 2944"
   ],
   "cell_type": "markdown",
   "metadata": {}
  },
  {
   "cell_type": "code",
   "execution_count": 1,
   "metadata": {},
   "outputs": [],
   "source": [
    "import numpy as np\n",
    "import pandas as pd\n",
    "import random"
   ]
  },
  {
   "cell_type": "code",
   "execution_count": 2,
   "metadata": {},
   "outputs": [],
   "source": [
    "path = 'input.txt'\n",
    "def reservoirKeiNth(path,kei):\n",
    "    reservoir=[]\n",
    "    readsofar=0\n",
    "    with open(path,\"r\") as txtFile:\n",
    "        for line in txtFile:\n",
    "            readsofar+=1\n",
    "            if (readsofar<kei+1):\n",
    "                reservoir.append(line.strip())\n",
    "            else:\n",
    "                decider = int(random.random() * readsofar)\n",
    "                #print(decider)\n",
    "                if (decider<kei):\n",
    "                    reservoir[decider]=line.strip()\n",
    "\n",
    "    print(reservoir)\n",
    "    print(readsofar)\n",
    "    \n",
    "\n"
   ]
  },
  {
   "cell_type": "code",
   "execution_count": 3,
   "metadata": {
    "tags": []
   },
   "outputs": [
    {
     "output_type": "stream",
     "name": "stdout",
     "text": [
      "['al.', 'Maidanek', 'Alita', 'enwwoven', 'frijol', 'hypermotility', 'skelping', 'hireman', 'vaporary', 'polemoniaceous', 'nonapprehensive', 'insurrect', 'jennier', 'frate', 'nympho', 'sibbed', 'alkoxide', 'campstool', 'wefts', 'self-appointment', 'Clarksville', 'three-ball', 'homothermous', 'loblollies', 'galipots', 'prompts', \"won't\", 'membranophone', 'Webber', 'parasital', 'tragedians', 'Nashim', 'Distomidae', 'drossiness', 'brachypnea', 'enterectomy', 'lock-jaw', 'ozokerit', 'fodda', 'Ponce', 'beggary', 'mesophyls', 'antirattler', 'pizazzy', 'multiarmed', 'Easter', 'suffragistically', 'preexpounder', 'lancepesade', 'veritableness', 'matriculation', 'Studebaker', 'rebutter', 'intratubular', 'Khama']\n466551\n"
     ]
    }
   ],
   "source": [
    "reservoirKeiNth(path,55)"
   ]
  },
  {
   "cell_type": "code",
   "execution_count": null,
   "metadata": {},
   "outputs": [],
   "source": []
  }
 ]
}