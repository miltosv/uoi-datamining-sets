{
 "metadata": {
  "language_info": {
   "codemirror_mode": {
    "name": "ipython",
    "version": 3
   },
   "file_extension": ".py",
   "mimetype": "text/x-python",
   "name": "python",
   "nbconvert_exporter": "python",
   "pygments_lexer": "ipython3",
   "version": "3.7.9-final"
  },
  "orig_nbformat": 2,
  "kernelspec": {
   "name": "python3",
   "display_name": "Python 3.7.9 64-bit (conda)",
   "metadata": {
    "interpreter": {
     "hash": "b3ba2566441a7c06988d0923437866b63cedc61552a5af99d1f4fb67d367b25f"
    }
   }
  }
 },
 "nbformat": 4,
 "nbformat_minor": 2,
 "cells": [
  {
   "source": [
    "# 2944 Miltiades Vasiliades\n",
    "Question 3"
   ],
   "cell_type": "markdown",
   "metadata": {}
  },
  {
   "cell_type": "code",
   "execution_count": 280,
   "metadata": {},
   "outputs": [],
   "source": [
    "import sklearn.metrics\n",
    "import numpy as np \n",
    "import copy\n",
    "from scipy.sparse import csr_matrix"
   ]
  },
  {
   "cell_type": "code",
   "execution_count": 281,
   "metadata": {},
   "outputs": [],
   "source": [
    "ratings=np.array([\n",
    "[5,3,0,1,0,0],\n",
    "[4,2,1,0,0,1],\n",
    "[3,0,0,1,3,3],\n",
    "[2,5,1,5,3,4]])\n",
    "#print(csr_matrix(ratings))"
   ]
  },
  {
   "cell_type": "code",
   "execution_count": 282,
   "metadata": {},
   "outputs": [
    {
     "output_type": "execute_result",
     "data": {
      "text/plain": [
       "array([[1.        , 0.93697496, 0.51110125, 0.56694671],\n",
       "       [0.93697496, 1.        , 0.60436722, 0.54824099],\n",
       "       [0.51110125, 0.60436722, 1.        , 0.6761234 ],\n",
       "       [0.56694671, 0.54824099, 0.6761234 , 1.        ]])"
      ]
     },
     "metadata": {},
     "execution_count": 282
    }
   ],
   "source": [
    "sklearn.metrics.pairwise.cosine_similarity(csr_matrix(ratings),Y=None)"
   ]
  },
  {
   "source": [
    "\n",
    "Observe that user X is similar to Y and W"
   ],
   "cell_type": "markdown",
   "metadata": {}
  },
  {
   "cell_type": "code",
   "execution_count": 283,
   "metadata": {},
   "outputs": [
    {
     "output_type": "stream",
     "name": "stdout",
     "text": [
      "2.130936646454466\n[[5 3 0 1 0 2]\n [4 2 1 0 0 1]\n [3 0 0 1 3 3]\n [2 5 1 5 3 4]]\n"
     ]
    }
   ],
   "source": [
    "sixRating1 = np.average([1,4],weights=[0.93697496,0.56694671])\n",
    "print(sixRating1)\n",
    "ratingsAmmended=copy.deepcopy(ratings)\n",
    "ratingsAmmended[0,5] = sixRating1\n",
    "print(ratingsAmmended)"
   ]
  },
  {
   "cell_type": "code",
   "execution_count": 284,
   "metadata": {},
   "outputs": [
    {
     "output_type": "stream",
     "name": "stdout",
     "text": [
      "[[ 2  0  0 -2  0  0]\n [ 2  0 -1  0  0 -1]\n [ 0  0  0 -1  0  0]\n [-1  1 -2  1  0  0]]\n[3.0, 2.0, 2.5, 3.3333333333333335]\n"
     ]
    }
   ],
   "source": [
    "#columnMeans=np.mean(ratings,axis=0)\n",
    "#print(columnMeans)\n",
    "dimensions=ratings.shape\n",
    "meanRatings=[]\n",
    "normalisedRatings=copy.deepcopy(ratings)\n",
    "for User in range(dimensions[0]):\n",
    "    sm = 0\n",
    "    nonZero=0\n",
    "    mean=0\n",
    "    for Movie in range(dimensions[1]):\n",
    "        if ratings[User][Movie]!=0:\n",
    "            nonZero+=1\n",
    "            sm=sm+ratings[User][Movie]\n",
    "    mean=sm/nonZero\n",
    "    meanRatings.append(mean)\n",
    "    for Movie in range(dimensions[1]):\n",
    "        if ratings[User][Movie]!=0:\n",
    "            normalisedRatings[User][Movie]=ratings[User][Movie]-mean\n",
    "    \n",
    "print(normalisedRatings)\n",
    "print(meanRatings)\n"
   ]
  },
  {
   "cell_type": "code",
   "execution_count": 285,
   "metadata": {},
   "outputs": [
    {
     "output_type": "stream",
     "name": "stdout",
     "text": [
      "[[ 1.          0.57735027  0.70710678 -0.53452248]\n [ 0.57735027  1.          0.          0.        ]\n [ 0.70710678  0.          1.         -0.37796447]\n [-0.53452248  0.         -0.37796447  1.        ]]\n"
     ]
    }
   ],
   "source": [
    "cosSIMarray2 = sklearn.metrics.pairwise.cosine_similarity(csr_matrix(normalisedRatings),Y=None)\n",
    "print(cosSIMarray2)"
   ]
  },
  {
   "source": [
    "Παρατηρώ οτι  αυτή την φορά ομοιότεροι χρήστες με τον Χ είναι ο Z και o Y με τον Z"
   ],
   "cell_type": "markdown",
   "metadata": {}
  },
  {
   "cell_type": "code",
   "execution_count": 286,
   "metadata": {},
   "outputs": [
    {
     "output_type": "stream",
     "name": "stdout",
     "text": [
      "Zeta=1.2844570503761732\n-0.17423461417476724\n2.8257653858252327\n"
     ]
    }
   ],
   "source": [
    "Zeta = cosSIMarray2[0][1] + cosSIMarray2[0][2]\n",
    "print(\"Zeta=\"+str(Zeta))\n",
    "MeanDeviationOfSimilarUsers = ((cosSIMarray2[0][1]*(ratings[1][5]-meanRatings[1])) + (cosSIMarray2[0][2]*(ratings[2][5]-meanRatings[2])))/Zeta\n",
    "print(MeanDeviationOfSimilarUsers)\n",
    "RuserX6 = meanRatings[0]+MeanDeviationOfSimilarUsers\n",
    "DeviationFromMeanUserXMovie6=RuserX6-meanRatings[0]\n",
    "print(RuserX6)"
   ]
  },
  {
   "cell_type": "code",
   "execution_count": 287,
   "metadata": {},
   "outputs": [
    {
     "output_type": "stream",
     "name": "stdout",
     "text": [
      "First Method Result for Rating of User X for movie 0 is 2.130936646454466\nUsing the Second method the rating is now 2.8257653858252327 Thus we calculate the deviation to be-0.17423461417476727\n"
     ]
    }
   ],
   "source": [
    "print('First Method Result for Rating of User X for movie 0 is '+str(sixRating1))\n",
    "print('Using the Second method the rating is now '+str(RuserX6)+\" Thus we calculate the deviation to be\"+ str(DeviationFromMeanUserXMovie6))\n"
   ]
  },
  {
   "source": [
    "## General Observations\n",
    "Using the first method we come to the conclusion than User X is most similar to Users Y and W computing the unknown rating as the weighted average of the rating of these users gave\n",
    "us a rating of 2.130936646454466 for that movie which we can round it down to 2\n",
    "Using the second method we come to the conclusion that this time the most similar users to X are Y and Z computing the unknown rating now results in an average rating of 2.8257653858252327 \n",
    "which can be rounded up to 3!\n",
    "Therefore it can be concluded that it's not always obvious which users are more similar without first normalising the data\n"
   ],
   "cell_type": "markdown",
   "metadata": {}
  }
 ]
}