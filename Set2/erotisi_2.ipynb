{
 "metadata": {
  "language_info": {
   "codemirror_mode": {
    "name": "ipython",
    "version": 3
   },
   "file_extension": ".py",
   "mimetype": "text/x-python",
   "name": "python",
   "nbconvert_exporter": "python",
   "pygments_lexer": "ipython3",
   "version": "3.7.9-final"
  },
  "orig_nbformat": 2,
  "kernelspec": {
   "name": "python38264bit2e6128a1d11048aa86b0baa802303ade",
   "display_name": "Python 3.8.2 64-bit",
   "language": "python"
  }
 },
 "nbformat": 4,
 "nbformat_minor": 2,
 "cells": [
  {
   "source": [
    "# Miltiades Vasiliades 2944\n",
    "## Second Set Data Mining\n",
    "### Winter 2020"
   ],
   "cell_type": "markdown",
   "metadata": {}
  },
  {
   "cell_type": "code",
   "execution_count": 1,
   "metadata": {},
   "outputs": [],
   "source": [
    "import scipy as sp\n",
    "import numpy as np \n",
    "import pandas as pd \n",
    "import scipy.sparse as sp_sparse\n",
    "import scipy.spatial.distance as sp_dist\n",
    "\n",
    "import matplotlib.pyplot as plt\n",
    "\n",
    "import sklearn as sk\n",
    "import sklearn.datasets as sk_data\n",
    "import sklearn.metrics as metrics\n",
    "from sklearn import preprocessing\n",
    "import sklearn.cluster as sk_cluster\n",
    "import sklearn.feature_extraction.text as sk_text\n",
    "\n",
    "import scipy.cluster.hierarchy as hr\n",
    "\n",
    "import seaborn as sns\n",
    "\n",
    "#import json\n",
    "#import ijson\n",
    "import time\n"
   ]
  },
  {
   "cell_type": "code",
   "execution_count": 2,
   "metadata": {},
   "outputs": [],
   "source": [
    "businesses = pd.read_json(path_or_buf='yelp_academic_dataset_business.zip',lines=True,compression='infer')\n",
    "businesses = businesses[businesses['city']=='Toronto']\n",
    "businesses = businesses['business_id'].to_frame()\n",
    "\n",
    "#display(businesses)"
   ]
  },
  {
   "cell_type": "code",
   "execution_count": 3,
   "metadata": {},
   "outputs": [],
   "source": [
    "businesses.to_csv('businessToronto.csv',index=False)"
   ]
  },
  {
   "cell_type": "code",
   "execution_count": 6,
   "metadata": {},
   "outputs": [
    {
     "output_type": "execute_result",
     "data": {
      "text/plain": [
       "                  user_id             business_id  rating\n",
       "0  TZQSUDDcA4ek5gBd6BzcjA  6n_MDeYxU1ihB38be9TkVA     4.0\n",
       "1  TZQSUDDcA4ek5gBd6BzcjA  jo4KmAqlZ7vxjHIP7IIkAw     5.0\n",
       "2  TZQSUDDcA4ek5gBd6BzcjA  dsAcgF6qtZy2m6d_yWCrGQ     4.0\n",
       "3  TZQSUDDcA4ek5gBd6BzcjA  siaRCT2-PkyeXUVKrywcTg     4.0\n",
       "4  TZQSUDDcA4ek5gBd6BzcjA  SGP1jf6k7spXkgwBlhiUVw     5.0"
      ],
      "text/html": "<div>\n<style scoped>\n    .dataframe tbody tr th:only-of-type {\n        vertical-align: middle;\n    }\n\n    .dataframe tbody tr th {\n        vertical-align: top;\n    }\n\n    .dataframe thead th {\n        text-align: right;\n    }\n</style>\n<table border=\"1\" class=\"dataframe\">\n  <thead>\n    <tr style=\"text-align: right;\">\n      <th></th>\n      <th>user_id</th>\n      <th>business_id</th>\n      <th>rating</th>\n    </tr>\n  </thead>\n  <tbody>\n    <tr>\n      <th>0</th>\n      <td>TZQSUDDcA4ek5gBd6BzcjA</td>\n      <td>6n_MDeYxU1ihB38be9TkVA</td>\n      <td>4.0</td>\n    </tr>\n    <tr>\n      <th>1</th>\n      <td>TZQSUDDcA4ek5gBd6BzcjA</td>\n      <td>jo4KmAqlZ7vxjHIP7IIkAw</td>\n      <td>5.0</td>\n    </tr>\n    <tr>\n      <th>2</th>\n      <td>TZQSUDDcA4ek5gBd6BzcjA</td>\n      <td>dsAcgF6qtZy2m6d_yWCrGQ</td>\n      <td>4.0</td>\n    </tr>\n    <tr>\n      <th>3</th>\n      <td>TZQSUDDcA4ek5gBd6BzcjA</td>\n      <td>siaRCT2-PkyeXUVKrywcTg</td>\n      <td>4.0</td>\n    </tr>\n    <tr>\n      <th>4</th>\n      <td>TZQSUDDcA4ek5gBd6BzcjA</td>\n      <td>SGP1jf6k7spXkgwBlhiUVw</td>\n      <td>5.0</td>\n    </tr>\n  </tbody>\n</table>\n</div>"
     },
     "metadata": {},
     "execution_count": 6
    }
   ],
   "source": [
    "pruned = pd.read_csv('pruned_data.csv',header=0,names=['user_id','business_id','rating'])\n",
    "pruned.head()"
   ]
  },
  {
   "cell_type": "code",
   "execution_count": 69,
   "metadata": {},
   "outputs": [
    {
     "output_type": "execute_result",
     "data": {
      "text/plain": [
       "business_id             --SrzpvFLwP_YFwB_Cetow  -0NhdsDJsdarxyDPR523ZQ  \\\n",
       "user_id                                                                  \n",
       "--BumyUHiO_7YsHurb9Hkw                     NaN                     NaN   \n",
       "--Qh8yKWAvIP4V4K8ZPfHA                     NaN                     3.0   \n",
       "--UOvCH5qEgdNQ8lzR8QYQ                     NaN                     NaN   \n",
       "--YhjyV-ce1nFLYxP49C5A                     NaN                     NaN   \n",
       "--cd_gA-9Q8gM9P2cTxEsQ                     NaN                     NaN   \n",
       "\n",
       "business_id             -2TBP3ZGu7M-FmfoNJvbrQ  -2hOglg7Lh8ZgclQJ9ba2w  \\\n",
       "user_id                                                                  \n",
       "--BumyUHiO_7YsHurb9Hkw                     NaN                     NaN   \n",
       "--Qh8yKWAvIP4V4K8ZPfHA                     NaN                     NaN   \n",
       "--UOvCH5qEgdNQ8lzR8QYQ                     NaN                     NaN   \n",
       "--YhjyV-ce1nFLYxP49C5A                     NaN                     NaN   \n",
       "--cd_gA-9Q8gM9P2cTxEsQ                     NaN                     NaN   \n",
       "\n",
       "business_id             -6GJMc_Ln7csmvWWvY2iug  -76didnxGiiMO80BjSpYsQ  \\\n",
       "user_id                                                                  \n",
       "--BumyUHiO_7YsHurb9Hkw                     NaN                     NaN   \n",
       "--Qh8yKWAvIP4V4K8ZPfHA                     NaN                     NaN   \n",
       "--UOvCH5qEgdNQ8lzR8QYQ                     NaN                     NaN   \n",
       "--YhjyV-ce1nFLYxP49C5A                     NaN                     NaN   \n",
       "--cd_gA-9Q8gM9P2cTxEsQ                     NaN                     NaN   \n",
       "\n",
       "business_id             -7BCZH437U5FjmNJ26llkg  -9dmhyBvepc08KPEHlEM0w  \\\n",
       "user_id                                                                  \n",
       "--BumyUHiO_7YsHurb9Hkw                     NaN                     NaN   \n",
       "--Qh8yKWAvIP4V4K8ZPfHA                     NaN                     NaN   \n",
       "--UOvCH5qEgdNQ8lzR8QYQ                     NaN                     NaN   \n",
       "--YhjyV-ce1nFLYxP49C5A                     NaN                     NaN   \n",
       "--cd_gA-9Q8gM9P2cTxEsQ                     NaN                     NaN   \n",
       "\n",
       "business_id             -9u2uFwhlj3Yq4mG5IweoA  -AVRReI-nfsa0lKlehEojw  ...  \\\n",
       "user_id                                                                 ...   \n",
       "--BumyUHiO_7YsHurb9Hkw                     NaN                     NaN  ...   \n",
       "--Qh8yKWAvIP4V4K8ZPfHA                     NaN                     NaN  ...   \n",
       "--UOvCH5qEgdNQ8lzR8QYQ                     NaN                     NaN  ...   \n",
       "--YhjyV-ce1nFLYxP49C5A                     NaN                     NaN  ...   \n",
       "--cd_gA-9Q8gM9P2cTxEsQ                     NaN                     NaN  ...   \n",
       "\n",
       "business_id             zpwl8rQBGrO1XkP1CYBtvg  zqPAwZbi5rS1dyHrKzDpMg  \\\n",
       "user_id                                                                  \n",
       "--BumyUHiO_7YsHurb9Hkw                     NaN                     NaN   \n",
       "--Qh8yKWAvIP4V4K8ZPfHA                     NaN                     NaN   \n",
       "--UOvCH5qEgdNQ8lzR8QYQ                     NaN                     NaN   \n",
       "--YhjyV-ce1nFLYxP49C5A                     NaN                     NaN   \n",
       "--cd_gA-9Q8gM9P2cTxEsQ                     NaN                     NaN   \n",
       "\n",
       "business_id             zqjcp1VwY8WNtiwTvFL1Rw  zrYpLdnGKA_EmOhgRCy_vg  \\\n",
       "user_id                                                                  \n",
       "--BumyUHiO_7YsHurb9Hkw                     NaN                     NaN   \n",
       "--Qh8yKWAvIP4V4K8ZPfHA                     NaN                     4.0   \n",
       "--UOvCH5qEgdNQ8lzR8QYQ                     NaN                     NaN   \n",
       "--YhjyV-ce1nFLYxP49C5A                     NaN                     NaN   \n",
       "--cd_gA-9Q8gM9P2cTxEsQ                     NaN                     NaN   \n",
       "\n",
       "business_id             zu5dqKqPjJCycS5k-92Alg  zvezLicNkf8tTqZyYhP83w  \\\n",
       "user_id                                                                  \n",
       "--BumyUHiO_7YsHurb9Hkw                     NaN                     NaN   \n",
       "--Qh8yKWAvIP4V4K8ZPfHA                     NaN                     NaN   \n",
       "--UOvCH5qEgdNQ8lzR8QYQ                     NaN                     NaN   \n",
       "--YhjyV-ce1nFLYxP49C5A                     NaN                     NaN   \n",
       "--cd_gA-9Q8gM9P2cTxEsQ                     NaN                     NaN   \n",
       "\n",
       "business_id             zvtkeghW0Px5HY9QkJ4INw  zyw5DjrRks7a8OhmBsgCQQ  \\\n",
       "user_id                                                                  \n",
       "--BumyUHiO_7YsHurb9Hkw                     NaN                     NaN   \n",
       "--Qh8yKWAvIP4V4K8ZPfHA                     NaN                     NaN   \n",
       "--UOvCH5qEgdNQ8lzR8QYQ                     NaN                     NaN   \n",
       "--YhjyV-ce1nFLYxP49C5A                     NaN                     NaN   \n",
       "--cd_gA-9Q8gM9P2cTxEsQ                     NaN                     NaN   \n",
       "\n",
       "business_id             zz3CqZhNx2rQ_Yp6zHze-A  zzUj3ej4vm_DtvRxNvWDEw  \n",
       "user_id                                                                 \n",
       "--BumyUHiO_7YsHurb9Hkw                     NaN                     NaN  \n",
       "--Qh8yKWAvIP4V4K8ZPfHA                     NaN                     NaN  \n",
       "--UOvCH5qEgdNQ8lzR8QYQ                     NaN                     NaN  \n",
       "--YhjyV-ce1nFLYxP49C5A                     NaN                     NaN  \n",
       "--cd_gA-9Q8gM9P2cTxEsQ                     NaN                     NaN  \n",
       "\n",
       "[5 rows x 4092 columns]"
      ],
      "text/html": "<div>\n<style scoped>\n    .dataframe tbody tr th:only-of-type {\n        vertical-align: middle;\n    }\n\n    .dataframe tbody tr th {\n        vertical-align: top;\n    }\n\n    .dataframe thead th {\n        text-align: right;\n    }\n</style>\n<table border=\"1\" class=\"dataframe\">\n  <thead>\n    <tr style=\"text-align: right;\">\n      <th>business_id</th>\n      <th>--SrzpvFLwP_YFwB_Cetow</th>\n      <th>-0NhdsDJsdarxyDPR523ZQ</th>\n      <th>-2TBP3ZGu7M-FmfoNJvbrQ</th>\n      <th>-2hOglg7Lh8ZgclQJ9ba2w</th>\n      <th>-6GJMc_Ln7csmvWWvY2iug</th>\n      <th>-76didnxGiiMO80BjSpYsQ</th>\n      <th>-7BCZH437U5FjmNJ26llkg</th>\n      <th>-9dmhyBvepc08KPEHlEM0w</th>\n      <th>-9u2uFwhlj3Yq4mG5IweoA</th>\n      <th>-AVRReI-nfsa0lKlehEojw</th>\n      <th>...</th>\n      <th>zpwl8rQBGrO1XkP1CYBtvg</th>\n      <th>zqPAwZbi5rS1dyHrKzDpMg</th>\n      <th>zqjcp1VwY8WNtiwTvFL1Rw</th>\n      <th>zrYpLdnGKA_EmOhgRCy_vg</th>\n      <th>zu5dqKqPjJCycS5k-92Alg</th>\n      <th>zvezLicNkf8tTqZyYhP83w</th>\n      <th>zvtkeghW0Px5HY9QkJ4INw</th>\n      <th>zyw5DjrRks7a8OhmBsgCQQ</th>\n      <th>zz3CqZhNx2rQ_Yp6zHze-A</th>\n      <th>zzUj3ej4vm_DtvRxNvWDEw</th>\n    </tr>\n    <tr>\n      <th>user_id</th>\n      <th></th>\n      <th></th>\n      <th></th>\n      <th></th>\n      <th></th>\n      <th></th>\n      <th></th>\n      <th></th>\n      <th></th>\n      <th></th>\n      <th></th>\n      <th></th>\n      <th></th>\n      <th></th>\n      <th></th>\n      <th></th>\n      <th></th>\n      <th></th>\n      <th></th>\n      <th></th>\n      <th></th>\n    </tr>\n  </thead>\n  <tbody>\n    <tr>\n      <th>--BumyUHiO_7YsHurb9Hkw</th>\n      <td>NaN</td>\n      <td>NaN</td>\n      <td>NaN</td>\n      <td>NaN</td>\n      <td>NaN</td>\n      <td>NaN</td>\n      <td>NaN</td>\n      <td>NaN</td>\n      <td>NaN</td>\n      <td>NaN</td>\n      <td>...</td>\n      <td>NaN</td>\n      <td>NaN</td>\n      <td>NaN</td>\n      <td>NaN</td>\n      <td>NaN</td>\n      <td>NaN</td>\n      <td>NaN</td>\n      <td>NaN</td>\n      <td>NaN</td>\n      <td>NaN</td>\n    </tr>\n    <tr>\n      <th>--Qh8yKWAvIP4V4K8ZPfHA</th>\n      <td>NaN</td>\n      <td>3.0</td>\n      <td>NaN</td>\n      <td>NaN</td>\n      <td>NaN</td>\n      <td>NaN</td>\n      <td>NaN</td>\n      <td>NaN</td>\n      <td>NaN</td>\n      <td>NaN</td>\n      <td>...</td>\n      <td>NaN</td>\n      <td>NaN</td>\n      <td>NaN</td>\n      <td>4.0</td>\n      <td>NaN</td>\n      <td>NaN</td>\n      <td>NaN</td>\n      <td>NaN</td>\n      <td>NaN</td>\n      <td>NaN</td>\n    </tr>\n    <tr>\n      <th>--UOvCH5qEgdNQ8lzR8QYQ</th>\n      <td>NaN</td>\n      <td>NaN</td>\n      <td>NaN</td>\n      <td>NaN</td>\n      <td>NaN</td>\n      <td>NaN</td>\n      <td>NaN</td>\n      <td>NaN</td>\n      <td>NaN</td>\n      <td>NaN</td>\n      <td>...</td>\n      <td>NaN</td>\n      <td>NaN</td>\n      <td>NaN</td>\n      <td>NaN</td>\n      <td>NaN</td>\n      <td>NaN</td>\n      <td>NaN</td>\n      <td>NaN</td>\n      <td>NaN</td>\n      <td>NaN</td>\n    </tr>\n    <tr>\n      <th>--YhjyV-ce1nFLYxP49C5A</th>\n      <td>NaN</td>\n      <td>NaN</td>\n      <td>NaN</td>\n      <td>NaN</td>\n      <td>NaN</td>\n      <td>NaN</td>\n      <td>NaN</td>\n      <td>NaN</td>\n      <td>NaN</td>\n      <td>NaN</td>\n      <td>...</td>\n      <td>NaN</td>\n      <td>NaN</td>\n      <td>NaN</td>\n      <td>NaN</td>\n      <td>NaN</td>\n      <td>NaN</td>\n      <td>NaN</td>\n      <td>NaN</td>\n      <td>NaN</td>\n      <td>NaN</td>\n    </tr>\n    <tr>\n      <th>--cd_gA-9Q8gM9P2cTxEsQ</th>\n      <td>NaN</td>\n      <td>NaN</td>\n      <td>NaN</td>\n      <td>NaN</td>\n      <td>NaN</td>\n      <td>NaN</td>\n      <td>NaN</td>\n      <td>NaN</td>\n      <td>NaN</td>\n      <td>NaN</td>\n      <td>...</td>\n      <td>NaN</td>\n      <td>NaN</td>\n      <td>NaN</td>\n      <td>NaN</td>\n      <td>NaN</td>\n      <td>NaN</td>\n      <td>NaN</td>\n      <td>NaN</td>\n      <td>NaN</td>\n      <td>NaN</td>\n    </tr>\n  </tbody>\n</table>\n<p>5 rows × 4092 columns</p>\n</div>"
     },
     "metadata": {},
     "execution_count": 69
    }
   ],
   "source": [
    "R = pruned.pivot_table(index='user_id',columns='business_id',values='rating')\n",
    "R.head()"
   ]
  },
  {
   "cell_type": "code",
   "execution_count": 70,
   "metadata": {},
   "outputs": [],
   "source": [
    "#seed = round(time.time())\n",
    "seed = 10\n",
    "random_st = np.random.seed(seed)\n",
    "to_be_Zeroed = round(len(R.index)*0.05)\n",
    "random_ratings = R.sample(frac=0.05,replace=False, random_state=random_st,axis=0)\n",
    "random_sample_index = np.random.choice(R.index, to_be_Zeroed, replace=False)\n",
    "#R.replace(to_replace=random_sample_index,value=None,inplace=True)\n",
    "R.loc[random_sample_index]=np.nan\n",
    "#R.head()\n",
    "#display(random_ratings)"
   ]
  },
  {
   "cell_type": "code",
   "execution_count": 75,
   "metadata": {},
   "outputs": [],
   "source": [
    "\n",
    "R = R.to_numpy(na_value=0)\n",
    "random_ratings = random_ratings.to_numpy(na_value=0)"
   ]
  },
  {
   "cell_type": "code",
   "execution_count": 76,
   "metadata": {},
   "outputs": [
    {
     "output_type": "display_data",
     "data": {
      "text/plain": "array([[ 0.        , 58.33523806, 35.73513677, ..., 34.10278581,\n        31.30495168, 33.45145737],\n       [58.33523806,  0.        , 58.94064811, ..., 56.93856338,\n        55.57877293, 57.14892825],\n       [35.73513677, 58.94064811,  0.        , ..., 33.7934905 ,\n        30.96772513, 32.52691193],\n       ...,\n       [34.10278581, 56.93856338, 33.7934905 , ...,  0.        ,\n        28.37252192, 30.72458299],\n       [31.30495168, 55.57877293, 30.96772513, ..., 28.37252192,\n         0.        , 27.03701167],\n       [33.45145737, 57.14892825, 32.52691193, ..., 30.72458299,\n        27.03701167,  0.        ]])"
     },
     "metadata": {}
    }
   ],
   "source": [
    "\n",
    "distances = metrics.pairwise.pairwise_distances(R,metric = 'euclidean',force_all_finite='allow-nan')\n",
    "display(distances)"
   ]
  },
  {
   "cell_type": "code",
   "execution_count": null,
   "metadata": {},
   "outputs": [],
   "source": []
  }
 ]
}