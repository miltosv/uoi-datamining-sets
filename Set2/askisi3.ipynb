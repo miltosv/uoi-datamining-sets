{
 "metadata": {
  "language_info": {
   "codemirror_mode": {
    "name": "ipython",
    "version": 3
   },
   "file_extension": ".py",
   "mimetype": "text/x-python",
   "name": "python",
   "nbconvert_exporter": "python",
   "pygments_lexer": "ipython3",
   "version": "3.7.9-final"
  },
  "orig_nbformat": 2,
  "kernelspec": {
   "name": "python3",
   "display_name": "Python 3",
   "language": "python"
  }
 },
 "nbformat": 4,
 "nbformat_minor": 2,
 "cells": [
  {
   "cell_type": "code",
   "execution_count": 53,
   "metadata": {},
   "outputs": [],
   "source": [
    "import pandas as pd \n",
    "import numpy as np \n",
    "import scipy as sp\n",
    "import sklearn\n",
    "import glob\n",
    "import json\n",
    "\n",
    "import sklearn as sk\n",
    "import sklearn.datasets as sk_data\n",
    "import sklearn.metrics as metrics\n",
    "from sklearn import preprocessing\n",
    "import sklearn.cluster as sk_cluster\n",
    "import sklearn.feature_extraction.text as sk_text\n",
    "\n",
    "\n",
    "import scipy.cluster.hierarchy as hr\n",
    "\n",
    "\n",
    "from string import digits\n",
    "import matplotlib.pyplot as plt\n",
    "from sklearn import preprocessing"
   ]
  },
  {
   "cell_type": "code",
   "execution_count": 2,
   "metadata": {},
   "outputs": [],
   "source": [
    "interesting_categories=[\"Beauty & Spas\",\"Shopping\",\"Bars\"]\n"
   ]
  },
  {
   "cell_type": "code",
   "execution_count": 2,
   "metadata": {
    "tags": []
   },
   "outputs": [],
   "source": [
    "data = []\n",
    "for file in glob.glob('yelp_academic_dataset_business.json'):\n",
    "    with open(file,encoding='utf8',errors='ignore') as f:\n",
    "        for line in f:\n",
    "            these_categories = [json.loads(line)['categories']]\n",
    "            #print(any(x in these_categories for x in interesting_categories))\n",
    "            #print(these_categories)\n",
    "            if json.loads(line)['city'] == 'Toronto' and (any(x in these_categories for x in interesting_categories)) and json.loads(line)['review_count']>=10:\n",
    "                data.append(json.loads(line))"
   ]
  },
  {
   "cell_type": "code",
   "execution_count": 3,
   "metadata": {},
   "outputs": [],
   "source": [
    "df = pd.DataFrame(data)"
   ]
  },
  {
   "cell_type": "code",
   "execution_count": 4,
   "metadata": {},
   "outputs": [],
   "source": [
    "df.drop(columns=['address','city','state','postal_code','latitude','longitude','is_open','hours','attributes','stars'],inplace=True)"
   ]
  },
  {
   "cell_type": "code",
   "execution_count": 5,
   "metadata": {},
   "outputs": [
    {
     "output_type": "stream",
     "name": "stdout",
     "text": [
      "4\n"
     ]
    },
    {
     "output_type": "display_data",
     "data": {
      "text/plain": "              business_id                                    name  \\\n0  Tk3vY4P-yxWS-GPcRjo50Q                          As You Like It   \n1  -oMzx1o-o62e5tcBmomcng                         Williams Sonoma   \n2  ikRqxe8NlYUJDcw8aalwgQ                         Noori Extension   \n3  KPn03qwAeRo0E_42gHcdew  Lakeview Tower Beauty Salon & Nail Spa   \n\n   review_count     categories  \n0            12       Shopping  \n1            15       Shopping  \n2            13       Shopping  \n3            24  Beauty & Spas  ",
      "text/html": "<div>\n<style scoped>\n    .dataframe tbody tr th:only-of-type {\n        vertical-align: middle;\n    }\n\n    .dataframe tbody tr th {\n        vertical-align: top;\n    }\n\n    .dataframe thead th {\n        text-align: right;\n    }\n</style>\n<table border=\"1\" class=\"dataframe\">\n  <thead>\n    <tr style=\"text-align: right;\">\n      <th></th>\n      <th>business_id</th>\n      <th>name</th>\n      <th>review_count</th>\n      <th>categories</th>\n    </tr>\n  </thead>\n  <tbody>\n    <tr>\n      <th>0</th>\n      <td>Tk3vY4P-yxWS-GPcRjo50Q</td>\n      <td>As You Like It</td>\n      <td>12</td>\n      <td>Shopping</td>\n    </tr>\n    <tr>\n      <th>1</th>\n      <td>-oMzx1o-o62e5tcBmomcng</td>\n      <td>Williams Sonoma</td>\n      <td>15</td>\n      <td>Shopping</td>\n    </tr>\n    <tr>\n      <th>2</th>\n      <td>ikRqxe8NlYUJDcw8aalwgQ</td>\n      <td>Noori Extension</td>\n      <td>13</td>\n      <td>Shopping</td>\n    </tr>\n    <tr>\n      <th>3</th>\n      <td>KPn03qwAeRo0E_42gHcdew</td>\n      <td>Lakeview Tower Beauty Salon &amp; Nail Spa</td>\n      <td>24</td>\n      <td>Beauty &amp; Spas</td>\n    </tr>\n  </tbody>\n</table>\n</div>"
     },
     "metadata": {}
    }
   ],
   "source": [
    "print(len(df))\n",
    "display(df)"
   ]
  },
  {
   "cell_type": "code",
   "execution_count": 6,
   "metadata": {},
   "outputs": [],
   "source": [
    "df.set_index('business_id',inplace=True)\n",
    "df.insert(2,'Reviews',value='')"
   ]
  },
  {
   "cell_type": "code",
   "execution_count": 7,
   "metadata": {},
   "outputs": [],
   "source": [
    "\n",
    "\n",
    "#df.at[ikRqxe8NlYUJDcw8aalwgQ,'Reviews']"
   ]
  },
  {
   "cell_type": "code",
   "execution_count": 9,
   "metadata": {},
   "outputs": [],
   "source": [
    "remove_digits = str.maketrans('', '', digits)\n",
    "#s = '12314125134552554gergervv43 dwfeef ewgjpjp34joi3oij3 oij23joij23'\n",
    "#res = s.translate(remove_digits)\n",
    "#print(res)"
   ]
  },
  {
   "cell_type": "code",
   "execution_count": 10,
   "metadata": {},
   "outputs": [],
   "source": [
    "for file in glob.glob('yelp_academic_dataset_review.json'):\n",
    "    with open(file,encoding='utf8',errors='ignore') as f:\n",
    "        for line in f:\n",
    "            indeces = df.index\n",
    "            this_business = json.loads(line)['business_id']\n",
    "            #print(any(x in these_categories for x in interesting_categories))\n",
    "            #print(these_categories)\n",
    "            if this_business in indeces:\n",
    "                read = json.loads(line)['text'].strip()\n",
    "                parsed = read.translate(remove_digits) \n",
    "                df.at[this_business,'Reviews'] += parsed"
   ]
  },
  {
   "cell_type": "code",
   "execution_count": 11,
   "metadata": {},
   "outputs": [
    {
     "output_type": "execute_result",
     "data": {
      "text/plain": [
       "                                                          name  review_count  \\\n",
       "business_id                                                                    \n",
       "Tk3vY4P-yxWS-GPcRjo50Q                          As You Like It            12   \n",
       "-oMzx1o-o62e5tcBmomcng                         Williams Sonoma            15   \n",
       "ikRqxe8NlYUJDcw8aalwgQ                         Noori Extension            13   \n",
       "KPn03qwAeRo0E_42gHcdew  Lakeview Tower Beauty Salon & Nail Spa            24   \n",
       "\n",
       "                                                                  Reviews  \\\n",
       "business_id                                                                 \n",
       "Tk3vY4P-yxWS-GPcRjo50Q  We took a few bridesmaid's dresses and the wed...   \n",
       "-oMzx1o-o62e5tcBmomcng  I liked this place fine, despite other negativ...   \n",
       "ikRqxe8NlYUJDcw8aalwgQ  Terrible experience:(...\\nI am agreed they hav...   \n",
       "KPn03qwAeRo0E_42gHcdew  My go to eyebrow waxing place. Be prepared for...   \n",
       "\n",
       "                           categories  \n",
       "business_id                            \n",
       "Tk3vY4P-yxWS-GPcRjo50Q       Shopping  \n",
       "-oMzx1o-o62e5tcBmomcng       Shopping  \n",
       "ikRqxe8NlYUJDcw8aalwgQ       Shopping  \n",
       "KPn03qwAeRo0E_42gHcdew  Beauty & Spas  "
      ],
      "text/html": "<div>\n<style scoped>\n    .dataframe tbody tr th:only-of-type {\n        vertical-align: middle;\n    }\n\n    .dataframe tbody tr th {\n        vertical-align: top;\n    }\n\n    .dataframe thead th {\n        text-align: right;\n    }\n</style>\n<table border=\"1\" class=\"dataframe\">\n  <thead>\n    <tr style=\"text-align: right;\">\n      <th></th>\n      <th>name</th>\n      <th>review_count</th>\n      <th>Reviews</th>\n      <th>categories</th>\n    </tr>\n    <tr>\n      <th>business_id</th>\n      <th></th>\n      <th></th>\n      <th></th>\n      <th></th>\n    </tr>\n  </thead>\n  <tbody>\n    <tr>\n      <th>Tk3vY4P-yxWS-GPcRjo50Q</th>\n      <td>As You Like It</td>\n      <td>12</td>\n      <td>We took a few bridesmaid's dresses and the wed...</td>\n      <td>Shopping</td>\n    </tr>\n    <tr>\n      <th>-oMzx1o-o62e5tcBmomcng</th>\n      <td>Williams Sonoma</td>\n      <td>15</td>\n      <td>I liked this place fine, despite other negativ...</td>\n      <td>Shopping</td>\n    </tr>\n    <tr>\n      <th>ikRqxe8NlYUJDcw8aalwgQ</th>\n      <td>Noori Extension</td>\n      <td>13</td>\n      <td>Terrible experience:(...\\nI am agreed they hav...</td>\n      <td>Shopping</td>\n    </tr>\n    <tr>\n      <th>KPn03qwAeRo0E_42gHcdew</th>\n      <td>Lakeview Tower Beauty Salon &amp; Nail Spa</td>\n      <td>24</td>\n      <td>My go to eyebrow waxing place. Be prepared for...</td>\n      <td>Beauty &amp; Spas</td>\n    </tr>\n  </tbody>\n</table>\n</div>"
     },
     "metadata": {},
     "execution_count": 11
    }
   ],
   "source": [
    "df.head()"
   ]
  },
  {
   "cell_type": "code",
   "execution_count": 8,
   "metadata": {},
   "outputs": [],
   "source": [
    "#df.to_csv(path_or_buf='askisi3MergedReviews.csv')\n",
    "#df=pd.read_csv('askisi3MergedReviews.csv')\n",
    "#df.head()"
   ]
  },
  {
   "cell_type": "code",
   "execution_count": 42,
   "metadata": {
    "tags": []
   },
   "outputs": [
    {
     "output_type": "stream",
     "name": "stdout",
     "text": [
      "[[0.12839787 0.06419894 0.0962984  0.02624342 0.02624342 0.12839787\n  0.05248684 0.0962984  0.06419894 0.         0.03209947 0.03209947\n  0.03209947 0.03209947 0.06419894 0.         0.03209947 0.10497367\n  0.07873026 0.         0.         0.         0.03209947 0.0962984\n  0.0962984  0.06419894 0.03209947 0.03209947 0.02624342 0.03209947\n  0.06419894 0.0962984  0.03209947 0.20994735 0.         0.03209947\n  0.03209947 0.06419894 0.03209947 0.05248684 0.0962984  0.06419894\n  0.03209947 0.03209947 0.03209947 0.06419894 0.         0.05248684\n  0.10497367 0.10497367 0.         0.06419894 0.03209947 0.06419894\n  0.03209947 0.03209947 0.02624342 0.03209947 0.06419894 0.19259681\n  0.15746051 0.03209947 0.06419894 0.15746051 0.16049734 0.03209947\n  0.03209947 0.03209947 0.03209947 0.15746051 0.06419894 0.\n  0.05248684 0.0962984  0.         0.02624342 0.02624342 0.0962984\n  0.         0.         0.20994735 0.03209947 0.02624342 0.03209947\n  0.05248684 0.0962984  0.03209947 0.06419894 0.03209947 0.02624342\n  0.12839787 0.02624342 0.05248684 0.06419894 0.18370393 0.\n  0.02624342 0.05248684 0.10497367 0.03209947 0.06419894 0.03209947\n  0.10497367 0.06419894 0.02624342 0.07873026 0.02624342 0.10497367\n  0.05248684 0.         0.06419894 0.03209947 0.06419894 0.06419894\n  0.         0.03209947 0.         0.         0.03209947 0.03209947\n  0.05248684 0.02624342 0.         0.12839787 0.05248684 0.06419894\n  0.36740786 0.0962984  0.05248684 0.10497367 0.16049734 0.06419894\n  0.03209947 0.06419894 0.03209947 0.02624342 0.03209947 0.03209947\n  0.         0.10497367 0.12839787 0.07873026 0.07873026 0.03209947\n  0.02624342 0.10497367 0.31492102 0.         0.03209947 0.02624342\n  0.05248684 0.02624342]\n [0.         0.03436018 0.         0.0280917  0.08427509 0.03436018\n  0.0280917  0.         0.         0.03436018 0.         0.03436018\n  0.         0.         0.         0.17180088 0.         0.11236678\n  0.05618339 0.10308053 0.06872035 0.03436018 0.10308053 0.\n  0.         0.03436018 0.10308053 0.         0.08427509 0.17180088\n  0.03436018 0.06872035 0.03436018 0.11236678 0.03436018 0.03436018\n  0.         0.         0.         0.0280917  0.         0.03436018\n  0.         0.         0.06872035 0.         0.06872035 0.11236678\n  0.14045848 0.05618339 0.10308053 0.         0.         0.20616106\n  0.03436018 0.03436018 0.0280917  0.03436018 0.03436018 0.06872035\n  0.11236678 0.03436018 0.03436018 0.11236678 0.03436018 0.03436018\n  0.         0.03436018 0.         0.22473357 0.03436018 0.10308053\n  0.08427509 0.03436018 0.03436018 0.0280917  0.05618339 0.\n  0.03436018 0.10308053 0.05618339 0.         0.05618339 0.\n  0.05618339 0.10308053 0.         0.03436018 0.06872035 0.0280917\n  0.03436018 0.05618339 0.0280917  0.         0.14045848 0.03436018\n  0.0280917  0.08427509 0.16855017 0.         0.         0.03436018\n  0.19664187 0.         0.05618339 0.0280917  0.0280917  0.0280917\n  0.30900865 0.06872035 0.03436018 0.03436018 0.03436018 0.\n  0.06872035 0.06872035 0.20616106 0.03436018 0.44668229 0.06872035\n  0.0280917  0.0280917  0.03436018 0.06872035 0.05618339 0.06872035\n  0.19664187 0.06872035 0.0280917  0.0280917  0.13744071 0.\n  0.         0.         0.         0.14045848 0.         0.\n  0.03436018 0.0280917  0.         0.0280917  0.05618339 0.\n  0.0280917  0.05618339 0.0280917  0.06872035 0.         0.0280917\n  0.0280917  0.05618339]\n [0.05209359 0.         0.0260468  0.04258992 0.04258992 0.\n  0.02129496 0.05209359 0.07814039 0.0260468  0.0260468  0.0260468\n  0.05209359 0.0260468  0.0260468  0.07814039 0.05209359 0.08517985\n  0.08517985 0.05209359 0.05209359 0.05209359 0.05209359 0.07814039\n  0.05209359 0.         0.0260468  0.05209359 0.10647481 0.\n  0.         0.         0.0260468  0.04258992 0.0260468  0.0260468\n  0.0260468  0.05209359 0.0260468  0.02129496 0.07814039 0.0260468\n  0.05209359 0.0260468  0.         0.10418718 0.13023398 0.08517985\n  0.08517985 0.08517985 0.23442116 0.0260468  0.0260468  0.05209359\n  0.         0.         0.02129496 0.         0.         0.\n  0.08517985 0.         0.         0.10647481 0.         0.\n  0.0260468  0.05209359 0.05209359 0.14906474 0.05209359 0.05209359\n  0.02129496 0.         0.0260468  0.04258992 0.06388489 0.0260468\n  0.07814039 0.0260468  0.04258992 0.05209359 0.06388489 0.05209359\n  0.1703597  0.         0.0260468  0.         0.         0.06388489\n  0.         0.02129496 0.57496398 0.0260468  0.12776977 0.0260468\n  0.02129496 0.12776977 0.08517985 0.0260468  0.0260468  0.0260468\n  0.04258992 0.0260468  0.06388489 0.04258992 0.02129496 0.06388489\n  0.12776977 0.05209359 0.05209359 0.         0.0260468  0.0260468\n  0.0260468  0.0260468  0.05209359 0.0260468  0.36465514 0.15628077\n  0.02129496 0.02129496 0.05209359 0.         0.02129496 0.\n  0.04258992 0.         0.12776977 0.08517985 0.         0.05209359\n  0.0260468  0.0260468  0.07814039 0.10647481 0.05209359 0.0260468\n  0.15628077 0.02129496 0.05209359 0.02129496 0.02129496 0.0260468\n  0.02129496 0.06388489 0.08517985 0.0260468  0.05209359 0.06388489\n  0.06388489 0.02129496]\n [0.03933202 0.05899803 0.07866404 0.04823475 0.04823475 0.01966601\n  0.01607825 0.13766207 0.05899803 0.07866404 0.01966601 0.\n  0.03933202 0.01966601 0.07866404 0.11799606 0.03933202 0.01607825\n  0.04823475 0.01966601 0.07866404 0.01966601 0.         0.23599212\n  0.09833005 0.07866404 0.         0.01966601 0.22509552 0.05899803\n  0.01966601 0.03933202 0.         0.01607825 0.05899803 0.\n  0.01966601 0.03933202 0.07866404 0.01607825 0.01966601 0.\n  0.01966601 0.05899803 0.03933202 0.05899803 0.27532414 0.04823475\n  0.12862601 0.11254776 0.1966601  0.01966601 0.01966601 0.\n  0.01966601 0.03933202 0.01607825 0.03933202 0.05899803 0.17699409\n  0.14470426 0.05899803 0.03933202 0.12862601 0.03933202 0.07866404\n  0.03933202 0.         0.07866404 0.11254776 0.         0.05899803\n  0.01607825 0.01966601 0.03933202 0.0321565  0.06431301 0.01966601\n  0.03933202 0.11799606 0.09646951 0.05899803 0.11254776 0.01966601\n  0.01607825 0.03933202 0.03933202 0.03933202 0.09833005 0.0321565\n  0.03933202 0.01607825 0.0321565  0.01966601 0.30548678 0.01966601\n  0.01607825 0.06431301 0.06431301 0.03933202 0.01966601 0.\n  0.0321565  0.03933202 0.0321565  0.04823475 0.0321565  0.04823475\n  0.27333028 0.01966601 0.         0.01966601 0.         0.01966601\n  0.01966601 0.         0.05899803 0.03933202 0.         0.\n  0.09646951 0.0321565  0.01966601 0.03933202 0.01607825 0.01966601\n  0.24117377 0.07866404 0.08039126 0.0321565  0.11799606 0.03933202\n  0.01966601 0.03933202 0.11799606 0.28940853 0.01966601 0.01966601\n  0.09833005 0.08039126 0.11799606 0.04823475 0.0321565  0.01966601\n  0.0321565  0.04823475 0.08039126 0.03933202 0.01966601 0.04823475\n  0.01607825 0.0321565 ]]\n(4, 152)\n\n\n['able', 'amazing', 'asked', 'best', 'better', 'big', 'bit', 'busy', 'came', 'cash', 'charged', 'charging', 'cheap', 'claim', 'coming', 'customer', 'customers', 'day', 'days', 'deal', 'decent', 'decided', 'despite', 'did', 'didn', 'does', 'doesn', 'doing', 'don', 'end', 'especially', 'expect', 'expected', 'experience', 'extremely', 'fair', 'far', 'feel', 'finally', 'fine', 'fix', 'floor', 'free', 'friend', 'friendly', 'gave', 'getting', 'going', 'good', 'got', 'great', 'half', 'having', 'high', 'higher', 'home', 'idea', 'instead', 'isn', 'job', 'just', 'kept', 'kind', 'know', 'ladies', 'lady', 'language', 'leave', 'let', 'like', 'little', 'll', 'location', 'longer', 'look', 'looked', 'looking', 'lot', 'lots', 'love', 'make', 'making', 'money', 'need', 'new', 'nice', 'night', 'old', 'pay', 'people', 'perfect', 'person', 'phone', 'pick', 'place', 'plus', 'poor', 'price', 'prices', 'probably', 'professional', 'purchased', 'quality', 'quite', 'really', 'reasonable', 'rude', 'said', 'service', 'shady', 'shop', 'simple', 'size', 'small', 'smaller', 'sold', 'staff', 'stars', 'store', 'stuff', 'sure', 'tell', 'thing', 'things', 'think', 'thought', 'time', 'times', 'told', 'took', 'try', 'trying', 'turned', 'use', 'used', 've', 'visit', 'waited', 'want', 'wanted', 'wasn', 'way', 'week', 'weekend', 'weeks', 'went', 'work', 'worked', 'working', 'worth', 'wouldn', 'years']\n"
     ]
    }
   ],
   "source": [
    "import sklearn.feature_extraction.text as sk_text\n",
    "vectorizer = sk_text.TfidfVectorizer(stop_words = 'english',#max_features=1000\n",
    "min_df=3)\n",
    "X = vectorizer.fit_transform(df.Reviews)\n",
    "print(X.toarray())\n",
    "print(X.shape)\n",
    "print('\\n')  \n",
    "print (vectorizer.get_feature_names())\n"
   ]
  },
  {
   "cell_type": "code",
   "execution_count": 43,
   "metadata": {},
   "outputs": [
    {
     "output_type": "stream",
     "name": "stdout",
     "text": [
      "[[1.]\n [1.]\n [1.]\n [0.]]\n"
     ]
    }
   ],
   "source": [
    "vectorizer2 = sk_text.TfidfVectorizer(stop_words = 'english',#max_features=1000\n",
    "min_df=3)\n",
    "categ = vectorizer2.fit_transform(df.categories)\n",
    "print(categ.toarray())"
   ]
  },
  {
   "cell_type": "code",
   "execution_count": 44,
   "metadata": {},
   "outputs": [
    {
     "output_type": "stream",
     "name": "stdout",
     "text": [
      "[0 0 0 1]\n"
     ]
    }
   ],
   "source": [
    "k=3\n",
    "kmeansLbls = sk_cluster.KMeans(n_clusters=k, init='k-means++', max_iter=10, n_init=3)\n",
    "kmeansLbls.fit_predict(categ)\n",
    "truelbl = kmeansLbls.labels_\n",
    "print(truelbl)"
   ]
  },
  {
   "cell_type": "code",
   "execution_count": 45,
   "metadata": {},
   "outputs": [
    {
     "output_type": "stream",
     "name": "stdout",
     "text": [
      "[0 2 1 0]\n"
     ]
    }
   ],
   "source": [
    "kmeans = sk_cluster.KMeans(n_clusters=k, init='k-means++', max_iter=10, n_init=3)\n",
    "kmeans.fit_predict(X)\n",
    "kmeans_labels = kmeans.labels_\n",
    "print(kmeans_labels)"
   ]
  },
  {
   "cell_type": "code",
   "execution_count": 46,
   "metadata": {},
   "outputs": [
    {
     "output_type": "stream",
     "name": "stdout",
     "text": [
      "Top terms per cluster:\n",
      "Cluster 0:\n",
      " time\n",
      " place\n",
      " work\n",
      " job\n",
      " did\n",
      " service\n",
      " ve\n",
      " make\n",
      " just\n",
      " know\n",
      "Cluster 1:\n",
      " phone\n",
      " store\n",
      " great\n",
      " new\n",
      " stuff\n",
      " want\n",
      " like\n",
      " getting\n",
      " service\n",
      " price\n",
      "Cluster 2:\n",
      " store\n",
      " service\n",
      " like\n",
      " staff\n",
      " high\n",
      " time\n",
      " quality\n",
      " customer\n",
      " end\n",
      " prices\n"
     ]
    }
   ],
   "source": [
    "print(\"Top terms per cluster:\")\n",
    "asc_order_centroids = kmeans.cluster_centers_.argsort()#[:, ::-1]\n",
    "order_centroids = asc_order_centroids[:,::-1]\n",
    "terms = vectorizer.get_feature_names()\n",
    "for i in range(k):\n",
    "    print (\"Cluster %d:\" % i)\n",
    "    for ind in order_centroids[i, :10]:\n",
    "        print (' %s' % terms[ind])\n",
    "    print"
   ]
  },
  {
   "source": [
    "print()"
   ],
   "cell_type": "markdown",
   "metadata": {}
  },
  {
   "cell_type": "code",
   "execution_count": 48,
   "metadata": {},
   "outputs": [
    {
     "output_type": "execute_result",
     "data": {
      "text/plain": [
       "<matplotlib.collections.QuadMesh at 0x203172b3908>"
      ]
     },
     "metadata": {},
     "execution_count": 48
    },
    {
     "output_type": "display_data",
     "data": {
      "text/plain": "<Figure size 432x288 with 1 Axes>",
      "image/svg+xml": "<?xml version=\"1.0\" encoding=\"utf-8\" standalone=\"no\"?>\r\n<!DOCTYPE svg PUBLIC \"-//W3C//DTD SVG 1.1//EN\"\r\n  \"http://www.w3.org/Graphics/SVG/1.1/DTD/svg11.dtd\">\r\n<!-- Created with matplotlib (https://matplotlib.org/) -->\r\n<svg height=\"252.317344pt\" version=\"1.1\" viewBox=\"0 0 380.054687 252.317344\" width=\"380.054687pt\" xmlns=\"http://www.w3.org/2000/svg\" xmlns:xlink=\"http://www.w3.org/1999/xlink\">\r\n <metadata>\r\n  <rdf:RDF xmlns:cc=\"http://creativecommons.org/ns#\" xmlns:dc=\"http://purl.org/dc/elements/1.1/\" xmlns:rdf=\"http://www.w3.org/1999/02/22-rdf-syntax-ns#\">\r\n   <cc:Work>\r\n    <dc:type rdf:resource=\"http://purl.org/dc/dcmitype/StillImage\"/>\r\n    <dc:date>2020-12-31T20:00:34.425794</dc:date>\r\n    <dc:format>image/svg+xml</dc:format>\r\n    <dc:creator>\r\n     <cc:Agent>\r\n      <dc:title>Matplotlib v3.3.2, https://matplotlib.org/</dc:title>\r\n     </cc:Agent>\r\n    </dc:creator>\r\n   </cc:Work>\r\n  </rdf:RDF>\r\n </metadata>\r\n <defs>\r\n  <style type=\"text/css\">*{stroke-linecap:butt;stroke-linejoin:round;}</style>\r\n </defs>\r\n <g id=\"figure_1\">\r\n  <g id=\"patch_1\">\r\n   <path d=\"M 0 252.317344 \r\nL 380.054687 252.317344 \r\nL 380.054687 0 \r\nL 0 0 \r\nz\r\n\" style=\"fill:none;\"/>\r\n  </g>\r\n  <g id=\"axes_1\">\r\n   <g id=\"patch_2\">\r\n    <path d=\"M 30.103125 228.439219 \r\nL 364.903125 228.439219 \r\nL 364.903125 10.999219 \r\nL 30.103125 10.999219 \r\nz\r\n\" style=\"fill:#ffffff;\"/>\r\n   </g>\r\n   <g id=\"QuadMesh_1\">\r\n    <path clip-path=\"url(#p9bc82b781d)\" d=\"M 30.103125 228.439219 \r\nL 113.803125 228.439219 \r\nL 113.803125 174.079219 \r\nL 30.103125 174.079219 \r\nL 30.103125 228.439219 \r\n\" style=\"fill:#3b4cc0;\"/>\r\n    <path clip-path=\"url(#p9bc82b781d)\" d=\"M 113.803125 228.439219 \r\nL 197.503125 228.439219 \r\nL 197.503125 174.079219 \r\nL 113.803125 174.079219 \r\nL 113.803125 228.439219 \r\n\" style=\"fill:#ee8468;\"/>\r\n    <path clip-path=\"url(#p9bc82b781d)\" d=\"M 197.503125 228.439219 \r\nL 281.203125 228.439219 \r\nL 281.203125 174.079219 \r\nL 197.503125 174.079219 \r\nL 197.503125 228.439219 \r\n\" style=\"fill:#b40426;\"/>\r\n    <path clip-path=\"url(#p9bc82b781d)\" d=\"M 281.203125 228.439219 \r\nL 364.903125 228.439219 \r\nL 364.903125 174.079219 \r\nL 281.203125 174.079219 \r\nL 281.203125 228.439219 \r\n\" style=\"fill:#d65244;\"/>\r\n    <path clip-path=\"url(#p9bc82b781d)\" d=\"M 30.103125 174.079219 \r\nL 113.803125 174.079219 \r\nL 113.803125 119.719219 \r\nL 30.103125 119.719219 \r\nL 30.103125 174.079219 \r\n\" style=\"fill:#ee8468;\"/>\r\n    <path clip-path=\"url(#p9bc82b781d)\" d=\"M 113.803125 174.079219 \r\nL 197.503125 174.079219 \r\nL 197.503125 119.719219 \r\nL 113.803125 119.719219 \r\nL 113.803125 174.079219 \r\n\" style=\"fill:#3b4cc0;\"/>\r\n    <path clip-path=\"url(#p9bc82b781d)\" d=\"M 197.503125 174.079219 \r\nL 281.203125 174.079219 \r\nL 281.203125 119.719219 \r\nL 197.503125 119.719219 \r\nL 197.503125 174.079219 \r\n\" style=\"fill:#d55042;\"/>\r\n    <path clip-path=\"url(#p9bc82b781d)\" d=\"M 281.203125 174.079219 \r\nL 364.903125 174.079219 \r\nL 364.903125 119.719219 \r\nL 281.203125 119.719219 \r\nL 281.203125 174.079219 \r\n\" style=\"fill:#e57058;\"/>\r\n    <path clip-path=\"url(#p9bc82b781d)\" d=\"M 30.103125 119.719219 \r\nL 113.803125 119.719219 \r\nL 113.803125 65.359219 \r\nL 30.103125 65.359219 \r\nL 30.103125 119.719219 \r\n\" style=\"fill:#b40426;\"/>\r\n    <path clip-path=\"url(#p9bc82b781d)\" d=\"M 113.803125 119.719219 \r\nL 197.503125 119.719219 \r\nL 197.503125 65.359219 \r\nL 113.803125 65.359219 \r\nL 113.803125 119.719219 \r\n\" style=\"fill:#d55042;\"/>\r\n    <path clip-path=\"url(#p9bc82b781d)\" d=\"M 197.503125 119.719219 \r\nL 281.203125 119.719219 \r\nL 281.203125 65.359219 \r\nL 197.503125 65.359219 \r\nL 197.503125 119.719219 \r\n\" style=\"fill:#3b4cc0;\"/>\r\n    <path clip-path=\"url(#p9bc82b781d)\" d=\"M 281.203125 119.719219 \r\nL 364.903125 119.719219 \r\nL 364.903125 65.359219 \r\nL 281.203125 65.359219 \r\nL 281.203125 119.719219 \r\n\" style=\"fill:#e36c55;\"/>\r\n    <path clip-path=\"url(#p9bc82b781d)\" d=\"M 30.103125 65.359219 \r\nL 113.803125 65.359219 \r\nL 113.803125 10.999219 \r\nL 30.103125 10.999219 \r\nL 30.103125 65.359219 \r\n\" style=\"fill:#d65244;\"/>\r\n    <path clip-path=\"url(#p9bc82b781d)\" d=\"M 113.803125 65.359219 \r\nL 197.503125 65.359219 \r\nL 197.503125 10.999219 \r\nL 113.803125 10.999219 \r\nL 113.803125 65.359219 \r\n\" style=\"fill:#e57058;\"/>\r\n    <path clip-path=\"url(#p9bc82b781d)\" d=\"M 197.503125 65.359219 \r\nL 281.203125 65.359219 \r\nL 281.203125 10.999219 \r\nL 197.503125 10.999219 \r\nL 197.503125 65.359219 \r\n\" style=\"fill:#e36c55;\"/>\r\n    <path clip-path=\"url(#p9bc82b781d)\" d=\"M 281.203125 65.359219 \r\nL 364.903125 65.359219 \r\nL 364.903125 10.999219 \r\nL 281.203125 10.999219 \r\nL 281.203125 65.359219 \r\n\" style=\"fill:#3b4cc0;\"/>\r\n   </g>\r\n   <g id=\"matplotlib.axis_1\">\r\n    <g id=\"xtick_1\">\r\n     <g id=\"line2d_1\">\r\n      <defs>\r\n       <path d=\"M 0 0 \r\nL 0 3.5 \r\n\" id=\"md1646c01a7\" style=\"stroke:#000000;stroke-width:0.8;\"/>\r\n      </defs>\r\n      <g>\r\n       <use style=\"stroke:#000000;stroke-width:0.8;\" x=\"30.103125\" xlink:href=\"#md1646c01a7\" y=\"228.439219\"/>\r\n      </g>\r\n     </g>\r\n     <g id=\"text_1\">\r\n      <!-- 0.0 -->\r\n      <g transform=\"translate(22.151563 243.037656)scale(0.1 -0.1)\">\r\n       <defs>\r\n        <path d=\"M 31.78125 66.40625 \r\nQ 24.171875 66.40625 20.328125 58.90625 \r\nQ 16.5 51.421875 16.5 36.375 \r\nQ 16.5 21.390625 20.328125 13.890625 \r\nQ 24.171875 6.390625 31.78125 6.390625 \r\nQ 39.453125 6.390625 43.28125 13.890625 \r\nQ 47.125 21.390625 47.125 36.375 \r\nQ 47.125 51.421875 43.28125 58.90625 \r\nQ 39.453125 66.40625 31.78125 66.40625 \r\nz\r\nM 31.78125 74.21875 \r\nQ 44.046875 74.21875 50.515625 64.515625 \r\nQ 56.984375 54.828125 56.984375 36.375 \r\nQ 56.984375 17.96875 50.515625 8.265625 \r\nQ 44.046875 -1.421875 31.78125 -1.421875 \r\nQ 19.53125 -1.421875 13.0625 8.265625 \r\nQ 6.59375 17.96875 6.59375 36.375 \r\nQ 6.59375 54.828125 13.0625 64.515625 \r\nQ 19.53125 74.21875 31.78125 74.21875 \r\nz\r\n\" id=\"DejaVuSans-48\"/>\r\n        <path d=\"M 10.6875 12.40625 \r\nL 21 12.40625 \r\nL 21 0 \r\nL 10.6875 0 \r\nz\r\n\" id=\"DejaVuSans-46\"/>\r\n       </defs>\r\n       <use xlink:href=\"#DejaVuSans-48\"/>\r\n       <use x=\"63.623047\" xlink:href=\"#DejaVuSans-46\"/>\r\n       <use x=\"95.410156\" xlink:href=\"#DejaVuSans-48\"/>\r\n      </g>\r\n     </g>\r\n    </g>\r\n    <g id=\"xtick_2\">\r\n     <g id=\"line2d_2\">\r\n      <g>\r\n       <use style=\"stroke:#000000;stroke-width:0.8;\" x=\"71.953125\" xlink:href=\"#md1646c01a7\" y=\"228.439219\"/>\r\n      </g>\r\n     </g>\r\n     <g id=\"text_2\">\r\n      <!-- 0.5 -->\r\n      <g transform=\"translate(64.001563 243.037656)scale(0.1 -0.1)\">\r\n       <defs>\r\n        <path d=\"M 10.796875 72.90625 \r\nL 49.515625 72.90625 \r\nL 49.515625 64.59375 \r\nL 19.828125 64.59375 \r\nL 19.828125 46.734375 \r\nQ 21.96875 47.46875 24.109375 47.828125 \r\nQ 26.265625 48.1875 28.421875 48.1875 \r\nQ 40.625 48.1875 47.75 41.5 \r\nQ 54.890625 34.8125 54.890625 23.390625 \r\nQ 54.890625 11.625 47.5625 5.09375 \r\nQ 40.234375 -1.421875 26.90625 -1.421875 \r\nQ 22.3125 -1.421875 17.546875 -0.640625 \r\nQ 12.796875 0.140625 7.71875 1.703125 \r\nL 7.71875 11.625 \r\nQ 12.109375 9.234375 16.796875 8.0625 \r\nQ 21.484375 6.890625 26.703125 6.890625 \r\nQ 35.15625 6.890625 40.078125 11.328125 \r\nQ 45.015625 15.765625 45.015625 23.390625 \r\nQ 45.015625 31 40.078125 35.4375 \r\nQ 35.15625 39.890625 26.703125 39.890625 \r\nQ 22.75 39.890625 18.8125 39.015625 \r\nQ 14.890625 38.140625 10.796875 36.28125 \r\nz\r\n\" id=\"DejaVuSans-53\"/>\r\n       </defs>\r\n       <use xlink:href=\"#DejaVuSans-48\"/>\r\n       <use x=\"63.623047\" xlink:href=\"#DejaVuSans-46\"/>\r\n       <use x=\"95.410156\" xlink:href=\"#DejaVuSans-53\"/>\r\n      </g>\r\n     </g>\r\n    </g>\r\n    <g id=\"xtick_3\">\r\n     <g id=\"line2d_3\">\r\n      <g>\r\n       <use style=\"stroke:#000000;stroke-width:0.8;\" x=\"113.803125\" xlink:href=\"#md1646c01a7\" y=\"228.439219\"/>\r\n      </g>\r\n     </g>\r\n     <g id=\"text_3\">\r\n      <!-- 1.0 -->\r\n      <g transform=\"translate(105.851563 243.037656)scale(0.1 -0.1)\">\r\n       <defs>\r\n        <path d=\"M 12.40625 8.296875 \r\nL 28.515625 8.296875 \r\nL 28.515625 63.921875 \r\nL 10.984375 60.40625 \r\nL 10.984375 69.390625 \r\nL 28.421875 72.90625 \r\nL 38.28125 72.90625 \r\nL 38.28125 8.296875 \r\nL 54.390625 8.296875 \r\nL 54.390625 0 \r\nL 12.40625 0 \r\nz\r\n\" id=\"DejaVuSans-49\"/>\r\n       </defs>\r\n       <use xlink:href=\"#DejaVuSans-49\"/>\r\n       <use x=\"63.623047\" xlink:href=\"#DejaVuSans-46\"/>\r\n       <use x=\"95.410156\" xlink:href=\"#DejaVuSans-48\"/>\r\n      </g>\r\n     </g>\r\n    </g>\r\n    <g id=\"xtick_4\">\r\n     <g id=\"line2d_4\">\r\n      <g>\r\n       <use style=\"stroke:#000000;stroke-width:0.8;\" x=\"155.653125\" xlink:href=\"#md1646c01a7\" y=\"228.439219\"/>\r\n      </g>\r\n     </g>\r\n     <g id=\"text_4\">\r\n      <!-- 1.5 -->\r\n      <g transform=\"translate(147.701563 243.037656)scale(0.1 -0.1)\">\r\n       <use xlink:href=\"#DejaVuSans-49\"/>\r\n       <use x=\"63.623047\" xlink:href=\"#DejaVuSans-46\"/>\r\n       <use x=\"95.410156\" xlink:href=\"#DejaVuSans-53\"/>\r\n      </g>\r\n     </g>\r\n    </g>\r\n    <g id=\"xtick_5\">\r\n     <g id=\"line2d_5\">\r\n      <g>\r\n       <use style=\"stroke:#000000;stroke-width:0.8;\" x=\"197.503125\" xlink:href=\"#md1646c01a7\" y=\"228.439219\"/>\r\n      </g>\r\n     </g>\r\n     <g id=\"text_5\">\r\n      <!-- 2.0 -->\r\n      <g transform=\"translate(189.551563 243.037656)scale(0.1 -0.1)\">\r\n       <defs>\r\n        <path d=\"M 19.1875 8.296875 \r\nL 53.609375 8.296875 \r\nL 53.609375 0 \r\nL 7.328125 0 \r\nL 7.328125 8.296875 \r\nQ 12.9375 14.109375 22.625 23.890625 \r\nQ 32.328125 33.6875 34.8125 36.53125 \r\nQ 39.546875 41.84375 41.421875 45.53125 \r\nQ 43.3125 49.21875 43.3125 52.78125 \r\nQ 43.3125 58.59375 39.234375 62.25 \r\nQ 35.15625 65.921875 28.609375 65.921875 \r\nQ 23.96875 65.921875 18.8125 64.3125 \r\nQ 13.671875 62.703125 7.8125 59.421875 \r\nL 7.8125 69.390625 \r\nQ 13.765625 71.78125 18.9375 73 \r\nQ 24.125 74.21875 28.421875 74.21875 \r\nQ 39.75 74.21875 46.484375 68.546875 \r\nQ 53.21875 62.890625 53.21875 53.421875 \r\nQ 53.21875 48.921875 51.53125 44.890625 \r\nQ 49.859375 40.875 45.40625 35.40625 \r\nQ 44.1875 33.984375 37.640625 27.21875 \r\nQ 31.109375 20.453125 19.1875 8.296875 \r\nz\r\n\" id=\"DejaVuSans-50\"/>\r\n       </defs>\r\n       <use xlink:href=\"#DejaVuSans-50\"/>\r\n       <use x=\"63.623047\" xlink:href=\"#DejaVuSans-46\"/>\r\n       <use x=\"95.410156\" xlink:href=\"#DejaVuSans-48\"/>\r\n      </g>\r\n     </g>\r\n    </g>\r\n    <g id=\"xtick_6\">\r\n     <g id=\"line2d_6\">\r\n      <g>\r\n       <use style=\"stroke:#000000;stroke-width:0.8;\" x=\"239.353125\" xlink:href=\"#md1646c01a7\" y=\"228.439219\"/>\r\n      </g>\r\n     </g>\r\n     <g id=\"text_6\">\r\n      <!-- 2.5 -->\r\n      <g transform=\"translate(231.401563 243.037656)scale(0.1 -0.1)\">\r\n       <use xlink:href=\"#DejaVuSans-50\"/>\r\n       <use x=\"63.623047\" xlink:href=\"#DejaVuSans-46\"/>\r\n       <use x=\"95.410156\" xlink:href=\"#DejaVuSans-53\"/>\r\n      </g>\r\n     </g>\r\n    </g>\r\n    <g id=\"xtick_7\">\r\n     <g id=\"line2d_7\">\r\n      <g>\r\n       <use style=\"stroke:#000000;stroke-width:0.8;\" x=\"281.203125\" xlink:href=\"#md1646c01a7\" y=\"228.439219\"/>\r\n      </g>\r\n     </g>\r\n     <g id=\"text_7\">\r\n      <!-- 3.0 -->\r\n      <g transform=\"translate(273.251563 243.037656)scale(0.1 -0.1)\">\r\n       <defs>\r\n        <path d=\"M 40.578125 39.3125 \r\nQ 47.65625 37.796875 51.625 33 \r\nQ 55.609375 28.21875 55.609375 21.1875 \r\nQ 55.609375 10.40625 48.1875 4.484375 \r\nQ 40.765625 -1.421875 27.09375 -1.421875 \r\nQ 22.515625 -1.421875 17.65625 -0.515625 \r\nQ 12.796875 0.390625 7.625 2.203125 \r\nL 7.625 11.71875 \r\nQ 11.71875 9.328125 16.59375 8.109375 \r\nQ 21.484375 6.890625 26.8125 6.890625 \r\nQ 36.078125 6.890625 40.9375 10.546875 \r\nQ 45.796875 14.203125 45.796875 21.1875 \r\nQ 45.796875 27.640625 41.28125 31.265625 \r\nQ 36.765625 34.90625 28.71875 34.90625 \r\nL 20.21875 34.90625 \r\nL 20.21875 43.015625 \r\nL 29.109375 43.015625 \r\nQ 36.375 43.015625 40.234375 45.921875 \r\nQ 44.09375 48.828125 44.09375 54.296875 \r\nQ 44.09375 59.90625 40.109375 62.90625 \r\nQ 36.140625 65.921875 28.71875 65.921875 \r\nQ 24.65625 65.921875 20.015625 65.03125 \r\nQ 15.375 64.15625 9.8125 62.3125 \r\nL 9.8125 71.09375 \r\nQ 15.4375 72.65625 20.34375 73.4375 \r\nQ 25.25 74.21875 29.59375 74.21875 \r\nQ 40.828125 74.21875 47.359375 69.109375 \r\nQ 53.90625 64.015625 53.90625 55.328125 \r\nQ 53.90625 49.265625 50.4375 45.09375 \r\nQ 46.96875 40.921875 40.578125 39.3125 \r\nz\r\n\" id=\"DejaVuSans-51\"/>\r\n       </defs>\r\n       <use xlink:href=\"#DejaVuSans-51\"/>\r\n       <use x=\"63.623047\" xlink:href=\"#DejaVuSans-46\"/>\r\n       <use x=\"95.410156\" xlink:href=\"#DejaVuSans-48\"/>\r\n      </g>\r\n     </g>\r\n    </g>\r\n    <g id=\"xtick_8\">\r\n     <g id=\"line2d_8\">\r\n      <g>\r\n       <use style=\"stroke:#000000;stroke-width:0.8;\" x=\"323.053125\" xlink:href=\"#md1646c01a7\" y=\"228.439219\"/>\r\n      </g>\r\n     </g>\r\n     <g id=\"text_8\">\r\n      <!-- 3.5 -->\r\n      <g transform=\"translate(315.101562 243.037656)scale(0.1 -0.1)\">\r\n       <use xlink:href=\"#DejaVuSans-51\"/>\r\n       <use x=\"63.623047\" xlink:href=\"#DejaVuSans-46\"/>\r\n       <use x=\"95.410156\" xlink:href=\"#DejaVuSans-53\"/>\r\n      </g>\r\n     </g>\r\n    </g>\r\n    <g id=\"xtick_9\">\r\n     <g id=\"line2d_9\">\r\n      <g>\r\n       <use style=\"stroke:#000000;stroke-width:0.8;\" x=\"364.903125\" xlink:href=\"#md1646c01a7\" y=\"228.439219\"/>\r\n      </g>\r\n     </g>\r\n     <g id=\"text_9\">\r\n      <!-- 4.0 -->\r\n      <g transform=\"translate(356.951563 243.037656)scale(0.1 -0.1)\">\r\n       <defs>\r\n        <path d=\"M 37.796875 64.3125 \r\nL 12.890625 25.390625 \r\nL 37.796875 25.390625 \r\nz\r\nM 35.203125 72.90625 \r\nL 47.609375 72.90625 \r\nL 47.609375 25.390625 \r\nL 58.015625 25.390625 \r\nL 58.015625 17.1875 \r\nL 47.609375 17.1875 \r\nL 47.609375 0 \r\nL 37.796875 0 \r\nL 37.796875 17.1875 \r\nL 4.890625 17.1875 \r\nL 4.890625 26.703125 \r\nz\r\n\" id=\"DejaVuSans-52\"/>\r\n       </defs>\r\n       <use xlink:href=\"#DejaVuSans-52\"/>\r\n       <use x=\"63.623047\" xlink:href=\"#DejaVuSans-46\"/>\r\n       <use x=\"95.410156\" xlink:href=\"#DejaVuSans-48\"/>\r\n      </g>\r\n     </g>\r\n    </g>\r\n   </g>\r\n   <g id=\"matplotlib.axis_2\">\r\n    <g id=\"ytick_1\">\r\n     <g id=\"line2d_10\">\r\n      <defs>\r\n       <path d=\"M 0 0 \r\nL -3.5 0 \r\n\" id=\"m3e6ec75160\" style=\"stroke:#000000;stroke-width:0.8;\"/>\r\n      </defs>\r\n      <g>\r\n       <use style=\"stroke:#000000;stroke-width:0.8;\" x=\"30.103125\" xlink:href=\"#m3e6ec75160\" y=\"228.439219\"/>\r\n      </g>\r\n     </g>\r\n     <g id=\"text_10\">\r\n      <!-- 0.0 -->\r\n      <g transform=\"translate(7.2 232.238437)scale(0.1 -0.1)\">\r\n       <use xlink:href=\"#DejaVuSans-48\"/>\r\n       <use x=\"63.623047\" xlink:href=\"#DejaVuSans-46\"/>\r\n       <use x=\"95.410156\" xlink:href=\"#DejaVuSans-48\"/>\r\n      </g>\r\n     </g>\r\n    </g>\r\n    <g id=\"ytick_2\">\r\n     <g id=\"line2d_11\">\r\n      <g>\r\n       <use style=\"stroke:#000000;stroke-width:0.8;\" x=\"30.103125\" xlink:href=\"#m3e6ec75160\" y=\"201.259219\"/>\r\n      </g>\r\n     </g>\r\n     <g id=\"text_11\">\r\n      <!-- 0.5 -->\r\n      <g transform=\"translate(7.2 205.058437)scale(0.1 -0.1)\">\r\n       <use xlink:href=\"#DejaVuSans-48\"/>\r\n       <use x=\"63.623047\" xlink:href=\"#DejaVuSans-46\"/>\r\n       <use x=\"95.410156\" xlink:href=\"#DejaVuSans-53\"/>\r\n      </g>\r\n     </g>\r\n    </g>\r\n    <g id=\"ytick_3\">\r\n     <g id=\"line2d_12\">\r\n      <g>\r\n       <use style=\"stroke:#000000;stroke-width:0.8;\" x=\"30.103125\" xlink:href=\"#m3e6ec75160\" y=\"174.079219\"/>\r\n      </g>\r\n     </g>\r\n     <g id=\"text_12\">\r\n      <!-- 1.0 -->\r\n      <g transform=\"translate(7.2 177.878437)scale(0.1 -0.1)\">\r\n       <use xlink:href=\"#DejaVuSans-49\"/>\r\n       <use x=\"63.623047\" xlink:href=\"#DejaVuSans-46\"/>\r\n       <use x=\"95.410156\" xlink:href=\"#DejaVuSans-48\"/>\r\n      </g>\r\n     </g>\r\n    </g>\r\n    <g id=\"ytick_4\">\r\n     <g id=\"line2d_13\">\r\n      <g>\r\n       <use style=\"stroke:#000000;stroke-width:0.8;\" x=\"30.103125\" xlink:href=\"#m3e6ec75160\" y=\"146.899219\"/>\r\n      </g>\r\n     </g>\r\n     <g id=\"text_13\">\r\n      <!-- 1.5 -->\r\n      <g transform=\"translate(7.2 150.698437)scale(0.1 -0.1)\">\r\n       <use xlink:href=\"#DejaVuSans-49\"/>\r\n       <use x=\"63.623047\" xlink:href=\"#DejaVuSans-46\"/>\r\n       <use x=\"95.410156\" xlink:href=\"#DejaVuSans-53\"/>\r\n      </g>\r\n     </g>\r\n    </g>\r\n    <g id=\"ytick_5\">\r\n     <g id=\"line2d_14\">\r\n      <g>\r\n       <use style=\"stroke:#000000;stroke-width:0.8;\" x=\"30.103125\" xlink:href=\"#m3e6ec75160\" y=\"119.719219\"/>\r\n      </g>\r\n     </g>\r\n     <g id=\"text_14\">\r\n      <!-- 2.0 -->\r\n      <g transform=\"translate(7.2 123.518437)scale(0.1 -0.1)\">\r\n       <use xlink:href=\"#DejaVuSans-50\"/>\r\n       <use x=\"63.623047\" xlink:href=\"#DejaVuSans-46\"/>\r\n       <use x=\"95.410156\" xlink:href=\"#DejaVuSans-48\"/>\r\n      </g>\r\n     </g>\r\n    </g>\r\n    <g id=\"ytick_6\">\r\n     <g id=\"line2d_15\">\r\n      <g>\r\n       <use style=\"stroke:#000000;stroke-width:0.8;\" x=\"30.103125\" xlink:href=\"#m3e6ec75160\" y=\"92.539219\"/>\r\n      </g>\r\n     </g>\r\n     <g id=\"text_15\">\r\n      <!-- 2.5 -->\r\n      <g transform=\"translate(7.2 96.338437)scale(0.1 -0.1)\">\r\n       <use xlink:href=\"#DejaVuSans-50\"/>\r\n       <use x=\"63.623047\" xlink:href=\"#DejaVuSans-46\"/>\r\n       <use x=\"95.410156\" xlink:href=\"#DejaVuSans-53\"/>\r\n      </g>\r\n     </g>\r\n    </g>\r\n    <g id=\"ytick_7\">\r\n     <g id=\"line2d_16\">\r\n      <g>\r\n       <use style=\"stroke:#000000;stroke-width:0.8;\" x=\"30.103125\" xlink:href=\"#m3e6ec75160\" y=\"65.359219\"/>\r\n      </g>\r\n     </g>\r\n     <g id=\"text_16\">\r\n      <!-- 3.0 -->\r\n      <g transform=\"translate(7.2 69.158437)scale(0.1 -0.1)\">\r\n       <use xlink:href=\"#DejaVuSans-51\"/>\r\n       <use x=\"63.623047\" xlink:href=\"#DejaVuSans-46\"/>\r\n       <use x=\"95.410156\" xlink:href=\"#DejaVuSans-48\"/>\r\n      </g>\r\n     </g>\r\n    </g>\r\n    <g id=\"ytick_8\">\r\n     <g id=\"line2d_17\">\r\n      <g>\r\n       <use style=\"stroke:#000000;stroke-width:0.8;\" x=\"30.103125\" xlink:href=\"#m3e6ec75160\" y=\"38.179219\"/>\r\n      </g>\r\n     </g>\r\n     <g id=\"text_17\">\r\n      <!-- 3.5 -->\r\n      <g transform=\"translate(7.2 41.978437)scale(0.1 -0.1)\">\r\n       <use xlink:href=\"#DejaVuSans-51\"/>\r\n       <use x=\"63.623047\" xlink:href=\"#DejaVuSans-46\"/>\r\n       <use x=\"95.410156\" xlink:href=\"#DejaVuSans-53\"/>\r\n      </g>\r\n     </g>\r\n    </g>\r\n    <g id=\"ytick_9\">\r\n     <g id=\"line2d_18\">\r\n      <g>\r\n       <use style=\"stroke:#000000;stroke-width:0.8;\" x=\"30.103125\" xlink:href=\"#m3e6ec75160\" y=\"10.999219\"/>\r\n      </g>\r\n     </g>\r\n     <g id=\"text_18\">\r\n      <!-- 4.0 -->\r\n      <g transform=\"translate(7.2 14.798437)scale(0.1 -0.1)\">\r\n       <use xlink:href=\"#DejaVuSans-52\"/>\r\n       <use x=\"63.623047\" xlink:href=\"#DejaVuSans-46\"/>\r\n       <use x=\"95.410156\" xlink:href=\"#DejaVuSans-48\"/>\r\n      </g>\r\n     </g>\r\n    </g>\r\n   </g>\r\n   <g id=\"patch_3\">\r\n    <path d=\"M 30.103125 228.439219 \r\nL 30.103125 10.999219 \r\n\" style=\"fill:none;stroke:#000000;stroke-linecap:square;stroke-linejoin:miter;stroke-width:0.8;\"/>\r\n   </g>\r\n   <g id=\"patch_4\">\r\n    <path d=\"M 364.903125 228.439219 \r\nL 364.903125 10.999219 \r\n\" style=\"fill:none;stroke:#000000;stroke-linecap:square;stroke-linejoin:miter;stroke-width:0.8;\"/>\r\n   </g>\r\n   <g id=\"patch_5\">\r\n    <path d=\"M 30.103125 228.439219 \r\nL 364.903125 228.439219 \r\n\" style=\"fill:none;stroke:#000000;stroke-linecap:square;stroke-linejoin:miter;stroke-width:0.8;\"/>\r\n   </g>\r\n   <g id=\"patch_6\">\r\n    <path d=\"M 30.103125 10.999219 \r\nL 364.903125 10.999219 \r\n\" style=\"fill:none;stroke:#000000;stroke-linecap:square;stroke-linejoin:miter;stroke-width:0.8;\"/>\r\n   </g>\r\n  </g>\r\n </g>\r\n <defs>\r\n  <clipPath id=\"p9bc82b781d\">\r\n   <rect height=\"217.44\" width=\"334.8\" x=\"30.103125\" y=\"10.999219\"/>\r\n  </clipPath>\r\n </defs>\r\n</svg>\r\n",
      "image/png": "[encoded data removed]"
     },
     "metadata": {
      "needs_background": "light"
     }
    }
   ],
   "source": [
    "import sklearn.metrics as metrics\n",
    "\n",
    "idx = np.argsort(kmeans_labels) # returns the indices in sorted order\n",
    "rX = X[idx,:]\n",
    "r_euclid = metrics.euclidean_distances(rX)\n",
    "#r_euclid = euclidean_dists[idx,:][:,idx]\n",
    "plt.pcolormesh(r_euclid,cmap=plt.cm.coolwarm)"
   ]
  },
  {
   "source": [
    "import sklearn.feature_extraction.text as sk_text\n",
    "corpus = df.categories\n",
    "vect = sk_text.CountVectorizer(min_df=1)\n",
    "Xcat = vect.fit_transform(corpus)\n",
    "print(Xcat.toarray())  \n",
    "vect.get_feature_names()"
   ],
   "cell_type": "markdown",
   "metadata": {}
  },
  {
   "source": [
    "dictionary = df.to_dict\n",
    "display(dictionary)\n",
    "from sklearn.feature_extraction import DictVectorizer\n",
    "vec = DictVectorizer()\n",
    "print(type(vec.fit_transform(dictionary)))\n",
    "print(vec.fit_transform(dictionary).toarray())\n",
    "vec.get_feature_names()"
   ],
   "cell_type": "markdown",
   "metadata": {}
  },
  {
   "cell_type": "code",
   "execution_count": 54,
   "metadata": {},
   "outputs": [
    {
     "output_type": "error",
     "ename": "NameError",
     "evalue": "name 'cluster_class_mapping' is not defined",
     "traceback": [
      "\u001b[1;31m---------------------------------------------------------------------------\u001b[0m",
      "\u001b[1;31mNameError\u001b[0m                                 Traceback (most recent call last)",
      "\u001b[1;32m<ipython-input-54-cf5123030cd1>\u001b[0m in \u001b[0;36m<module>\u001b[1;34m\u001b[0m\n\u001b[0;32m      9\u001b[0m \u001b[0mC\u001b[0m \u001b[1;33m=\u001b[0m \u001b[0mmetrics\u001b[0m\u001b[1;33m.\u001b[0m\u001b[0mconfusion_matrix\u001b[0m\u001b[1;33m(\u001b[0m\u001b[0mtruelbl\u001b[0m\u001b[1;33m,\u001b[0m\u001b[0mkmeans\u001b[0m\u001b[1;33m.\u001b[0m\u001b[0mlabels_\u001b[0m\u001b[1;33m)\u001b[0m\u001b[1;33m\u001b[0m\u001b[1;33m\u001b[0m\u001b[0m\n\u001b[0;32m     10\u001b[0m \u001b[1;33m\u001b[0m\u001b[0m\n\u001b[1;32m---> 11\u001b[1;33m \u001b[0mmapped_kmeans_labels\u001b[0m\u001b[1;33m,\u001b[0m\u001b[0mC\u001b[0m \u001b[1;33m=\u001b[0m \u001b[0mcluster_class_mapping\u001b[0m\u001b[1;33m(\u001b[0m\u001b[0mtruelbl\u001b[0m\u001b[1;33m,\u001b[0m\u001b[0mkmeans\u001b[0m\u001b[1;33m.\u001b[0m\u001b[0mlabels_\u001b[0m\u001b[1;33m)\u001b[0m\u001b[1;33m\u001b[0m\u001b[1;33m\u001b[0m\u001b[0m\n\u001b[0m\u001b[0;32m     12\u001b[0m \u001b[0mprint\u001b[0m \u001b[1;33m(\u001b[0m\u001b[0mC\u001b[0m\u001b[1;33m)\u001b[0m\u001b[1;33m\u001b[0m\u001b[1;33m\u001b[0m\u001b[0m\n\u001b[0;32m     13\u001b[0m \u001b[0mp\u001b[0m \u001b[1;33m=\u001b[0m \u001b[0mmetrics\u001b[0m\u001b[1;33m.\u001b[0m\u001b[0mprecision_score\u001b[0m\u001b[1;33m(\u001b[0m\u001b[0mdf\u001b[0m\u001b[1;33m.\u001b[0m\u001b[0mReviews\u001b[0m\u001b[1;33m,\u001b[0m\u001b[0mmapped_kmeans_labels\u001b[0m\u001b[1;33m,\u001b[0m \u001b[0maverage\u001b[0m\u001b[1;33m=\u001b[0m\u001b[1;32mNone\u001b[0m\u001b[1;33m)\u001b[0m\u001b[1;33m\u001b[0m\u001b[1;33m\u001b[0m\u001b[0m\n",
      "\u001b[1;31mNameError\u001b[0m: name 'cluster_class_mapping' is not defined"
     ]
    }
   ],
   "source": [
    "#import sklearn.datasets as sk_data\n",
    "classes = {\n",
    "    0:'Shopping',\n",
    "    1:'Bars',\n",
    "    2:'Beauty & Spas',\n",
    "    \n",
    "}\n",
    "#print(kmeans.labels_)\n",
    "C = metrics.confusion_matrix(truelbl,kmeans.labels_)\n",
    "\n",
    "mapped_kmeans_labels,C = cluster_class_mapping(truelbl,kmeans.labels_)\n",
    "print (C)\n",
    "p = metrics.precision_score(df.Reviews,mapped_kmeans_labels, average=None)\n",
    "print(p)\n",
    "r = metrics.recall_score(df.Reviews,mapped_kmeans_labels, average = None)\n",
    "print(r)"
   ]
  },
  {
   "cell_type": "code",
   "execution_count": 71,
   "metadata": {},
   "outputs": [
    {
     "output_type": "stream",
     "name": "stdout",
     "text": [
      "[1 0 0 2]\n"
     ]
    }
   ],
   "source": [
    "agglo = sk_cluster.AgglomerativeClustering(linkage = 'complete', n_clusters = 3)\n",
    "agglo_labels = agglo.fit_predict(X.toarray())\n",
    "print(agglo_labels)"
   ]
  },
  {
   "cell_type": "code",
   "execution_count": null,
   "metadata": {},
   "outputs": [],
   "source": []
  }
 ]
}