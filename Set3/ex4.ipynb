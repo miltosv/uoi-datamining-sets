{
 "metadata": {
  "language_info": {
   "codemirror_mode": {
    "name": "ipython",
    "version": 3
   },
   "file_extension": ".py",
   "mimetype": "text/x-python",
   "name": "python",
   "nbconvert_exporter": "python",
   "pygments_lexer": "ipython3",
   "version": "3.7.9-final"
  },
  "orig_nbformat": 2,
  "kernelspec": {
   "name": "python3",
   "display_name": "Python 3",
   "language": "python"
  }
 },
 "nbformat": 4,
 "nbformat_minor": 2,
 "cells": [
  {
   "cell_type": "code",
   "execution_count": 1,
   "metadata": {},
   "outputs": [],
   "source": [
    "import networkx as nx\n",
    "import numpy as np\n",
    "import scipy.sparse as sp_sparse\n",
    "\n",
    "import pandas as pd\n",
    "\n",
    "import matplotlib.pyplot as plt\n",
    "#import vispy.plot as plt\n",
    "import sklearn as sk\n",
    "import sklearn.datasets as sk_data\n",
    "import sklearn.metrics as metrics\n",
    "import string as string\n",
    "import sklearn.feature_extraction.text as sk_text\n",
    "from sklearn.metrics.pairwise import cosine_similarity\n",
    "import seaborn as sns\n",
    "import json\n",
    "%matplotlib inline\n",
    "import sklearn.utils as utils\n",
    "from sklearn.model_selection import train_test_split\n",
    "\n",
    "import datetime as dt"
   ]
  },
  {
   "cell_type": "code",
   "execution_count": 2,
   "metadata": {},
   "outputs": [],
   "source": [
    "business={}\n",
    "reviews=[]\n",
    "compression_opts = dict(method='zip',\n",
    "                            archive_name='out.csv')\n",
    "\n",
    "\n"
   ]
  },
  {
   "cell_type": "code",
   "execution_count": 3,
   "metadata": {},
   "outputs": [],
   "source": [
    "friends=nx.Graph()"
   ]
  },
  {
   "cell_type": "code",
   "execution_count": 4,
   "metadata": {},
   "outputs": [],
   "source": [
    "def prune():\n",
    "    global business,reviews\n",
    "    with open('yelp_academic_dataset_business.json',mode='r',encoding='utf-8',errors='ignore') as fbusiness:\n",
    "        for jsonline in fbusiness:\n",
    "            read = json.loads(jsonline)\n",
    "            if read[\"city\"] == \"Toronto\" and read[\"review_count\"] >= 50  :\n",
    "                business[read[\"business_id\"]] = ''\n",
    "                #business.append(read[\"business_id\"])\n",
    "\n",
    "    with open('yelp_academic_dataset_review.json',mode='r',encoding='utf-8',errors='ignore') as freviews:\n",
    "        for jsonline in freviews:\n",
    "            read = json.loads(jsonline)\n",
    "            if read['business_id'] in business:\n",
    "                dct = {\n",
    "                'user_id':read['user_id'],\n",
    "                'business_id':read['business_id'],\n",
    "                #'date':dt.datetime.strptime(read['date'],\"%Y-%m-%d %H:%M:%S\"),\n",
    "                'rating':read['stars']\n",
    "                }\n",
    "                reviews.append(dct)\n",
    "\n",
    "    reviews=pd.DataFrame(reviews)\n",
    "\n",
    "    reviews['freq'] = reviews.groupby('user_id')['user_id'].transform('count')\n",
    "    reviews.drop(reviews.index[reviews['freq'] < 20], inplace = True)\n",
    "    reviews['freq'] = reviews.groupby('business_id')['business_id'].transform('count')\n",
    "    reviews.drop(reviews.index[reviews['freq'] < 50], inplace = True)\n",
    "    reviews['freq'] = reviews.groupby('user_id')['user_id'].transform('count')\n",
    "    reviews.drop(reviews.index[reviews['freq'] < 20], inplace = True)\n",
    "    reviews['freq'] = reviews.groupby('business_id')['business_id'].transform('count')\n",
    "    reviews.drop(reviews.index[reviews['freq'] < 50], inplace = True)\n",
    "    reviews.drop(columns='freq',inplace=True)\n",
    "    del business"
   ]
  },
  {
   "cell_type": "code",
   "execution_count": 5,
   "metadata": {},
   "outputs": [],
   "source": [
    "def save():\n",
    "    global reviews\n",
    "    global compression_opts\n",
    "    reviews.to_csv('prunedex4.zip',index=False,compression=compression_opts)"
   ]
  },
  {
   "cell_type": "code",
   "execution_count": 6,
   "metadata": {},
   "outputs": [],
   "source": [
    "#prune()\n",
    "#save()\n",
    "reviews=pd.read_csv('prunedex4.zip',compression=compression_opts)"
   ]
  },
  {
   "cell_type": "code",
   "execution_count": 7,
   "metadata": {},
   "outputs": [],
   "source": [
    "reviews=pd.pivot_table(reviews,index='user_id',columns='business_id',values='rating')\n",
    "reviews=reviews.astype(pd.SparseDtype(float))"
   ]
  },
  {
   "cell_type": "code",
   "execution_count": 8,
   "metadata": {},
   "outputs": [
    {
     "output_type": "execute_result",
     "data": {
      "text/plain": [
       "business_id             -76didnxGiiMO80BjSpYsQ  -9dmhyBvepc08KPEHlEM0w  \\\n",
       "user_id                                                                  \n",
       "--BumyUHiO_7YsHurb9Hkw                     NaN                     NaN   \n",
       "--Qh8yKWAvIP4V4K8ZPfHA                     NaN                     NaN   \n",
       "--YhjyV-ce1nFLYxP49C5A                     NaN                     NaN   \n",
       "--cd_gA-9Q8gM9P2cTxEsQ                     NaN                     NaN   \n",
       "-1wbglcr6x1qrUbqP1YAIA                     NaN                     NaN   \n",
       "-2kCxY7_aw5hOz7fJnGMbQ                     NaN                     NaN   \n",
       "-2n9u5-z_uKuZZN6wnh5Ow                     NaN                     NaN   \n",
       "-3Kq9ssSot4QizbPYO6ZQQ                     NaN                     NaN   \n",
       "-3PTUP443q6hQESLKSu95w                     NaN                     NaN   \n",
       "-7jOvj4-RK_RCiAjLei1bA                     NaN                     NaN   \n",
       "-9JqNce6qGY2fTepA8XpUg                     NaN                     NaN   \n",
       "-9RU4LuI_TfYgv9rBijJoQ                     NaN                     NaN   \n",
       "-9SoHrhiiUVmx6-MkyR4RA                     NaN                     NaN   \n",
       "-A3_x7rT7YgPTEdfoK1o2g                     NaN                     NaN   \n",
       "-B4Cf2XLkPr9qMlLPHJAlw                     NaN                     NaN   \n",
       "\n",
       "business_id             -9u2uFwhlj3Yq4mG5IweoA  -BbnAc9YEO6pjvJGEtFbVQ  \\\n",
       "user_id                                                                  \n",
       "--BumyUHiO_7YsHurb9Hkw                     NaN                     NaN   \n",
       "--Qh8yKWAvIP4V4K8ZPfHA                     NaN                     NaN   \n",
       "--YhjyV-ce1nFLYxP49C5A                     NaN                     NaN   \n",
       "--cd_gA-9Q8gM9P2cTxEsQ                     NaN                     NaN   \n",
       "-1wbglcr6x1qrUbqP1YAIA                     NaN                     NaN   \n",
       "-2kCxY7_aw5hOz7fJnGMbQ                     NaN                     NaN   \n",
       "-2n9u5-z_uKuZZN6wnh5Ow                     NaN                     NaN   \n",
       "-3Kq9ssSot4QizbPYO6ZQQ                     NaN                     NaN   \n",
       "-3PTUP443q6hQESLKSu95w                     NaN                     NaN   \n",
       "-7jOvj4-RK_RCiAjLei1bA                     NaN                     5.0   \n",
       "-9JqNce6qGY2fTepA8XpUg                     NaN                     NaN   \n",
       "-9RU4LuI_TfYgv9rBijJoQ                     NaN                     NaN   \n",
       "-9SoHrhiiUVmx6-MkyR4RA                     NaN                     NaN   \n",
       "-A3_x7rT7YgPTEdfoK1o2g                     NaN                     NaN   \n",
       "-B4Cf2XLkPr9qMlLPHJAlw                     NaN                     NaN   \n",
       "\n",
       "business_id             -ICGmF2qUVKdvOehVNgPbg  -Ipm_8YXj9UoNNHagCvsNg  \\\n",
       "user_id                                                                  \n",
       "--BumyUHiO_7YsHurb9Hkw                     NaN                     NaN   \n",
       "--Qh8yKWAvIP4V4K8ZPfHA                     NaN                     NaN   \n",
       "--YhjyV-ce1nFLYxP49C5A                     NaN                     NaN   \n",
       "--cd_gA-9Q8gM9P2cTxEsQ                     NaN                     NaN   \n",
       "-1wbglcr6x1qrUbqP1YAIA                     NaN                     NaN   \n",
       "-2kCxY7_aw5hOz7fJnGMbQ                     NaN                     NaN   \n",
       "-2n9u5-z_uKuZZN6wnh5Ow                     NaN                     NaN   \n",
       "-3Kq9ssSot4QizbPYO6ZQQ                     NaN                     NaN   \n",
       "-3PTUP443q6hQESLKSu95w                     3.0                     NaN   \n",
       "-7jOvj4-RK_RCiAjLei1bA                     NaN                     NaN   \n",
       "-9JqNce6qGY2fTepA8XpUg                     NaN                     NaN   \n",
       "-9RU4LuI_TfYgv9rBijJoQ                     4.0                     NaN   \n",
       "-9SoHrhiiUVmx6-MkyR4RA                     NaN                     NaN   \n",
       "-A3_x7rT7YgPTEdfoK1o2g                     NaN                     NaN   \n",
       "-B4Cf2XLkPr9qMlLPHJAlw                     NaN                     NaN   \n",
       "\n",
       "business_id             -J6FVdY9pSgAdFmmalO-pQ  -OxDX2fPQLYi6ChW2Z6xxQ  \\\n",
       "user_id                                                                  \n",
       "--BumyUHiO_7YsHurb9Hkw                     NaN                     NaN   \n",
       "--Qh8yKWAvIP4V4K8ZPfHA                     NaN                     NaN   \n",
       "--YhjyV-ce1nFLYxP49C5A                     NaN                     NaN   \n",
       "--cd_gA-9Q8gM9P2cTxEsQ                     NaN                     NaN   \n",
       "-1wbglcr6x1qrUbqP1YAIA                     NaN                     NaN   \n",
       "-2kCxY7_aw5hOz7fJnGMbQ                     NaN                     NaN   \n",
       "-2n9u5-z_uKuZZN6wnh5Ow                     4.0                     NaN   \n",
       "-3Kq9ssSot4QizbPYO6ZQQ                     NaN                     NaN   \n",
       "-3PTUP443q6hQESLKSu95w                     NaN                     NaN   \n",
       "-7jOvj4-RK_RCiAjLei1bA                     NaN                     NaN   \n",
       "-9JqNce6qGY2fTepA8XpUg                     NaN                     NaN   \n",
       "-9RU4LuI_TfYgv9rBijJoQ                     NaN                     NaN   \n",
       "-9SoHrhiiUVmx6-MkyR4RA                     NaN                     NaN   \n",
       "-A3_x7rT7YgPTEdfoK1o2g                     NaN                     NaN   \n",
       "-B4Cf2XLkPr9qMlLPHJAlw                     NaN                     NaN   \n",
       "\n",
       "business_id             -PL-4fFYPYrOjnNd0lO4Lg  -TjzQsimpriXVYaH3HdtQA  ...  \\\n",
       "user_id                                                                 ...   \n",
       "--BumyUHiO_7YsHurb9Hkw                     NaN                     NaN  ...   \n",
       "--Qh8yKWAvIP4V4K8ZPfHA                     NaN                     NaN  ...   \n",
       "--YhjyV-ce1nFLYxP49C5A                     NaN                     NaN  ...   \n",
       "--cd_gA-9Q8gM9P2cTxEsQ                     NaN                     NaN  ...   \n",
       "-1wbglcr6x1qrUbqP1YAIA                     NaN                     NaN  ...   \n",
       "-2kCxY7_aw5hOz7fJnGMbQ                     NaN                     NaN  ...   \n",
       "-2n9u5-z_uKuZZN6wnh5Ow                     NaN                     NaN  ...   \n",
       "-3Kq9ssSot4QizbPYO6ZQQ                     NaN                     NaN  ...   \n",
       "-3PTUP443q6hQESLKSu95w                     NaN                     NaN  ...   \n",
       "-7jOvj4-RK_RCiAjLei1bA                     NaN                     NaN  ...   \n",
       "-9JqNce6qGY2fTepA8XpUg                     NaN                     NaN  ...   \n",
       "-9RU4LuI_TfYgv9rBijJoQ                     NaN                     NaN  ...   \n",
       "-9SoHrhiiUVmx6-MkyR4RA                     NaN                     NaN  ...   \n",
       "-A3_x7rT7YgPTEdfoK1o2g                     NaN                     NaN  ...   \n",
       "-B4Cf2XLkPr9qMlLPHJAlw                     NaN                     NaN  ...   \n",
       "\n",
       "business_id             zFR99jgMi-qzaJXIx8MXHA  zIfCWjZ0RAe8YVMSPZdOdA  \\\n",
       "user_id                                                                  \n",
       "--BumyUHiO_7YsHurb9Hkw                     NaN                     NaN   \n",
       "--Qh8yKWAvIP4V4K8ZPfHA                     NaN                     NaN   \n",
       "--YhjyV-ce1nFLYxP49C5A                     NaN                     NaN   \n",
       "--cd_gA-9Q8gM9P2cTxEsQ                     NaN                     NaN   \n",
       "-1wbglcr6x1qrUbqP1YAIA                     NaN                     NaN   \n",
       "-2kCxY7_aw5hOz7fJnGMbQ                     NaN                     NaN   \n",
       "-2n9u5-z_uKuZZN6wnh5Ow                     NaN                     NaN   \n",
       "-3Kq9ssSot4QizbPYO6ZQQ                     NaN                     NaN   \n",
       "-3PTUP443q6hQESLKSu95w                     NaN                     NaN   \n",
       "-7jOvj4-RK_RCiAjLei1bA                     NaN                     NaN   \n",
       "-9JqNce6qGY2fTepA8XpUg                     NaN                     NaN   \n",
       "-9RU4LuI_TfYgv9rBijJoQ                     NaN                     NaN   \n",
       "-9SoHrhiiUVmx6-MkyR4RA                     NaN                     NaN   \n",
       "-A3_x7rT7YgPTEdfoK1o2g                     NaN                     NaN   \n",
       "-B4Cf2XLkPr9qMlLPHJAlw                     NaN                     NaN   \n",
       "\n",
       "business_id             z_twvOBwyGNbuxJhsiJofg  zb61eT_ChYctlCXcIqlW6Q  \\\n",
       "user_id                                                                  \n",
       "--BumyUHiO_7YsHurb9Hkw                     NaN                     NaN   \n",
       "--Qh8yKWAvIP4V4K8ZPfHA                     NaN                     NaN   \n",
       "--YhjyV-ce1nFLYxP49C5A                     NaN                     NaN   \n",
       "--cd_gA-9Q8gM9P2cTxEsQ                     5.0                     NaN   \n",
       "-1wbglcr6x1qrUbqP1YAIA                     NaN                     NaN   \n",
       "-2kCxY7_aw5hOz7fJnGMbQ                     NaN                     NaN   \n",
       "-2n9u5-z_uKuZZN6wnh5Ow                     NaN                     NaN   \n",
       "-3Kq9ssSot4QizbPYO6ZQQ                     NaN                     NaN   \n",
       "-3PTUP443q6hQESLKSu95w                     NaN                     NaN   \n",
       "-7jOvj4-RK_RCiAjLei1bA                     NaN                     NaN   \n",
       "-9JqNce6qGY2fTepA8XpUg                     NaN                     NaN   \n",
       "-9RU4LuI_TfYgv9rBijJoQ                     NaN                     NaN   \n",
       "-9SoHrhiiUVmx6-MkyR4RA                     NaN                     3.0   \n",
       "-A3_x7rT7YgPTEdfoK1o2g                     NaN                     NaN   \n",
       "-B4Cf2XLkPr9qMlLPHJAlw                     NaN                     NaN   \n",
       "\n",
       "business_id             zfQ855VX3SMA_54oVSN5Cw  zg5rJfgT4jhzg1d6r2twnA  \\\n",
       "user_id                                                                  \n",
       "--BumyUHiO_7YsHurb9Hkw                     NaN                     NaN   \n",
       "--Qh8yKWAvIP4V4K8ZPfHA                     NaN                     NaN   \n",
       "--YhjyV-ce1nFLYxP49C5A                     NaN                     NaN   \n",
       "--cd_gA-9Q8gM9P2cTxEsQ                     NaN                     NaN   \n",
       "-1wbglcr6x1qrUbqP1YAIA                     NaN                     NaN   \n",
       "-2kCxY7_aw5hOz7fJnGMbQ                     NaN                     NaN   \n",
       "-2n9u5-z_uKuZZN6wnh5Ow                     NaN                     NaN   \n",
       "-3Kq9ssSot4QizbPYO6ZQQ                     NaN                     4.0   \n",
       "-3PTUP443q6hQESLKSu95w                     NaN                     NaN   \n",
       "-7jOvj4-RK_RCiAjLei1bA                     NaN                     NaN   \n",
       "-9JqNce6qGY2fTepA8XpUg                     NaN                     NaN   \n",
       "-9RU4LuI_TfYgv9rBijJoQ                     NaN                     NaN   \n",
       "-9SoHrhiiUVmx6-MkyR4RA                     NaN                     NaN   \n",
       "-A3_x7rT7YgPTEdfoK1o2g                     NaN                     NaN   \n",
       "-B4Cf2XLkPr9qMlLPHJAlw                     NaN                     NaN   \n",
       "\n",
       "business_id             zgQHtqX0gqMw1nlBZl2VnQ  zhoNuaWrB125_LRRVPWMSQ  \\\n",
       "user_id                                                                  \n",
       "--BumyUHiO_7YsHurb9Hkw                     NaN                     NaN   \n",
       "--Qh8yKWAvIP4V4K8ZPfHA                     3.0                     NaN   \n",
       "--YhjyV-ce1nFLYxP49C5A                     NaN                     4.0   \n",
       "--cd_gA-9Q8gM9P2cTxEsQ                     4.0                     NaN   \n",
       "-1wbglcr6x1qrUbqP1YAIA                     NaN                     NaN   \n",
       "-2kCxY7_aw5hOz7fJnGMbQ                     NaN                     NaN   \n",
       "-2n9u5-z_uKuZZN6wnh5Ow                     NaN                     NaN   \n",
       "-3Kq9ssSot4QizbPYO6ZQQ                     NaN                     NaN   \n",
       "-3PTUP443q6hQESLKSu95w                     NaN                     NaN   \n",
       "-7jOvj4-RK_RCiAjLei1bA                     NaN                     NaN   \n",
       "-9JqNce6qGY2fTepA8XpUg                     NaN                     NaN   \n",
       "-9RU4LuI_TfYgv9rBijJoQ                     NaN                     NaN   \n",
       "-9SoHrhiiUVmx6-MkyR4RA                     NaN                     NaN   \n",
       "-A3_x7rT7YgPTEdfoK1o2g                     4.0                     NaN   \n",
       "-B4Cf2XLkPr9qMlLPHJAlw                     2.0                     NaN   \n",
       "\n",
       "business_id             zrYpLdnGKA_EmOhgRCy_vg  zzUj3ej4vm_DtvRxNvWDEw  \n",
       "user_id                                                                 \n",
       "--BumyUHiO_7YsHurb9Hkw                     NaN                     NaN  \n",
       "--Qh8yKWAvIP4V4K8ZPfHA                     4.0                     NaN  \n",
       "--YhjyV-ce1nFLYxP49C5A                     NaN                     NaN  \n",
       "--cd_gA-9Q8gM9P2cTxEsQ                     NaN                     NaN  \n",
       "-1wbglcr6x1qrUbqP1YAIA                     NaN                     NaN  \n",
       "-2kCxY7_aw5hOz7fJnGMbQ                     NaN                     NaN  \n",
       "-2n9u5-z_uKuZZN6wnh5Ow                     NaN                     NaN  \n",
       "-3Kq9ssSot4QizbPYO6ZQQ                     NaN                     NaN  \n",
       "-3PTUP443q6hQESLKSu95w                     NaN                     NaN  \n",
       "-7jOvj4-RK_RCiAjLei1bA                     NaN                     NaN  \n",
       "-9JqNce6qGY2fTepA8XpUg                     NaN                     NaN  \n",
       "-9RU4LuI_TfYgv9rBijJoQ                     NaN                     NaN  \n",
       "-9SoHrhiiUVmx6-MkyR4RA                     NaN                     NaN  \n",
       "-A3_x7rT7YgPTEdfoK1o2g                     NaN                     NaN  \n",
       "-B4Cf2XLkPr9qMlLPHJAlw                     NaN                     NaN  \n",
       "\n",
       "[15 rows x 776 columns]"
      ],
      "text/html": "<div>\n<style scoped>\n    .dataframe tbody tr th:only-of-type {\n        vertical-align: middle;\n    }\n\n    .dataframe tbody tr th {\n        vertical-align: top;\n    }\n\n    .dataframe thead th {\n        text-align: right;\n    }\n</style>\n<table border=\"1\" class=\"dataframe\">\n  <thead>\n    <tr style=\"text-align: right;\">\n      <th>business_id</th>\n      <th>-76didnxGiiMO80BjSpYsQ</th>\n      <th>-9dmhyBvepc08KPEHlEM0w</th>\n      <th>-9u2uFwhlj3Yq4mG5IweoA</th>\n      <th>-BbnAc9YEO6pjvJGEtFbVQ</th>\n      <th>-ICGmF2qUVKdvOehVNgPbg</th>\n      <th>-Ipm_8YXj9UoNNHagCvsNg</th>\n      <th>-J6FVdY9pSgAdFmmalO-pQ</th>\n      <th>-OxDX2fPQLYi6ChW2Z6xxQ</th>\n      <th>-PL-4fFYPYrOjnNd0lO4Lg</th>\n      <th>-TjzQsimpriXVYaH3HdtQA</th>\n      <th>...</th>\n      <th>zFR99jgMi-qzaJXIx8MXHA</th>\n      <th>zIfCWjZ0RAe8YVMSPZdOdA</th>\n      <th>z_twvOBwyGNbuxJhsiJofg</th>\n      <th>zb61eT_ChYctlCXcIqlW6Q</th>\n      <th>zfQ855VX3SMA_54oVSN5Cw</th>\n      <th>zg5rJfgT4jhzg1d6r2twnA</th>\n      <th>zgQHtqX0gqMw1nlBZl2VnQ</th>\n      <th>zhoNuaWrB125_LRRVPWMSQ</th>\n      <th>zrYpLdnGKA_EmOhgRCy_vg</th>\n      <th>zzUj3ej4vm_DtvRxNvWDEw</th>\n    </tr>\n    <tr>\n      <th>user_id</th>\n      <th></th>\n      <th></th>\n      <th></th>\n      <th></th>\n      <th></th>\n      <th></th>\n      <th></th>\n      <th></th>\n      <th></th>\n      <th></th>\n      <th></th>\n      <th></th>\n      <th></th>\n      <th></th>\n      <th></th>\n      <th></th>\n      <th></th>\n      <th></th>\n      <th></th>\n      <th></th>\n      <th></th>\n    </tr>\n  </thead>\n  <tbody>\n    <tr>\n      <th>--BumyUHiO_7YsHurb9Hkw</th>\n      <td>NaN</td>\n      <td>NaN</td>\n      <td>NaN</td>\n      <td>NaN</td>\n      <td>NaN</td>\n      <td>NaN</td>\n      <td>NaN</td>\n      <td>NaN</td>\n      <td>NaN</td>\n      <td>NaN</td>\n      <td>...</td>\n      <td>NaN</td>\n      <td>NaN</td>\n      <td>NaN</td>\n      <td>NaN</td>\n      <td>NaN</td>\n      <td>NaN</td>\n      <td>NaN</td>\n      <td>NaN</td>\n      <td>NaN</td>\n      <td>NaN</td>\n    </tr>\n    <tr>\n      <th>--Qh8yKWAvIP4V4K8ZPfHA</th>\n      <td>NaN</td>\n      <td>NaN</td>\n      <td>NaN</td>\n      <td>NaN</td>\n      <td>NaN</td>\n      <td>NaN</td>\n      <td>NaN</td>\n      <td>NaN</td>\n      <td>NaN</td>\n      <td>NaN</td>\n      <td>...</td>\n      <td>NaN</td>\n      <td>NaN</td>\n      <td>NaN</td>\n      <td>NaN</td>\n      <td>NaN</td>\n      <td>NaN</td>\n      <td>3.0</td>\n      <td>NaN</td>\n      <td>4.0</td>\n      <td>NaN</td>\n    </tr>\n    <tr>\n      <th>--YhjyV-ce1nFLYxP49C5A</th>\n      <td>NaN</td>\n      <td>NaN</td>\n      <td>NaN</td>\n      <td>NaN</td>\n      <td>NaN</td>\n      <td>NaN</td>\n      <td>NaN</td>\n      <td>NaN</td>\n      <td>NaN</td>\n      <td>NaN</td>\n      <td>...</td>\n      <td>NaN</td>\n      <td>NaN</td>\n      <td>NaN</td>\n      <td>NaN</td>\n      <td>NaN</td>\n      <td>NaN</td>\n      <td>NaN</td>\n      <td>4.0</td>\n      <td>NaN</td>\n      <td>NaN</td>\n    </tr>\n    <tr>\n      <th>--cd_gA-9Q8gM9P2cTxEsQ</th>\n      <td>NaN</td>\n      <td>NaN</td>\n      <td>NaN</td>\n      <td>NaN</td>\n      <td>NaN</td>\n      <td>NaN</td>\n      <td>NaN</td>\n      <td>NaN</td>\n      <td>NaN</td>\n      <td>NaN</td>\n      <td>...</td>\n      <td>NaN</td>\n      <td>NaN</td>\n      <td>5.0</td>\n      <td>NaN</td>\n      <td>NaN</td>\n      <td>NaN</td>\n      <td>4.0</td>\n      <td>NaN</td>\n      <td>NaN</td>\n      <td>NaN</td>\n    </tr>\n    <tr>\n      <th>-1wbglcr6x1qrUbqP1YAIA</th>\n      <td>NaN</td>\n      <td>NaN</td>\n      <td>NaN</td>\n      <td>NaN</td>\n      <td>NaN</td>\n      <td>NaN</td>\n      <td>NaN</td>\n      <td>NaN</td>\n      <td>NaN</td>\n      <td>NaN</td>\n      <td>...</td>\n      <td>NaN</td>\n      <td>NaN</td>\n      <td>NaN</td>\n      <td>NaN</td>\n      <td>NaN</td>\n      <td>NaN</td>\n      <td>NaN</td>\n      <td>NaN</td>\n      <td>NaN</td>\n      <td>NaN</td>\n    </tr>\n    <tr>\n      <th>-2kCxY7_aw5hOz7fJnGMbQ</th>\n      <td>NaN</td>\n      <td>NaN</td>\n      <td>NaN</td>\n      <td>NaN</td>\n      <td>NaN</td>\n      <td>NaN</td>\n      <td>NaN</td>\n      <td>NaN</td>\n      <td>NaN</td>\n      <td>NaN</td>\n      <td>...</td>\n      <td>NaN</td>\n      <td>NaN</td>\n      <td>NaN</td>\n      <td>NaN</td>\n      <td>NaN</td>\n      <td>NaN</td>\n      <td>NaN</td>\n      <td>NaN</td>\n      <td>NaN</td>\n      <td>NaN</td>\n    </tr>\n    <tr>\n      <th>-2n9u5-z_uKuZZN6wnh5Ow</th>\n      <td>NaN</td>\n      <td>NaN</td>\n      <td>NaN</td>\n      <td>NaN</td>\n      <td>NaN</td>\n      <td>NaN</td>\n      <td>4.0</td>\n      <td>NaN</td>\n      <td>NaN</td>\n      <td>NaN</td>\n      <td>...</td>\n      <td>NaN</td>\n      <td>NaN</td>\n      <td>NaN</td>\n      <td>NaN</td>\n      <td>NaN</td>\n      <td>NaN</td>\n      <td>NaN</td>\n      <td>NaN</td>\n      <td>NaN</td>\n      <td>NaN</td>\n    </tr>\n    <tr>\n      <th>-3Kq9ssSot4QizbPYO6ZQQ</th>\n      <td>NaN</td>\n      <td>NaN</td>\n      <td>NaN</td>\n      <td>NaN</td>\n      <td>NaN</td>\n      <td>NaN</td>\n      <td>NaN</td>\n      <td>NaN</td>\n      <td>NaN</td>\n      <td>NaN</td>\n      <td>...</td>\n      <td>NaN</td>\n      <td>NaN</td>\n      <td>NaN</td>\n      <td>NaN</td>\n      <td>NaN</td>\n      <td>4.0</td>\n      <td>NaN</td>\n      <td>NaN</td>\n      <td>NaN</td>\n      <td>NaN</td>\n    </tr>\n    <tr>\n      <th>-3PTUP443q6hQESLKSu95w</th>\n      <td>NaN</td>\n      <td>NaN</td>\n      <td>NaN</td>\n      <td>NaN</td>\n      <td>3.0</td>\n      <td>NaN</td>\n      <td>NaN</td>\n      <td>NaN</td>\n      <td>NaN</td>\n      <td>NaN</td>\n      <td>...</td>\n      <td>NaN</td>\n      <td>NaN</td>\n      <td>NaN</td>\n      <td>NaN</td>\n      <td>NaN</td>\n      <td>NaN</td>\n      <td>NaN</td>\n      <td>NaN</td>\n      <td>NaN</td>\n      <td>NaN</td>\n    </tr>\n    <tr>\n      <th>-7jOvj4-RK_RCiAjLei1bA</th>\n      <td>NaN</td>\n      <td>NaN</td>\n      <td>NaN</td>\n      <td>5.0</td>\n      <td>NaN</td>\n      <td>NaN</td>\n      <td>NaN</td>\n      <td>NaN</td>\n      <td>NaN</td>\n      <td>NaN</td>\n      <td>...</td>\n      <td>NaN</td>\n      <td>NaN</td>\n      <td>NaN</td>\n      <td>NaN</td>\n      <td>NaN</td>\n      <td>NaN</td>\n      <td>NaN</td>\n      <td>NaN</td>\n      <td>NaN</td>\n      <td>NaN</td>\n    </tr>\n    <tr>\n      <th>-9JqNce6qGY2fTepA8XpUg</th>\n      <td>NaN</td>\n      <td>NaN</td>\n      <td>NaN</td>\n      <td>NaN</td>\n      <td>NaN</td>\n      <td>NaN</td>\n      <td>NaN</td>\n      <td>NaN</td>\n      <td>NaN</td>\n      <td>NaN</td>\n      <td>...</td>\n      <td>NaN</td>\n      <td>NaN</td>\n      <td>NaN</td>\n      <td>NaN</td>\n      <td>NaN</td>\n      <td>NaN</td>\n      <td>NaN</td>\n      <td>NaN</td>\n      <td>NaN</td>\n      <td>NaN</td>\n    </tr>\n    <tr>\n      <th>-9RU4LuI_TfYgv9rBijJoQ</th>\n      <td>NaN</td>\n      <td>NaN</td>\n      <td>NaN</td>\n      <td>NaN</td>\n      <td>4.0</td>\n      <td>NaN</td>\n      <td>NaN</td>\n      <td>NaN</td>\n      <td>NaN</td>\n      <td>NaN</td>\n      <td>...</td>\n      <td>NaN</td>\n      <td>NaN</td>\n      <td>NaN</td>\n      <td>NaN</td>\n      <td>NaN</td>\n      <td>NaN</td>\n      <td>NaN</td>\n      <td>NaN</td>\n      <td>NaN</td>\n      <td>NaN</td>\n    </tr>\n    <tr>\n      <th>-9SoHrhiiUVmx6-MkyR4RA</th>\n      <td>NaN</td>\n      <td>NaN</td>\n      <td>NaN</td>\n      <td>NaN</td>\n      <td>NaN</td>\n      <td>NaN</td>\n      <td>NaN</td>\n      <td>NaN</td>\n      <td>NaN</td>\n      <td>NaN</td>\n      <td>...</td>\n      <td>NaN</td>\n      <td>NaN</td>\n      <td>NaN</td>\n      <td>3.0</td>\n      <td>NaN</td>\n      <td>NaN</td>\n      <td>NaN</td>\n      <td>NaN</td>\n      <td>NaN</td>\n      <td>NaN</td>\n    </tr>\n    <tr>\n      <th>-A3_x7rT7YgPTEdfoK1o2g</th>\n      <td>NaN</td>\n      <td>NaN</td>\n      <td>NaN</td>\n      <td>NaN</td>\n      <td>NaN</td>\n      <td>NaN</td>\n      <td>NaN</td>\n      <td>NaN</td>\n      <td>NaN</td>\n      <td>NaN</td>\n      <td>...</td>\n      <td>NaN</td>\n      <td>NaN</td>\n      <td>NaN</td>\n      <td>NaN</td>\n      <td>NaN</td>\n      <td>NaN</td>\n      <td>4.0</td>\n      <td>NaN</td>\n      <td>NaN</td>\n      <td>NaN</td>\n    </tr>\n    <tr>\n      <th>-B4Cf2XLkPr9qMlLPHJAlw</th>\n      <td>NaN</td>\n      <td>NaN</td>\n      <td>NaN</td>\n      <td>NaN</td>\n      <td>NaN</td>\n      <td>NaN</td>\n      <td>NaN</td>\n      <td>NaN</td>\n      <td>NaN</td>\n      <td>NaN</td>\n      <td>...</td>\n      <td>NaN</td>\n      <td>NaN</td>\n      <td>NaN</td>\n      <td>NaN</td>\n      <td>NaN</td>\n      <td>NaN</td>\n      <td>2.0</td>\n      <td>NaN</td>\n      <td>NaN</td>\n      <td>NaN</td>\n    </tr>\n  </tbody>\n</table>\n<p>15 rows × 776 columns</p>\n</div>"
     },
     "metadata": {},
     "execution_count": 8
    }
   ],
   "source": [
    "reviews.head(15)"
   ]
  },
  {
   "cell_type": "code",
   "execution_count": 9,
   "metadata": {
    "tags": []
   },
   "outputs": [],
   "source": [
    "def genGraph():\n",
    "    global friends\n",
    "    global reviews\n",
    "    users=set(reviews.index)\n",
    "    with open('yelp_academic_dataset_user.json',mode='r',encoding='utf-8',errors='ignore') as fusers:\n",
    "            for jsonline in fusers:\n",
    "                read = json.loads(jsonline)\n",
    "                uid=read['user_id']\n",
    "                if uid in users:\n",
    "                    fr=read['friends'].split(',')\n",
    "                    [friends.add_edges_from([(uid,x)]) for x in fr]\n",
    "\n",
    "    #nx.write_edgelist(friends,\"friends.adjlist\")"
   ]
  },
  {
   "cell_type": "code",
   "execution_count": 10,
   "metadata": {},
   "outputs": [],
   "source": [
    "genGraph()\n",
    "#friends=nx.read_edgelist(\"friends.adjlist\")"
   ]
  },
  {
   "source": [
    "nx.draw_networkx(friends)"
   ],
   "cell_type": "markdown",
   "metadata": {}
  },
  {
   "cell_type": "code",
   "execution_count": 11,
   "metadata": {
    "tags": []
   },
   "outputs": [],
   "source": [
    "largest_cc = max(nx.connected_components(friends), key=len)\n",
    "#print(largest_cc)\n",
    "friends = nx.subgraph(friends,largest_cc)\n",
    "#nx.draw_networkx(CC_max)"
   ]
  },
  {
   "cell_type": "code",
   "execution_count": 12,
   "metadata": {},
   "outputs": [],
   "source": [
    "reviews = reviews[reviews.index.isin(list(friends))]"
   ]
  },
  {
   "cell_type": "code",
   "execution_count": 13,
   "metadata": {},
   "outputs": [],
   "source": [
    "D_train, D_test= train_test_split(reviews, \n",
    "test_size=0.05,\n",
    "#test_size=50,\n",
    "random_state=2944)"
   ]
  },
  {
   "cell_type": "code",
   "execution_count": 14,
   "metadata": {},
   "outputs": [
    {
     "output_type": "execute_result",
     "data": {
      "text/plain": [
       "business_id             -76didnxGiiMO80BjSpYsQ  -9dmhyBvepc08KPEHlEM0w  \\\n",
       "user_id                                                                  \n",
       "P7EV3yrn1PLHDBX6rF6qIg                     NaN                     NaN   \n",
       "kKsMvWY2OnNDjiDIJ4BzLA                     NaN                     NaN   \n",
       "xecuSgvqSEQ9Fee_zk6WDw                     NaN                     NaN   \n",
       "pR7D2iviWcPvZ_Zk1tJeJg                     NaN                     NaN   \n",
       "jXedsbxoX7EoiJOOBH7DJA                     NaN                     NaN   \n",
       "hYnq9-wO-RzmiTTGMCNJgA                     3.0                     NaN   \n",
       "1HFkcIGKY7-e9vCsc8PX5g                     NaN                     NaN   \n",
       "TJpPDsFGNm_MfO6Z3nqfDA                     4.0                     NaN   \n",
       "NB4-jBvOM5Xt833RxTF5cQ                     NaN                     4.0   \n",
       "CQ67NJigSe5-uBDX3b_CUw                     NaN                     NaN   \n",
       "\n",
       "business_id             -9u2uFwhlj3Yq4mG5IweoA  -BbnAc9YEO6pjvJGEtFbVQ  \\\n",
       "user_id                                                                  \n",
       "P7EV3yrn1PLHDBX6rF6qIg                     2.0                     NaN   \n",
       "kKsMvWY2OnNDjiDIJ4BzLA                     NaN                     NaN   \n",
       "xecuSgvqSEQ9Fee_zk6WDw                     NaN                     NaN   \n",
       "pR7D2iviWcPvZ_Zk1tJeJg                     NaN                     NaN   \n",
       "jXedsbxoX7EoiJOOBH7DJA                     NaN                     NaN   \n",
       "hYnq9-wO-RzmiTTGMCNJgA                     4.0                     NaN   \n",
       "1HFkcIGKY7-e9vCsc8PX5g                     NaN                     NaN   \n",
       "TJpPDsFGNm_MfO6Z3nqfDA                     NaN                     NaN   \n",
       "NB4-jBvOM5Xt833RxTF5cQ                     NaN                     NaN   \n",
       "CQ67NJigSe5-uBDX3b_CUw                     3.0                     4.0   \n",
       "\n",
       "business_id             -ICGmF2qUVKdvOehVNgPbg  -Ipm_8YXj9UoNNHagCvsNg  \\\n",
       "user_id                                                                  \n",
       "P7EV3yrn1PLHDBX6rF6qIg                     NaN                     NaN   \n",
       "kKsMvWY2OnNDjiDIJ4BzLA                     NaN                     NaN   \n",
       "xecuSgvqSEQ9Fee_zk6WDw                     NaN                     NaN   \n",
       "pR7D2iviWcPvZ_Zk1tJeJg                     NaN                     NaN   \n",
       "jXedsbxoX7EoiJOOBH7DJA                     NaN                     NaN   \n",
       "hYnq9-wO-RzmiTTGMCNJgA                     NaN                     NaN   \n",
       "1HFkcIGKY7-e9vCsc8PX5g                     NaN                     NaN   \n",
       "TJpPDsFGNm_MfO6Z3nqfDA                     NaN                     NaN   \n",
       "NB4-jBvOM5Xt833RxTF5cQ                     NaN                     NaN   \n",
       "CQ67NJigSe5-uBDX3b_CUw                     NaN                     NaN   \n",
       "\n",
       "business_id             -J6FVdY9pSgAdFmmalO-pQ  -OxDX2fPQLYi6ChW2Z6xxQ  \\\n",
       "user_id                                                                  \n",
       "P7EV3yrn1PLHDBX6rF6qIg                     NaN                     4.0   \n",
       "kKsMvWY2OnNDjiDIJ4BzLA                     NaN                     NaN   \n",
       "xecuSgvqSEQ9Fee_zk6WDw                     NaN                     NaN   \n",
       "pR7D2iviWcPvZ_Zk1tJeJg                     NaN                     NaN   \n",
       "jXedsbxoX7EoiJOOBH7DJA                     NaN                     NaN   \n",
       "hYnq9-wO-RzmiTTGMCNJgA                     NaN                     NaN   \n",
       "1HFkcIGKY7-e9vCsc8PX5g                     NaN                     NaN   \n",
       "TJpPDsFGNm_MfO6Z3nqfDA                     NaN                     NaN   \n",
       "NB4-jBvOM5Xt833RxTF5cQ                     NaN                     NaN   \n",
       "CQ67NJigSe5-uBDX3b_CUw                     NaN                     NaN   \n",
       "\n",
       "business_id             -PL-4fFYPYrOjnNd0lO4Lg  -TjzQsimpriXVYaH3HdtQA  ...  \\\n",
       "user_id                                                                 ...   \n",
       "P7EV3yrn1PLHDBX6rF6qIg                     NaN                     NaN  ...   \n",
       "kKsMvWY2OnNDjiDIJ4BzLA                     NaN                     NaN  ...   \n",
       "xecuSgvqSEQ9Fee_zk6WDw                     NaN                     NaN  ...   \n",
       "pR7D2iviWcPvZ_Zk1tJeJg                     NaN                     NaN  ...   \n",
       "jXedsbxoX7EoiJOOBH7DJA                     NaN                     NaN  ...   \n",
       "hYnq9-wO-RzmiTTGMCNJgA                     NaN                     NaN  ...   \n",
       "1HFkcIGKY7-e9vCsc8PX5g                     NaN                     NaN  ...   \n",
       "TJpPDsFGNm_MfO6Z3nqfDA                     NaN                     NaN  ...   \n",
       "NB4-jBvOM5Xt833RxTF5cQ                     NaN                     NaN  ...   \n",
       "CQ67NJigSe5-uBDX3b_CUw                     NaN                     NaN  ...   \n",
       "\n",
       "business_id             zFR99jgMi-qzaJXIx8MXHA  zIfCWjZ0RAe8YVMSPZdOdA  \\\n",
       "user_id                                                                  \n",
       "P7EV3yrn1PLHDBX6rF6qIg                     NaN                     NaN   \n",
       "kKsMvWY2OnNDjiDIJ4BzLA                     NaN                     NaN   \n",
       "xecuSgvqSEQ9Fee_zk6WDw                     NaN                     NaN   \n",
       "pR7D2iviWcPvZ_Zk1tJeJg                     NaN                     NaN   \n",
       "jXedsbxoX7EoiJOOBH7DJA                     NaN                     NaN   \n",
       "hYnq9-wO-RzmiTTGMCNJgA                     NaN                     NaN   \n",
       "1HFkcIGKY7-e9vCsc8PX5g                     NaN                     NaN   \n",
       "TJpPDsFGNm_MfO6Z3nqfDA                     NaN                     NaN   \n",
       "NB4-jBvOM5Xt833RxTF5cQ                     NaN                     NaN   \n",
       "CQ67NJigSe5-uBDX3b_CUw                     NaN                     NaN   \n",
       "\n",
       "business_id             z_twvOBwyGNbuxJhsiJofg  zb61eT_ChYctlCXcIqlW6Q  \\\n",
       "user_id                                                                  \n",
       "P7EV3yrn1PLHDBX6rF6qIg                     NaN                     NaN   \n",
       "kKsMvWY2OnNDjiDIJ4BzLA                     NaN                     NaN   \n",
       "xecuSgvqSEQ9Fee_zk6WDw                     NaN                     NaN   \n",
       "pR7D2iviWcPvZ_Zk1tJeJg                     NaN                     NaN   \n",
       "jXedsbxoX7EoiJOOBH7DJA                     NaN                     NaN   \n",
       "hYnq9-wO-RzmiTTGMCNJgA                     NaN                     NaN   \n",
       "1HFkcIGKY7-e9vCsc8PX5g                     NaN                     NaN   \n",
       "TJpPDsFGNm_MfO6Z3nqfDA                     NaN                     NaN   \n",
       "NB4-jBvOM5Xt833RxTF5cQ                     NaN                     NaN   \n",
       "CQ67NJigSe5-uBDX3b_CUw                     NaN                     2.0   \n",
       "\n",
       "business_id             zfQ855VX3SMA_54oVSN5Cw  zg5rJfgT4jhzg1d6r2twnA  \\\n",
       "user_id                                                                  \n",
       "P7EV3yrn1PLHDBX6rF6qIg                     NaN                     NaN   \n",
       "kKsMvWY2OnNDjiDIJ4BzLA                     NaN                     NaN   \n",
       "xecuSgvqSEQ9Fee_zk6WDw                     NaN                     NaN   \n",
       "pR7D2iviWcPvZ_Zk1tJeJg                     NaN                     NaN   \n",
       "jXedsbxoX7EoiJOOBH7DJA                     NaN                     NaN   \n",
       "hYnq9-wO-RzmiTTGMCNJgA                     NaN                     NaN   \n",
       "1HFkcIGKY7-e9vCsc8PX5g                     NaN                     NaN   \n",
       "TJpPDsFGNm_MfO6Z3nqfDA                     NaN                     NaN   \n",
       "NB4-jBvOM5Xt833RxTF5cQ                     NaN                     NaN   \n",
       "CQ67NJigSe5-uBDX3b_CUw                     NaN                     NaN   \n",
       "\n",
       "business_id             zgQHtqX0gqMw1nlBZl2VnQ  zhoNuaWrB125_LRRVPWMSQ  \\\n",
       "user_id                                                                  \n",
       "P7EV3yrn1PLHDBX6rF6qIg                     NaN                     NaN   \n",
       "kKsMvWY2OnNDjiDIJ4BzLA                     NaN                     NaN   \n",
       "xecuSgvqSEQ9Fee_zk6WDw                     NaN                     NaN   \n",
       "pR7D2iviWcPvZ_Zk1tJeJg                     NaN                     NaN   \n",
       "jXedsbxoX7EoiJOOBH7DJA                     NaN                     NaN   \n",
       "hYnq9-wO-RzmiTTGMCNJgA                     3.0                     NaN   \n",
       "1HFkcIGKY7-e9vCsc8PX5g                     NaN                     NaN   \n",
       "TJpPDsFGNm_MfO6Z3nqfDA                     NaN                     NaN   \n",
       "NB4-jBvOM5Xt833RxTF5cQ                     NaN                     NaN   \n",
       "CQ67NJigSe5-uBDX3b_CUw                     3.0                     NaN   \n",
       "\n",
       "business_id             zrYpLdnGKA_EmOhgRCy_vg  zzUj3ej4vm_DtvRxNvWDEw  \n",
       "user_id                                                                 \n",
       "P7EV3yrn1PLHDBX6rF6qIg                     NaN                     NaN  \n",
       "kKsMvWY2OnNDjiDIJ4BzLA                     NaN                     NaN  \n",
       "xecuSgvqSEQ9Fee_zk6WDw                     NaN                     NaN  \n",
       "pR7D2iviWcPvZ_Zk1tJeJg                     NaN                     NaN  \n",
       "jXedsbxoX7EoiJOOBH7DJA                     NaN                     NaN  \n",
       "hYnq9-wO-RzmiTTGMCNJgA                     NaN                     NaN  \n",
       "1HFkcIGKY7-e9vCsc8PX5g                     NaN                     4.0  \n",
       "TJpPDsFGNm_MfO6Z3nqfDA                     NaN                     4.0  \n",
       "NB4-jBvOM5Xt833RxTF5cQ                     NaN                     3.0  \n",
       "CQ67NJigSe5-uBDX3b_CUw                     NaN                     NaN  \n",
       "\n",
       "[10 rows x 776 columns]"
      ],
      "text/html": "<div>\n<style scoped>\n    .dataframe tbody tr th:only-of-type {\n        vertical-align: middle;\n    }\n\n    .dataframe tbody tr th {\n        vertical-align: top;\n    }\n\n    .dataframe thead th {\n        text-align: right;\n    }\n</style>\n<table border=\"1\" class=\"dataframe\">\n  <thead>\n    <tr style=\"text-align: right;\">\n      <th>business_id</th>\n      <th>-76didnxGiiMO80BjSpYsQ</th>\n      <th>-9dmhyBvepc08KPEHlEM0w</th>\n      <th>-9u2uFwhlj3Yq4mG5IweoA</th>\n      <th>-BbnAc9YEO6pjvJGEtFbVQ</th>\n      <th>-ICGmF2qUVKdvOehVNgPbg</th>\n      <th>-Ipm_8YXj9UoNNHagCvsNg</th>\n      <th>-J6FVdY9pSgAdFmmalO-pQ</th>\n      <th>-OxDX2fPQLYi6ChW2Z6xxQ</th>\n      <th>-PL-4fFYPYrOjnNd0lO4Lg</th>\n      <th>-TjzQsimpriXVYaH3HdtQA</th>\n      <th>...</th>\n      <th>zFR99jgMi-qzaJXIx8MXHA</th>\n      <th>zIfCWjZ0RAe8YVMSPZdOdA</th>\n      <th>z_twvOBwyGNbuxJhsiJofg</th>\n      <th>zb61eT_ChYctlCXcIqlW6Q</th>\n      <th>zfQ855VX3SMA_54oVSN5Cw</th>\n      <th>zg5rJfgT4jhzg1d6r2twnA</th>\n      <th>zgQHtqX0gqMw1nlBZl2VnQ</th>\n      <th>zhoNuaWrB125_LRRVPWMSQ</th>\n      <th>zrYpLdnGKA_EmOhgRCy_vg</th>\n      <th>zzUj3ej4vm_DtvRxNvWDEw</th>\n    </tr>\n    <tr>\n      <th>user_id</th>\n      <th></th>\n      <th></th>\n      <th></th>\n      <th></th>\n      <th></th>\n      <th></th>\n      <th></th>\n      <th></th>\n      <th></th>\n      <th></th>\n      <th></th>\n      <th></th>\n      <th></th>\n      <th></th>\n      <th></th>\n      <th></th>\n      <th></th>\n      <th></th>\n      <th></th>\n      <th></th>\n      <th></th>\n    </tr>\n  </thead>\n  <tbody>\n    <tr>\n      <th>P7EV3yrn1PLHDBX6rF6qIg</th>\n      <td>NaN</td>\n      <td>NaN</td>\n      <td>2.0</td>\n      <td>NaN</td>\n      <td>NaN</td>\n      <td>NaN</td>\n      <td>NaN</td>\n      <td>4.0</td>\n      <td>NaN</td>\n      <td>NaN</td>\n      <td>...</td>\n      <td>NaN</td>\n      <td>NaN</td>\n      <td>NaN</td>\n      <td>NaN</td>\n      <td>NaN</td>\n      <td>NaN</td>\n      <td>NaN</td>\n      <td>NaN</td>\n      <td>NaN</td>\n      <td>NaN</td>\n    </tr>\n    <tr>\n      <th>kKsMvWY2OnNDjiDIJ4BzLA</th>\n      <td>NaN</td>\n      <td>NaN</td>\n      <td>NaN</td>\n      <td>NaN</td>\n      <td>NaN</td>\n      <td>NaN</td>\n      <td>NaN</td>\n      <td>NaN</td>\n      <td>NaN</td>\n      <td>NaN</td>\n      <td>...</td>\n      <td>NaN</td>\n      <td>NaN</td>\n      <td>NaN</td>\n      <td>NaN</td>\n      <td>NaN</td>\n      <td>NaN</td>\n      <td>NaN</td>\n      <td>NaN</td>\n      <td>NaN</td>\n      <td>NaN</td>\n    </tr>\n    <tr>\n      <th>xecuSgvqSEQ9Fee_zk6WDw</th>\n      <td>NaN</td>\n      <td>NaN</td>\n      <td>NaN</td>\n      <td>NaN</td>\n      <td>NaN</td>\n      <td>NaN</td>\n      <td>NaN</td>\n      <td>NaN</td>\n      <td>NaN</td>\n      <td>NaN</td>\n      <td>...</td>\n      <td>NaN</td>\n      <td>NaN</td>\n      <td>NaN</td>\n      <td>NaN</td>\n      <td>NaN</td>\n      <td>NaN</td>\n      <td>NaN</td>\n      <td>NaN</td>\n      <td>NaN</td>\n      <td>NaN</td>\n    </tr>\n    <tr>\n      <th>pR7D2iviWcPvZ_Zk1tJeJg</th>\n      <td>NaN</td>\n      <td>NaN</td>\n      <td>NaN</td>\n      <td>NaN</td>\n      <td>NaN</td>\n      <td>NaN</td>\n      <td>NaN</td>\n      <td>NaN</td>\n      <td>NaN</td>\n      <td>NaN</td>\n      <td>...</td>\n      <td>NaN</td>\n      <td>NaN</td>\n      <td>NaN</td>\n      <td>NaN</td>\n      <td>NaN</td>\n      <td>NaN</td>\n      <td>NaN</td>\n      <td>NaN</td>\n      <td>NaN</td>\n      <td>NaN</td>\n    </tr>\n    <tr>\n      <th>jXedsbxoX7EoiJOOBH7DJA</th>\n      <td>NaN</td>\n      <td>NaN</td>\n      <td>NaN</td>\n      <td>NaN</td>\n      <td>NaN</td>\n      <td>NaN</td>\n      <td>NaN</td>\n      <td>NaN</td>\n      <td>NaN</td>\n      <td>NaN</td>\n      <td>...</td>\n      <td>NaN</td>\n      <td>NaN</td>\n      <td>NaN</td>\n      <td>NaN</td>\n      <td>NaN</td>\n      <td>NaN</td>\n      <td>NaN</td>\n      <td>NaN</td>\n      <td>NaN</td>\n      <td>NaN</td>\n    </tr>\n    <tr>\n      <th>hYnq9-wO-RzmiTTGMCNJgA</th>\n      <td>3.0</td>\n      <td>NaN</td>\n      <td>4.0</td>\n      <td>NaN</td>\n      <td>NaN</td>\n      <td>NaN</td>\n      <td>NaN</td>\n      <td>NaN</td>\n      <td>NaN</td>\n      <td>NaN</td>\n      <td>...</td>\n      <td>NaN</td>\n      <td>NaN</td>\n      <td>NaN</td>\n      <td>NaN</td>\n      <td>NaN</td>\n      <td>NaN</td>\n      <td>3.0</td>\n      <td>NaN</td>\n      <td>NaN</td>\n      <td>NaN</td>\n    </tr>\n    <tr>\n      <th>1HFkcIGKY7-e9vCsc8PX5g</th>\n      <td>NaN</td>\n      <td>NaN</td>\n      <td>NaN</td>\n      <td>NaN</td>\n      <td>NaN</td>\n      <td>NaN</td>\n      <td>NaN</td>\n      <td>NaN</td>\n      <td>NaN</td>\n      <td>NaN</td>\n      <td>...</td>\n      <td>NaN</td>\n      <td>NaN</td>\n      <td>NaN</td>\n      <td>NaN</td>\n      <td>NaN</td>\n      <td>NaN</td>\n      <td>NaN</td>\n      <td>NaN</td>\n      <td>NaN</td>\n      <td>4.0</td>\n    </tr>\n    <tr>\n      <th>TJpPDsFGNm_MfO6Z3nqfDA</th>\n      <td>4.0</td>\n      <td>NaN</td>\n      <td>NaN</td>\n      <td>NaN</td>\n      <td>NaN</td>\n      <td>NaN</td>\n      <td>NaN</td>\n      <td>NaN</td>\n      <td>NaN</td>\n      <td>NaN</td>\n      <td>...</td>\n      <td>NaN</td>\n      <td>NaN</td>\n      <td>NaN</td>\n      <td>NaN</td>\n      <td>NaN</td>\n      <td>NaN</td>\n      <td>NaN</td>\n      <td>NaN</td>\n      <td>NaN</td>\n      <td>4.0</td>\n    </tr>\n    <tr>\n      <th>NB4-jBvOM5Xt833RxTF5cQ</th>\n      <td>NaN</td>\n      <td>4.0</td>\n      <td>NaN</td>\n      <td>NaN</td>\n      <td>NaN</td>\n      <td>NaN</td>\n      <td>NaN</td>\n      <td>NaN</td>\n      <td>NaN</td>\n      <td>NaN</td>\n      <td>...</td>\n      <td>NaN</td>\n      <td>NaN</td>\n      <td>NaN</td>\n      <td>NaN</td>\n      <td>NaN</td>\n      <td>NaN</td>\n      <td>NaN</td>\n      <td>NaN</td>\n      <td>NaN</td>\n      <td>3.0</td>\n    </tr>\n    <tr>\n      <th>CQ67NJigSe5-uBDX3b_CUw</th>\n      <td>NaN</td>\n      <td>NaN</td>\n      <td>3.0</td>\n      <td>4.0</td>\n      <td>NaN</td>\n      <td>NaN</td>\n      <td>NaN</td>\n      <td>NaN</td>\n      <td>NaN</td>\n      <td>NaN</td>\n      <td>...</td>\n      <td>NaN</td>\n      <td>NaN</td>\n      <td>NaN</td>\n      <td>2.0</td>\n      <td>NaN</td>\n      <td>NaN</td>\n      <td>3.0</td>\n      <td>NaN</td>\n      <td>NaN</td>\n      <td>NaN</td>\n    </tr>\n  </tbody>\n</table>\n<p>10 rows × 776 columns</p>\n</div>"
     },
     "metadata": {},
     "execution_count": 14
    }
   ],
   "source": [
    "D_test.head(10)"
   ]
  },
  {
   "cell_type": "code",
   "execution_count": 15,
   "metadata": {},
   "outputs": [
    {
     "output_type": "execute_result",
     "data": {
      "text/plain": [
       "user_id\n",
       "B0Xxo-DtDejGVHQccS1iiA    2.0\n",
       "oLLYmkej2TMHaTbudug5eA    3.0\n",
       "BMmtD4a2uTyFxDJ2qHUbSw    3.0\n",
       "06TjiB7kFn_XnlhxkiEKwQ    3.0\n",
       "SkpCulULgiBfLc4lV8vx2g    3.0\n",
       "                         ... \n",
       "TbhyP24zYZqZ2VJZgu1wrg    4.0\n",
       "VnKj044Tt5doqaVDIJbWsw    4.0\n",
       "jZrbuGRk92uWTu5kHbnDXQ    2.0\n",
       "J77nvoepKNnqTI7fsPAZ9g    3.0\n",
       "on4PBkuSAUi8gqlJHSyefA    4.0\n",
       "Name: -76didnxGiiMO80BjSpYsQ, Length: 67, dtype: Sparse[float64, nan]"
      ]
     },
     "metadata": {},
     "execution_count": 15
    }
   ],
   "source": [
    "D_train[D_train.columns[0]].dropna()"
   ]
  },
  {
   "cell_type": "code",
   "execution_count": 16,
   "metadata": {},
   "outputs": [],
   "source": [
    "#D_test_dict = D_test.reset_index().melt(value_name='rating',id_vars='user_id').dropna().to_dict('records')\n",
    "#D_train_dict = D_train.reset_index().melt(value_name='rating',id_vars='user_id').dropna().to_dict('records')"
   ]
  },
  {
   "source": [
    "for business in D_train.columns:\n",
    "    for user in D_train[business].dropna().index:\n",
    "        friends.nodes[user][business]= D_train.loc[user].at[business]\n",
    "        #print(friends.nodes[user][business])"
   ],
   "cell_type": "markdown",
   "metadata": {}
  },
  {
   "cell_type": "code",
   "execution_count": 17,
   "metadata": {
    "tags": []
   },
   "outputs": [
    {
     "output_type": "stream",
     "name": "stdout",
     "text": [
      "dict_items([])\n"
     ]
    }
   ],
   "source": [
    "print(friends.nodes['VswgrudhENYcAr8KpE4JOw'].items())"
   ]
  },
  {
   "source": [
    "for business in D_test.columns:\n",
    "    for user in D_test[business].dropna().index:\n",
    "        friends.nodes[user][business]['old'] = 0\n",
    "        friends.nodes[user][business] = 0"
   ],
   "cell_type": "markdown",
   "metadata": {}
  },
  {
   "source": [
    "Initialise the values from the train set on the graph. Set the missing values to 0. Value propagation effectively means that missing values on the nodes are calculated by averaging the values between the neighbours, some of the neighbours are absorbing nodes which means they belong to D_train and have a known rating that won't change throughout the whole process"
   ],
   "cell_type": "markdown",
   "metadata": {}
  },
  {
   "cell_type": "code",
   "execution_count": 27,
   "metadata": {},
   "outputs": [],
   "source": [
    "results=[]"
   ]
  },
  {
   "cell_type": "code",
   "execution_count": 31,
   "metadata": {},
   "outputs": [
    {
     "output_type": "error",
     "ename": "NameError",
     "evalue": "name 'karate' is not defined",
     "traceback": [
      "\u001b[1;31m---------------------------------------------------------------------------\u001b[0m",
      "\u001b[1;31mNameError\u001b[0m                                 Traceback (most recent call last)",
      "\u001b[1;32m<ipython-input-31-5c4b50b78749>\u001b[0m in \u001b[0;36m<module>\u001b[1;34m\u001b[0m\n\u001b[0;32m     26\u001b[0m         \u001b[1;32mfor\u001b[0m \u001b[0mx\u001b[0m \u001b[1;32min\u001b[0m \u001b[0mfriends\u001b[0m\u001b[1;33m.\u001b[0m\u001b[0mnodes\u001b[0m\u001b[1;33m:\u001b[0m\u001b[1;33m\u001b[0m\u001b[1;33m\u001b[0m\u001b[0m\n\u001b[0;32m     27\u001b[0m             \u001b[1;32mif\u001b[0m \u001b[0mx\u001b[0m \u001b[1;32mnot\u001b[0m \u001b[1;32min\u001b[0m \u001b[0mabsorbers\u001b[0m\u001b[1;33m:\u001b[0m\u001b[1;33m\u001b[0m\u001b[1;33m\u001b[0m\u001b[0m\n\u001b[1;32m---> 28\u001b[1;33m                 \u001b[0mdiff\u001b[0m \u001b[1;33m=\u001b[0m \u001b[0mmax\u001b[0m\u001b[1;33m(\u001b[0m\u001b[0mdiff\u001b[0m\u001b[1;33m,\u001b[0m \u001b[0mabs\u001b[0m\u001b[1;33m(\u001b[0m\u001b[0mfriends\u001b[0m\u001b[1;33m.\u001b[0m\u001b[0mnodes\u001b[0m\u001b[1;33m[\u001b[0m\u001b[0mx\u001b[0m\u001b[1;33m]\u001b[0m\u001b[1;33m[\u001b[0m\u001b[1;34m'rating'\u001b[0m\u001b[1;33m]\u001b[0m \u001b[1;33m-\u001b[0m \u001b[0mkarate\u001b[0m\u001b[1;33m.\u001b[0m\u001b[0mnodes\u001b[0m\u001b[1;33m[\u001b[0m\u001b[0mx\u001b[0m\u001b[1;33m]\u001b[0m\u001b[1;33m[\u001b[0m\u001b[1;34m'old_r'\u001b[0m\u001b[1;33m]\u001b[0m\u001b[1;33m)\u001b[0m\u001b[1;33m)\u001b[0m\u001b[1;33m\u001b[0m\u001b[1;33m\u001b[0m\u001b[0m\n\u001b[0m\u001b[0;32m     29\u001b[0m         \u001b[1;32mif\u001b[0m \u001b[0mdiff\u001b[0m\u001b[1;33m<=\u001b[0m\u001b[0meps\u001b[0m\u001b[1;33m:\u001b[0m \u001b[1;32mbreak\u001b[0m\u001b[1;33m\u001b[0m\u001b[1;33m\u001b[0m\u001b[0m\n\u001b[0;32m     30\u001b[0m \u001b[1;33m\u001b[0m\u001b[0m\n",
      "\u001b[1;31mNameError\u001b[0m: name 'karate' is not defined"
     ]
    }
   ],
   "source": [
    "eps = 0.0001\n",
    "for business in D_test.columns:\n",
    "    absorbers = D_train[business].dropna().index\n",
    "    '''\n",
    "    for user in absorbers:\n",
    "        friends.nodes[user]['rating']= D_train.loc[user].at[business]\n",
    "        friends.nodes[user]['old_r']= D_train.loc[user].at[business]\n",
    "    for user in D_test[business].dropna() user not in absorbers.any():\n",
    "        friends.nodes[user]['rating'] = 0\n",
    "        friends.nodes[user]['old_r'] = 0\n",
    "    '''\n",
    "    for user in list(friends):\n",
    "        if user in absorbers:\n",
    "            friends.nodes[user]['rating']= D_train.loc[user].at[business]\n",
    "            friends.nodes[user]['old_r']= D_train.loc[user].at[business]\n",
    "        else:\n",
    "           friends.nodes[user]['rating'] = 0\n",
    "           friends.nodes[user]['old_r'] = 0 \n",
    "    while(True):\n",
    "        for(x,y) in friends.edges:\n",
    "            if x not in absorbers:\n",
    "                friends.nodes[x]['rating'] += friends.nodes[y]['old_r'] / friends.degree(y)\n",
    "            if y not in absorbers:\n",
    "                friends.nodes[y]['rating'] += friends.nodes[x]['old_r'] / friends.degree(x)\n",
    "        diff = 0\n",
    "        for x in friends.nodes:\n",
    "            if x not in absorbers:\n",
    "                diff = max(diff, abs(friends.nodes[x]['rating'] - friends.nodes[x]['old_r']))\n",
    "        if diff<=eps: break\n",
    "\n",
    "        for x in friends:\n",
    "            if x not in absorbers:\n",
    "                friends.nodes[x]['old_r'] = friends.nodes[x]['rating']\n",
    "                friends.nodes[x]['rating'] = 0\n",
    "    \n",
    "    print({x:friends.nodes[x]['rating'] for x in friends.nodes})\n",
    "    results.append([{'user_id': x , 'business_id':business, 'rating':friends.nodes[x]['rating']} for x in D_test[business].dropna().index])"
   ]
  },
  {
   "source": [
    "I ran out of time and I'm not sure if the above is correct or falls into some endless loop.\n",
    "~Miltiades Vasiliades 2944"
   ],
   "cell_type": "markdown",
   "metadata": {}
  }
 ]
}