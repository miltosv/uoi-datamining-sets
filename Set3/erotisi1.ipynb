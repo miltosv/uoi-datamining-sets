{
 "metadata": {
  "language_info": {
   "codemirror_mode": {
    "name": "ipython",
    "version": 3
   },
   "file_extension": ".py",
   "mimetype": "text/x-python",
   "name": "python",
   "nbconvert_exporter": "python",
   "pygments_lexer": "ipython3",
   "version": "3.7.9-final"
  },
  "orig_nbformat": 2,
  "kernelspec": {
   "name": "python3",
   "display_name": "Python 3",
   "language": "python"
  }
 },
 "nbformat": 4,
 "nbformat_minor": 2,
 "cells": [
  {
   "cell_type": "code",
   "execution_count": 1,
   "metadata": {},
   "outputs": [],
   "source": [
    "import numpy as np\n",
    "import scipy.sparse as sp_sparse\n",
    "\n",
    "import pandas as pd\n",
    "\n",
    "import matplotlib.pyplot as plt\n",
    "\n",
    "import sklearn as sk\n",
    "import sklearn.datasets as sk_data\n",
    "import sklearn.metrics as metrics\n",
    "import string as string\n",
    "from sklearn import preprocessing\n",
    "import sklearn.feature_extraction.text as sk_text\n",
    "\n",
    "\n",
    "import seaborn as sns\n",
    "import json\n",
    "%matplotlib inline"
   ]
  },
  {
   "cell_type": "code",
   "execution_count": 2,
   "metadata": {},
   "outputs": [],
   "source": [
    "#fbusiness = open('yelp_academic_dataset_business.json',mode='r',encoding='utf-8',errors='ignore')\n",
    "#freviews = open('yelp_academic_dataset_review.json',mode='r',encoding='utf-8',errors='ignore')"
   ]
  },
  {
   "cell_type": "code",
   "execution_count": 3,
   "metadata": {},
   "outputs": [],
   "source": [
    "def remove_nulls(d):\n",
    "    return {k: v for k, v in d.items() if v is not None}"
   ]
  },
  {
   "cell_type": "code",
   "execution_count": 4,
   "metadata": {},
   "outputs": [],
   "source": [
    "from string import digits\n",
    "\n",
    "remove_digits = str.maketrans('', '', digits)"
   ]
  },
  {
   "cell_type": "code",
   "execution_count": 5,
   "metadata": {},
   "outputs": [],
   "source": [
    "categories = [\"Beauty & Spa\",\"Bars\",\"Shopping\"]\n",
    "business=[]\n",
    "with open('yelp_academic_dataset_business.json',mode='r',encoding='utf-8',errors='ignore') as fbusiness:\n",
    "    for jsonline in fbusiness:\n",
    "        read = json.loads(jsonline)\n",
    "        if read['categories'] is None:\n",
    "            continue\n",
    "        if read[\"city\"] == \"Toronto\" and any(item in read[\"categories\"].split(',') for item in categories) and read[\"review_count\"] >= 10  :\n",
    "                business.append(read)\n"
   ]
  },
  {
   "cell_type": "code",
   "execution_count": 6,
   "metadata": {},
   "outputs": [
    {
     "output_type": "execute_result",
     "data": {
      "text/plain": [
       "              business_id                  name  \\\n",
       "0  QgdO29fGB-eBNe1BzHR7YQ  DEQ Terrace & Lounge   \n",
       "1  4yl6W0DCdw2VvSmwgGE8dg  Splendid China Tower   \n",
       "2  OF7N1TA8YEFsD1es84bIWw           Unicorn Pub   \n",
       "3  oQ5IFGtNDyk0jyjWWcow4A            Mobilicity   \n",
       "4  DHQqJfoWQHHwkbiQBaAJlw    Rasputin Vodka Bar   \n",
       "\n",
       "                                        address     city state postal_code  \\\n",
       "0  The Ritz-Carlton, 181 Wellington Street West  Toronto    ON     M5V 3G7   \n",
       "1                         4675 Steeles Avenue E  Toronto    ON     M1V 4S5   \n",
       "2                         175 Eglinton Avenue E  Toronto    ON     M4P 1J4   \n",
       "3                              542 Yonge Street  Toronto    ON     M4Y 1Y8   \n",
       "4                            780 Queen Street E  Toronto    ON     M4M 1H4   \n",
       "\n",
       "    latitude  longitude  stars  review_count  is_open  \\\n",
       "0  43.645413 -79.387295    4.0            68        1   \n",
       "1  43.823871 -79.302422    2.0            10        1   \n",
       "2  43.707984 -79.392185    3.0            28        0   \n",
       "3  43.664301 -79.384314    2.5            14        1   \n",
       "4  43.659426 -79.347496    4.0            22        0   \n",
       "\n",
       "                                          attributes  \\\n",
       "0  {'Alcohol': 'u'full_bar'', 'NoiseLevel': 'u'av...   \n",
       "1  {'BusinessParking': '{'garage': False, 'street...   \n",
       "2  {'HasTV': 'True', 'RestaurantsPriceRange2': '2...   \n",
       "3  {'BusinessParking': '{'garage': False, 'street...   \n",
       "4  {'Alcohol': 'u'full_bar'', 'RestaurantsPriceRa...   \n",
       "\n",
       "                                          categories  \\\n",
       "0  Bars, Lounges, Nightlife, Restaurants, Wine Ba...   \n",
       "1                         Shopping, Shopping Centers   \n",
       "2                              Bars, Pubs, Nightlife   \n",
       "3                            Shopping, Mobile Phones   \n",
       "4                           Bars, Lounges, Nightlife   \n",
       "\n",
       "                                               hours  \n",
       "0  {'Monday': '11:0-1:0', 'Tuesday': '11:0-1:0', ...  \n",
       "1  {'Monday': '10:0-22:0', 'Tuesday': '10:0-22:0'...  \n",
       "2  {'Monday': '11:0-2:0', 'Tuesday': '11:0-2:0', ...  \n",
       "3  {'Monday': '10:0-20:0', 'Tuesday': '10:0-20:0'...  \n",
       "4  {'Tuesday': '17:0-0:0', 'Wednesday': '17:0-0:0...  "
      ],
      "text/html": "<div>\n<style scoped>\n    .dataframe tbody tr th:only-of-type {\n        vertical-align: middle;\n    }\n\n    .dataframe tbody tr th {\n        vertical-align: top;\n    }\n\n    .dataframe thead th {\n        text-align: right;\n    }\n</style>\n<table border=\"1\" class=\"dataframe\">\n  <thead>\n    <tr style=\"text-align: right;\">\n      <th></th>\n      <th>business_id</th>\n      <th>name</th>\n      <th>address</th>\n      <th>city</th>\n      <th>state</th>\n      <th>postal_code</th>\n      <th>latitude</th>\n      <th>longitude</th>\n      <th>stars</th>\n      <th>review_count</th>\n      <th>is_open</th>\n      <th>attributes</th>\n      <th>categories</th>\n      <th>hours</th>\n    </tr>\n  </thead>\n  <tbody>\n    <tr>\n      <th>0</th>\n      <td>QgdO29fGB-eBNe1BzHR7YQ</td>\n      <td>DEQ Terrace &amp; Lounge</td>\n      <td>The Ritz-Carlton, 181 Wellington Street West</td>\n      <td>Toronto</td>\n      <td>ON</td>\n      <td>M5V 3G7</td>\n      <td>43.645413</td>\n      <td>-79.387295</td>\n      <td>4.0</td>\n      <td>68</td>\n      <td>1</td>\n      <td>{'Alcohol': 'u'full_bar'', 'NoiseLevel': 'u'av...</td>\n      <td>Bars, Lounges, Nightlife, Restaurants, Wine Ba...</td>\n      <td>{'Monday': '11:0-1:0', 'Tuesday': '11:0-1:0', ...</td>\n    </tr>\n    <tr>\n      <th>1</th>\n      <td>4yl6W0DCdw2VvSmwgGE8dg</td>\n      <td>Splendid China Tower</td>\n      <td>4675 Steeles Avenue E</td>\n      <td>Toronto</td>\n      <td>ON</td>\n      <td>M1V 4S5</td>\n      <td>43.823871</td>\n      <td>-79.302422</td>\n      <td>2.0</td>\n      <td>10</td>\n      <td>1</td>\n      <td>{'BusinessParking': '{'garage': False, 'street...</td>\n      <td>Shopping, Shopping Centers</td>\n      <td>{'Monday': '10:0-22:0', 'Tuesday': '10:0-22:0'...</td>\n    </tr>\n    <tr>\n      <th>2</th>\n      <td>OF7N1TA8YEFsD1es84bIWw</td>\n      <td>Unicorn Pub</td>\n      <td>175 Eglinton Avenue E</td>\n      <td>Toronto</td>\n      <td>ON</td>\n      <td>M4P 1J4</td>\n      <td>43.707984</td>\n      <td>-79.392185</td>\n      <td>3.0</td>\n      <td>28</td>\n      <td>0</td>\n      <td>{'HasTV': 'True', 'RestaurantsPriceRange2': '2...</td>\n      <td>Bars, Pubs, Nightlife</td>\n      <td>{'Monday': '11:0-2:0', 'Tuesday': '11:0-2:0', ...</td>\n    </tr>\n    <tr>\n      <th>3</th>\n      <td>oQ5IFGtNDyk0jyjWWcow4A</td>\n      <td>Mobilicity</td>\n      <td>542 Yonge Street</td>\n      <td>Toronto</td>\n      <td>ON</td>\n      <td>M4Y 1Y8</td>\n      <td>43.664301</td>\n      <td>-79.384314</td>\n      <td>2.5</td>\n      <td>14</td>\n      <td>1</td>\n      <td>{'BusinessParking': '{'garage': False, 'street...</td>\n      <td>Shopping, Mobile Phones</td>\n      <td>{'Monday': '10:0-20:0', 'Tuesday': '10:0-20:0'...</td>\n    </tr>\n    <tr>\n      <th>4</th>\n      <td>DHQqJfoWQHHwkbiQBaAJlw</td>\n      <td>Rasputin Vodka Bar</td>\n      <td>780 Queen Street E</td>\n      <td>Toronto</td>\n      <td>ON</td>\n      <td>M4M 1H4</td>\n      <td>43.659426</td>\n      <td>-79.347496</td>\n      <td>4.0</td>\n      <td>22</td>\n      <td>0</td>\n      <td>{'Alcohol': 'u'full_bar'', 'RestaurantsPriceRa...</td>\n      <td>Bars, Lounges, Nightlife</td>\n      <td>{'Tuesday': '17:0-0:0', 'Wednesday': '17:0-0:0...</td>\n    </tr>\n  </tbody>\n</table>\n</div>"
     },
     "metadata": {},
     "execution_count": 6
    }
   ],
   "source": [
    "df = pd.DataFrame(business)\n",
    "df.head()"
   ]
  },
  {
   "cell_type": "code",
   "execution_count": 7,
   "metadata": {},
   "outputs": [],
   "source": [
    "df.drop(columns=['name','address','city','state',\"postal_code\",\"latitude\",\"longitude\",\"stars\",\"review_count\",\"is_open\",\"attributes\",\"hours\"],inplace=True)\n",
    "df.set_index('business_id',inplace=True)\n",
    "df.insert(1,'Reviews',value='')"
   ]
  },
  {
   "cell_type": "code",
   "execution_count": 8,
   "metadata": {},
   "outputs": [
    {
     "output_type": "execute_result",
     "data": {
      "text/plain": [
       "                                                               categories  \\\n",
       "business_id                                                                 \n",
       "QgdO29fGB-eBNe1BzHR7YQ  Bars, Lounges, Nightlife, Restaurants, Wine Ba...   \n",
       "4yl6W0DCdw2VvSmwgGE8dg                         Shopping, Shopping Centers   \n",
       "OF7N1TA8YEFsD1es84bIWw                              Bars, Pubs, Nightlife   \n",
       "oQ5IFGtNDyk0jyjWWcow4A                            Shopping, Mobile Phones   \n",
       "DHQqJfoWQHHwkbiQBaAJlw                           Bars, Lounges, Nightlife   \n",
       "\n",
       "                       Reviews  \n",
       "business_id                     \n",
       "QgdO29fGB-eBNe1BzHR7YQ          \n",
       "4yl6W0DCdw2VvSmwgGE8dg          \n",
       "OF7N1TA8YEFsD1es84bIWw          \n",
       "oQ5IFGtNDyk0jyjWWcow4A          \n",
       "DHQqJfoWQHHwkbiQBaAJlw          "
      ],
      "text/html": "<div>\n<style scoped>\n    .dataframe tbody tr th:only-of-type {\n        vertical-align: middle;\n    }\n\n    .dataframe tbody tr th {\n        vertical-align: top;\n    }\n\n    .dataframe thead th {\n        text-align: right;\n    }\n</style>\n<table border=\"1\" class=\"dataframe\">\n  <thead>\n    <tr style=\"text-align: right;\">\n      <th></th>\n      <th>categories</th>\n      <th>Reviews</th>\n    </tr>\n    <tr>\n      <th>business_id</th>\n      <th></th>\n      <th></th>\n    </tr>\n  </thead>\n  <tbody>\n    <tr>\n      <th>QgdO29fGB-eBNe1BzHR7YQ</th>\n      <td>Bars, Lounges, Nightlife, Restaurants, Wine Ba...</td>\n      <td></td>\n    </tr>\n    <tr>\n      <th>4yl6W0DCdw2VvSmwgGE8dg</th>\n      <td>Shopping, Shopping Centers</td>\n      <td></td>\n    </tr>\n    <tr>\n      <th>OF7N1TA8YEFsD1es84bIWw</th>\n      <td>Bars, Pubs, Nightlife</td>\n      <td></td>\n    </tr>\n    <tr>\n      <th>oQ5IFGtNDyk0jyjWWcow4A</th>\n      <td>Shopping, Mobile Phones</td>\n      <td></td>\n    </tr>\n    <tr>\n      <th>DHQqJfoWQHHwkbiQBaAJlw</th>\n      <td>Bars, Lounges, Nightlife</td>\n      <td></td>\n    </tr>\n  </tbody>\n</table>\n</div>"
     },
     "metadata": {},
     "execution_count": 8
    }
   ],
   "source": [
    "df.head()"
   ]
  },
  {
   "cell_type": "code",
   "execution_count": 9,
   "metadata": {},
   "outputs": [],
   "source": [
    "with open('yelp_academic_dataset_review.json',mode='r',encoding='utf-8',errors='ignore') as freviews:\n",
    "    for line in freviews:\n",
    "        if json.loads(line)['business_id'] in df.index:\n",
    "            read = json.loads(line)['text'].strip()\n",
    "            read = read.translate(remove_digits)\n",
    "            df.at[json.loads(line)['business_id'],'Reviews'] += read"
   ]
  },
  {
   "cell_type": "code",
   "execution_count": 10,
   "metadata": {},
   "outputs": [
    {
     "output_type": "execute_result",
     "data": {
      "text/plain": [
       "              business_id                                         categories  \\\n",
       "0  QgdO29fGB-eBNe1BzHR7YQ  Bars, Lounges, Nightlife, Restaurants, Wine Ba...   \n",
       "1  4yl6W0DCdw2VvSmwgGE8dg                         Shopping, Shopping Centers   \n",
       "2  OF7N1TA8YEFsD1es84bIWw                              Bars, Pubs, Nightlife   \n",
       "3  oQ5IFGtNDyk0jyjWWcow4A                            Shopping, Mobile Phones   \n",
       "4  DHQqJfoWQHHwkbiQBaAJlw                           Bars, Lounges, Nightlife   \n",
       "\n",
       "                                             Reviews  \n",
       "0  This place is as good as it gets in terms of p...  \n",
       "1  It's empty but a lot of people visited for a b...  \n",
       "2  I really wanted to like this place because uni...  \n",
       "3  great plan - like most Canadian plans should b...  \n",
       "4  Ah yes. Girls night out (with boys too actuall...  "
      ],
      "text/html": "<div>\n<style scoped>\n    .dataframe tbody tr th:only-of-type {\n        vertical-align: middle;\n    }\n\n    .dataframe tbody tr th {\n        vertical-align: top;\n    }\n\n    .dataframe thead th {\n        text-align: right;\n    }\n</style>\n<table border=\"1\" class=\"dataframe\">\n  <thead>\n    <tr style=\"text-align: right;\">\n      <th></th>\n      <th>business_id</th>\n      <th>categories</th>\n      <th>Reviews</th>\n    </tr>\n  </thead>\n  <tbody>\n    <tr>\n      <th>0</th>\n      <td>QgdO29fGB-eBNe1BzHR7YQ</td>\n      <td>Bars, Lounges, Nightlife, Restaurants, Wine Ba...</td>\n      <td>This place is as good as it gets in terms of p...</td>\n    </tr>\n    <tr>\n      <th>1</th>\n      <td>4yl6W0DCdw2VvSmwgGE8dg</td>\n      <td>Shopping, Shopping Centers</td>\n      <td>It's empty but a lot of people visited for a b...</td>\n    </tr>\n    <tr>\n      <th>2</th>\n      <td>OF7N1TA8YEFsD1es84bIWw</td>\n      <td>Bars, Pubs, Nightlife</td>\n      <td>I really wanted to like this place because uni...</td>\n    </tr>\n    <tr>\n      <th>3</th>\n      <td>oQ5IFGtNDyk0jyjWWcow4A</td>\n      <td>Shopping, Mobile Phones</td>\n      <td>great plan - like most Canadian plans should b...</td>\n    </tr>\n    <tr>\n      <th>4</th>\n      <td>DHQqJfoWQHHwkbiQBaAJlw</td>\n      <td>Bars, Lounges, Nightlife</td>\n      <td>Ah yes. Girls night out (with boys too actuall...</td>\n    </tr>\n  </tbody>\n</table>\n</div>"
     },
     "metadata": {},
     "execution_count": 10
    }
   ],
   "source": [
    "df.reset_index(inplace=True)\n",
    "df.head()"
   ]
  },
  {
   "cell_type": "code",
   "execution_count": 11,
   "metadata": {},
   "outputs": [],
   "source": [
    "for word in categories:\n",
    "    indices = [i for i, s in enumerate(df.categories) if word in s]\n",
    "    df.at[indices,'categories']=word"
   ]
  },
  {
   "cell_type": "code",
   "execution_count": 12,
   "metadata": {},
   "outputs": [
    {
     "output_type": "display_data",
     "data": {
      "text/plain": "                business_id categories  \\\n0    QgdO29fGB-eBNe1BzHR7YQ       Bars   \n1    4yl6W0DCdw2VvSmwgGE8dg   Shopping   \n2    OF7N1TA8YEFsD1es84bIWw       Bars   \n3    oQ5IFGtNDyk0jyjWWcow4A   Shopping   \n4    DHQqJfoWQHHwkbiQBaAJlw       Bars   \n..                      ...        ...   \n501  W0_0cHCJl-eNxKBcjjXE0g       Bars   \n502  qd4qMzC2QrlgY4iDBMeLiQ   Shopping   \n503  30cVbUJcsDpqaEM9V_axVQ       Bars   \n504  t-eqMhsXGTVst2dlLIn2jA       Bars   \n505  Cesnh6fIsAUO8D4jfGhOIw   Shopping   \n\n                                               Reviews  \n0    This place is as good as it gets in terms of p...  \n1    It's empty but a lot of people visited for a b...  \n2    I really wanted to like this place because uni...  \n3    great plan - like most Canadian plans should b...  \n4    Ah yes. Girls night out (with boys too actuall...  \n..                                                 ...  \n501  Great place for snacks and drinks.  The chicke...  \n502  Parking here is very spacious and easy to driv...  \n503  Came here for a summer date and sat in the pat...  \n504  This is a really gorgeous patio in a great spo...  \n505  Good tacos in the downtown core are hard to co...  \n\n[506 rows x 3 columns]",
      "text/html": "<div>\n<style scoped>\n    .dataframe tbody tr th:only-of-type {\n        vertical-align: middle;\n    }\n\n    .dataframe tbody tr th {\n        vertical-align: top;\n    }\n\n    .dataframe thead th {\n        text-align: right;\n    }\n</style>\n<table border=\"1\" class=\"dataframe\">\n  <thead>\n    <tr style=\"text-align: right;\">\n      <th></th>\n      <th>business_id</th>\n      <th>categories</th>\n      <th>Reviews</th>\n    </tr>\n  </thead>\n  <tbody>\n    <tr>\n      <th>0</th>\n      <td>QgdO29fGB-eBNe1BzHR7YQ</td>\n      <td>Bars</td>\n      <td>This place is as good as it gets in terms of p...</td>\n    </tr>\n    <tr>\n      <th>1</th>\n      <td>4yl6W0DCdw2VvSmwgGE8dg</td>\n      <td>Shopping</td>\n      <td>It's empty but a lot of people visited for a b...</td>\n    </tr>\n    <tr>\n      <th>2</th>\n      <td>OF7N1TA8YEFsD1es84bIWw</td>\n      <td>Bars</td>\n      <td>I really wanted to like this place because uni...</td>\n    </tr>\n    <tr>\n      <th>3</th>\n      <td>oQ5IFGtNDyk0jyjWWcow4A</td>\n      <td>Shopping</td>\n      <td>great plan - like most Canadian plans should b...</td>\n    </tr>\n    <tr>\n      <th>4</th>\n      <td>DHQqJfoWQHHwkbiQBaAJlw</td>\n      <td>Bars</td>\n      <td>Ah yes. Girls night out (with boys too actuall...</td>\n    </tr>\n    <tr>\n      <th>...</th>\n      <td>...</td>\n      <td>...</td>\n      <td>...</td>\n    </tr>\n    <tr>\n      <th>501</th>\n      <td>W0_0cHCJl-eNxKBcjjXE0g</td>\n      <td>Bars</td>\n      <td>Great place for snacks and drinks.  The chicke...</td>\n    </tr>\n    <tr>\n      <th>502</th>\n      <td>qd4qMzC2QrlgY4iDBMeLiQ</td>\n      <td>Shopping</td>\n      <td>Parking here is very spacious and easy to driv...</td>\n    </tr>\n    <tr>\n      <th>503</th>\n      <td>30cVbUJcsDpqaEM9V_axVQ</td>\n      <td>Bars</td>\n      <td>Came here for a summer date and sat in the pat...</td>\n    </tr>\n    <tr>\n      <th>504</th>\n      <td>t-eqMhsXGTVst2dlLIn2jA</td>\n      <td>Bars</td>\n      <td>This is a really gorgeous patio in a great spo...</td>\n    </tr>\n    <tr>\n      <th>505</th>\n      <td>Cesnh6fIsAUO8D4jfGhOIw</td>\n      <td>Shopping</td>\n      <td>Good tacos in the downtown core are hard to co...</td>\n    </tr>\n  </tbody>\n</table>\n<p>506 rows × 3 columns</p>\n</div>"
     },
     "metadata": {}
    }
   ],
   "source": [
    "display(df)"
   ]
  },
  {
   "cell_type": "code",
   "execution_count": 13,
   "metadata": {},
   "outputs": [
    {
     "output_type": "stream",
     "name": "stdout",
     "text": [
      "[[1. 0. 0.]\n [0. 0. 1.]\n [1. 0. 0.]\n ...\n [1. 0. 0.]\n [1. 0. 0.]\n [0. 0. 1.]]\n(506, 3)\n\n\n[1 0 1 0 1 2 1 1 0 0 1 1 0 0 0 0 0 1 0 1 0 0 1 0 0 0 1 0 1 0 1 0 0 0 0 0 1\n 1 0 0 1 0 1 1 0 0 1 0 2 1 1 0 0 1 2 1 0 1 0 1 0 1 0 1 1 1 0 2 1 0 0 0 1 1\n 1 0 1 0 1 0 0 0 1 0 1 1 0 0 1 1 0 0 1 1 0 0 0 1 1 1 1 2 1 1 1 0 1 1 0 1 0\n 0 1 0 1 0 1 0 1 0 0 1 0 0 1 1 0 0 0 1 0 1 0 2 0 0 0 1 0 0 0 1 0 1 2 0 1 1\n 1 1 1 1 1 1 0 1 0 1 1 1 0 0 1 1 0 0 0 1 0 1 1 2 1 1 2 0 1 0 1 1 0 1 2 1 0\n 1 1 0 1 2 1 0 0 1 0 0 0 0 0 0 0 0 2 1 1 2 1 0 1 1 1 1 0 0 0 1 1 0 2 0 1 1\n 0 1 0 1 0 1 1 0 1 1 1 0 1 0 0 1 1 0 1 0 1 1 1 1 1 0 1 1 0 1 1 0 0 1 0 2 1\n 1 1 1 1 0 0 1 0 1 1 0 0 0 1 1 0 1 2 0 1 1 0 0 1 1 0 1 1 0 1 1 0 0 1 0 0 0\n 0 0 1 1 2 0 0 1 2 0 0 1 1 0 0 0 1 1 0 0 0 1 0 1 1 0 0 0 0 0 0 1 2 2 0 0 1\n 1 0 1 1 1 1 1 0 1 1 0 0 0 1 1 1 0 1 0 0 2 0 0 0 1 1 1 0 1 0 0 0 0 1 1 1 0\n 0 0 0 0 0 1 0 1 1 0 1 1 1 1 1 1 1 1 1 0 2 1 0 0 0 0 1 0 0 1 0 1 1 0 1 0 0\n 1 1 1 1 1 0 1 0 1 1 1 0 0 0 1 1 1 1 0 1 1 1 0 1 0 1 0 0 1 1 1 0 1 0 0 1 0\n 1 0 0 1 1 1 2 1 0 1 0 0 1 1 1 0 1 1 0 1 1 0 1 0 0 0 0 0 0 1 1 1 0 0 2 1 1\n 1 0 0 1 0 1 0 0 0 1 0 1 1 0 0 2 0 1 0 0 1 0 1 1 0]\n"
     ]
    }
   ],
   "source": [
    "import sklearn.cluster as sk_cluster\n",
    "vectorizer2 = sk_text.TfidfVectorizer(stop_words = 'english',max_features=3)\n",
    "X = vectorizer2.fit_transform(df.categories)\n",
    "print(X.toarray())\n",
    "print(X.shape)\n",
    "print('\\n')  \n",
    "\n",
    "k=3\n",
    "kmeans = sk_cluster.KMeans(n_clusters=k, init='k-means++', max_iter=1000, n_init=1,n_jobs=8)\n",
    "kmeans.fit_predict(X)\n",
    "print(kmeans.labels_)\n",
    "truelabels=kmeans.labels_"
   ]
  },
  {
   "cell_type": "code",
   "execution_count": 14,
   "metadata": {
    "tags": []
   },
   "outputs": [
    {
     "output_type": "stream",
     "name": "stdout",
     "text": [
      "[[0.         0.         0.         ... 0.01229508 0.         0.        ]\n [0.         0.         0.         ... 0.         0.         0.        ]\n [0.         0.         0.         ... 0.         0.         0.        ]\n ...\n [0.         0.         0.         ... 0.         0.         0.        ]\n [0.         0.         0.         ... 0.         0.         0.        ]\n [0.         0.         0.         ... 0.         0.         0.        ]]\n(506, 10000)\n\n\n"
     ]
    }
   ],
   "source": [
    "vectorizer = sk_text.TfidfVectorizer(stop_words = 'english',max_features=10000,min_df=2)\n",
    "\n",
    "X = vectorizer.fit_transform(df.Reviews)\n",
    "print(X.toarray())\n",
    "print(X.shape)\n",
    "print('\\n')  \n",
    "#print (vectorizer.get_feature_names())\n",
    "\n"
   ]
  },
  {
   "cell_type": "code",
   "execution_count": 15,
   "metadata": {},
   "outputs": [],
   "source": [
    "def cluster_class_mapping(kmeans_labels,true_labels):\n",
    "    C= metrics.confusion_matrix(kmeans_labels,true_labels)\n",
    "    mapping = list(np.argmax(C,axis=1)) #for each row (cluster) find the best class in the confusion matrix\n",
    "    mapped_kmeans_labels = [mapping[l] for l in kmeans_labels]\n",
    "    C2= metrics.confusion_matrix(mapped_kmeans_labels,true_labels)\n",
    "    return mapped_kmeans_labels,C2"
   ]
  },
  {
   "cell_type": "code",
   "execution_count": 16,
   "metadata": {},
   "outputs": [
    {
     "output_type": "stream",
     "name": "stdout",
     "text": [
      "[[231  10  25]\n [  4 236   0]\n [  0   0   0]]\n[0.86842105 0.98333333 0.        ]\n[0.98297872 0.95934959 0.        ]\n"
     ]
    }
   ],
   "source": [
    "import sklearn.cluster as sk_cluster\n",
    "import sklearn.feature_extraction.text as sk_text\n",
    "\n",
    "k=3\n",
    "kmeansclass = sk_cluster.KMeans(n_clusters=k, init='k-means++', max_iter=100, n_init=1)\n",
    "kmeansclass.fit_predict(X)\n",
    "asc_order_centroids = kmeans.cluster_centers_.argsort()#[:, ::-1]\n",
    "order_centroids = asc_order_centroids[:,::-1]\n",
    "terms = vectorizer.get_feature_names()\n",
    "C = metrics.confusion_matrix(kmeans.labels_,truelabels)\n",
    "\n",
    "mapped_kmeans_labels,C = cluster_class_mapping(kmeansclass.labels_,truelabels)\n",
    "print (C)\n",
    "p = metrics.precision_score(truelabels,mapped_kmeans_labels, average=None)\n",
    "print(p)\n",
    "r = metrics.recall_score(truelabels,mapped_kmeans_labels, average = None)\n",
    "print(r)"
   ]
  },
  {
   "cell_type": "code",
   "execution_count": 17,
   "metadata": {},
   "outputs": [],
   "source": [
    "import sklearn.utils as utils\n",
    "from sklearn.model_selection import train_test_split\n",
    "\n",
    "X_train, X_test, y_train, y_test = train_test_split(X, truelabels, test_size=0.4, random_state=0)"
   ]
  },
  {
   "cell_type": "code",
   "execution_count": 18,
   "metadata": {},
   "outputs": [
    {
     "output_type": "stream",
     "name": "stdout",
     "text": [
      "(303, 10000) (203, 10000) (303,) (203,)\n"
     ]
    }
   ],
   "source": [
    "print(X_train.shape, X_test.shape, y_train.shape, y_test.shape)"
   ]
  },
  {
   "cell_type": "code",
   "execution_count": 19,
   "metadata": {},
   "outputs": [
    {
     "output_type": "stream",
     "name": "stdout",
     "text": [
      "classifier score: 0.9359605911330049\n\naccuracy: 0.9359605911330049\n\nConfusion matrix\n[[91  2  0]\n [ 1 99  0]\n [10  0  0]]\n\nPrecision Score per class\n[0.89215686 0.98019802 0.        ]\n\nAverage Precision Score\n0.8915782769236066\n\nRecall Score per class\n[0.97849462 0.99       0.        ]\n\nAverage Recall Score\n0.9359605911330049\n\nF1-score Score per class\n[0.93333333 0.98507463 0.        ]\n\nAverage F1 Score\n0.9128446437761929\n"
     ]
    }
   ],
   "source": [
    "import sklearn.linear_model as linear_model\n",
    "\n",
    "lr_clf = linear_model.LogisticRegression(solver='lbfgs')\n",
    "lr_clf.fit(X_train, y_train)\n",
    "print(\"classifier score:\",lr_clf.score(X_test,y_test))\n",
    "y_pred = lr_clf.predict(X_test)\n",
    "print(\"\\naccuracy:\",metrics.accuracy_score(y_test,y_pred))\n",
    "print(\"\\nConfusion matrix\")\n",
    "print(metrics.confusion_matrix(y_test,y_pred))\n",
    "print(\"\\nPrecision Score per class\")\n",
    "print(metrics.precision_score(y_test,y_pred,average=None))\n",
    "print(\"\\nAverage Precision Score\")\n",
    "print(metrics.precision_score(y_test,y_pred,average='weighted'))\n",
    "print(\"\\nRecall Score per class\")\n",
    "print(metrics.recall_score(y_test,y_pred,average=None))\n",
    "print(\"\\nAverage Recall Score\")\n",
    "print(metrics.recall_score(y_test,y_pred,average='weighted'))\n",
    "print(\"\\nF1-score Score per class\")\n",
    "print(metrics.f1_score(y_test,y_pred,average=None))\n",
    "print(\"\\nAverage F1 Score\")\n",
    "print(metrics.f1_score(y_test,y_pred,average='weighted'))"
   ]
  },
  {
   "cell_type": "code",
   "execution_count": 20,
   "metadata": {},
   "outputs": [
    {
     "output_type": "stream",
     "name": "stdout",
     "text": [
      "classifier score: 0.9359605911330049\n",
      "\n",
      "accuracy: 0.9359605911330049\n",
      "\n",
      "Confusion matrix\n",
      "[[91  2  0]\n",
      " [ 1 99  0]\n",
      " [10  0  0]]\n",
      "\n",
      "Precision Score per class\n",
      "[0.89215686 0.98019802 0.        ]\n",
      "\n",
      "Average Precision Score\n",
      "0.8915782769236066\n",
      "\n",
      "Recall Score per class\n",
      "[0.97849462 0.99       0.        ]\n",
      "\n",
      "Average Recall Score\n",
      "0.9359605911330049\n",
      "\n",
      "F1-score Score per class\n",
      "[0.93333333 0.98507463 0.        ]\n",
      "\n",
      "Average F1 Score\n",
      "0.9128446437761929\n"
     ]
    }
   ],
   "source": [
    "from sklearn import svm\n",
    "\n",
    "#svm_clf = svm.LinearSVC()\n",
    "#svm_clf = svm.SVC(kernel = 'poly')\n",
    "svm_clf = svm.SVC()\n",
    "svm_clf.fit(X_train,y_train)\n",
    "print(\"classifier score:\",svm_clf.score(X_test,y_test))\n",
    "y_pred = svm_clf.predict(X_test)\n",
    "print(\"\\naccuracy:\",metrics.accuracy_score(y_test,y_pred))\n",
    "print(\"\\nConfusion matrix\")\n",
    "print(metrics.confusion_matrix(y_test,y_pred))\n",
    "print(\"\\nPrecision Score per class\")\n",
    "print(metrics.precision_score(y_test,y_pred,average=None))\n",
    "print(\"\\nAverage Precision Score\")\n",
    "print(metrics.precision_score(y_test,y_pred,average='weighted'))\n",
    "print(\"\\nRecall Score per class\")\n",
    "print(metrics.recall_score(y_test,y_pred,average=None))\n",
    "print(\"\\nAverage Recall Score\")\n",
    "print(metrics.recall_score(y_test,y_pred,average='weighted'))\n",
    "print(\"\\nF1-score Score per class\")\n",
    "print(metrics.f1_score(y_test,y_pred,average=None))\n",
    "print(\"\\nAverage F1 Score\")\n",
    "print(metrics.f1_score(y_test,y_pred,average='weighted'))"
   ]
  },
  {
   "cell_type": "code",
   "execution_count": null,
   "metadata": {},
   "outputs": [],
   "source": []
  },
  {
   "cell_type": "code",
   "execution_count": 21,
   "metadata": {},
   "outputs": [
    {
     "output_type": "stream",
     "name": "stdout",
     "text": [
      "classifier accuracy: 0.8768472906403941\nclassifier predictions: [2 0 0 0 1 0 0 0 0 1]\nground truth labels   : [2 0 0 0 1 0 0 0 0 1]\n[[0. 0. 1.]\n [1. 0. 0.]\n [1. 0. 0.]\n [1. 0. 0.]\n [0. 1. 0.]\n [1. 0. 0.]\n [1. 0. 0.]\n [1. 0. 0.]\n [1. 0. 0.]\n [0. 1. 0.]]\naccuracy: 0.8768472906403941\n\nConfusion matrix\n[[82  7  4]\n [ 9 91  0]\n [ 4  1  5]]\n\nPrecision Score per class\n[0.86315789 0.91919192 0.55555556]\n\nAverage Precision Score\n0.8756080378584915\n\nRecall Score per class\n[0.88172043 0.91       0.5       ]\n\nAverage Recall Score\n0.8768472906403941\n\nF1-score Score per class\n[0.87234043 0.91457286 0.52631579]\n\nAverage F1 Score\n0.8760990339968757\n"
     ]
    }
   ],
   "source": [
    "from sklearn import tree\n",
    "\n",
    "dtree = tree.DecisionTreeClassifier()\n",
    "dtree = dtree.fit(X_train, y_train)\n",
    "\n",
    "print(\"classifier accuracy:\",dtree.score(X_test,y_test))\n",
    "\n",
    "y_pred = dtree.predict(X_test)\n",
    "y_prob = dtree.predict_proba(X_test)\n",
    "print(\"classifier predictions:\",y_pred[:10])\n",
    "print(\"ground truth labels   :\",y_test[:10])\n",
    "print(y_prob[:10])\n",
    "print(\"accuracy:\",metrics.accuracy_score(y_test,y_pred))\n",
    "print(\"\\nConfusion matrix\")\n",
    "print(metrics.confusion_matrix(y_test,y_pred))\n",
    "print(\"\\nPrecision Score per class\")\n",
    "print(metrics.precision_score(y_test,y_pred,average=None))\n",
    "print(\"\\nAverage Precision Score\")\n",
    "print(metrics.precision_score(y_test,y_pred,average='weighted'))\n",
    "print(\"\\nRecall Score per class\")\n",
    "print(metrics.recall_score(y_test,y_pred,average=None))\n",
    "print(\"\\nAverage Recall Score\")\n",
    "print(metrics.recall_score(y_test,y_pred,average='weighted'))\n",
    "print(\"\\nF1-score Score per class\")\n",
    "print(metrics.f1_score(y_test,y_pred,average=None))\n",
    "print(\"\\nAverage F1 Score\")\n",
    "print(metrics.f1_score(y_test,y_pred,average='weighted'))\n"
   ]
  },
  {
   "cell_type": "code",
   "execution_count": 22,
   "metadata": {},
   "outputs": [
    {
     "output_type": "stream",
     "name": "stdout",
     "text": [
      "['bars', 'beauty', 'shopping']\n"
     ]
    },
    {
     "output_type": "execute_result",
     "data": {
      "text/plain": [
       "<graphviz.files.Source at 0x1b391083588>"
      ],
      "image/svg+xml": "<?xml version=\"1.0\" encoding=\"UTF-8\" standalone=\"no\"?>\r\n<!DOCTYPE svg PUBLIC \"-//W3C//DTD SVG 1.1//EN\"\r\n \"http://www.w3.org/Graphics/SVG/1.1/DTD/svg11.dtd\">\r\n<!-- Generated by graphviz version 2.38.0 (20140413.2041)\r\n -->\r\n<!-- Title: Tree Pages: 1 -->\r\n<svg width=\"1277pt\" height=\"789pt\"\r\n viewBox=\"0.00 0.00 1277.00 789.00\" xmlns=\"http://www.w3.org/2000/svg\" xmlns:xlink=\"http://www.w3.org/1999/xlink\">\r\n<g id=\"graph0\" class=\"graph\" transform=\"scale(1 1) rotate(0) translate(4 785)\">\r\n<title>Tree</title>\r\n<polygon fill=\"white\" stroke=\"none\" points=\"-4,4 -4,-785 1273,-785 1273,4 -4,4\"/>\r\n<!-- 0 -->\r\n<g id=\"node1\" class=\"node\"><title>0</title>\r\n<polygon fill=\"none\" stroke=\"black\" points=\"840,-781 701,-781 701,-713 840,-713 840,-781\"/>\r\n<text text-anchor=\"middle\" x=\"770.5\" y=\"-765.8\" font-family=\"Times New Roman,serif\" font-size=\"14.00\">X[644] &lt;= 0.018</text>\r\n<text text-anchor=\"middle\" x=\"770.5\" y=\"-750.8\" font-family=\"Times New Roman,serif\" font-size=\"14.00\">gini = 0.546</text>\r\n<text text-anchor=\"middle\" x=\"770.5\" y=\"-735.8\" font-family=\"Times New Roman,serif\" font-size=\"14.00\">samples = 303</text>\r\n<text text-anchor=\"middle\" x=\"770.5\" y=\"-720.8\" font-family=\"Times New Roman,serif\" font-size=\"14.00\">value = [142, 146, 15]</text>\r\n</g>\r\n<!-- 1 -->\r\n<g id=\"node2\" class=\"node\"><title>1</title>\r\n<polygon fill=\"none\" stroke=\"black\" points=\"763,-677 638,-677 638,-609 763,-609 763,-677\"/>\r\n<text text-anchor=\"middle\" x=\"700.5\" y=\"-661.8\" font-family=\"Times New Roman,serif\" font-size=\"14.00\">X[5381] &lt;= 0.006</text>\r\n<text text-anchor=\"middle\" x=\"700.5\" y=\"-646.8\" font-family=\"Times New Roman,serif\" font-size=\"14.00\">gini = 0.249</text>\r\n<text text-anchor=\"middle\" x=\"700.5\" y=\"-631.8\" font-family=\"Times New Roman,serif\" font-size=\"14.00\">samples = 158</text>\r\n<text text-anchor=\"middle\" x=\"700.5\" y=\"-616.8\" font-family=\"Times New Roman,serif\" font-size=\"14.00\">value = [136, 8, 14]</text>\r\n</g>\r\n<!-- 0&#45;&gt;1 -->\r\n<g id=\"edge1\" class=\"edge\"><title>0&#45;&gt;1</title>\r\n<path fill=\"none\" stroke=\"black\" d=\"M747.773,-712.884C741.843,-704.243 735.376,-694.819 729.181,-685.793\"/>\r\n<polygon fill=\"black\" stroke=\"black\" points=\"731.897,-683.564 723.353,-677.299 726.125,-687.525 731.897,-683.564\"/>\r\n<text text-anchor=\"middle\" x=\"718.78\" y=\"-698.178\" font-family=\"Times New Roman,serif\" font-size=\"14.00\">True</text>\r\n</g>\r\n<!-- 18 -->\r\n<g id=\"node19\" class=\"node\"><title>18</title>\r\n<polygon fill=\"none\" stroke=\"black\" points=\"900,-677 781,-677 781,-609 900,-609 900,-677\"/>\r\n<text text-anchor=\"middle\" x=\"840.5\" y=\"-661.8\" font-family=\"Times New Roman,serif\" font-size=\"14.00\">X[6507] &lt;= 0.036</text>\r\n<text text-anchor=\"middle\" x=\"840.5\" y=\"-646.8\" font-family=\"Times New Roman,serif\" font-size=\"14.00\">gini = 0.092</text>\r\n<text text-anchor=\"middle\" x=\"840.5\" y=\"-631.8\" font-family=\"Times New Roman,serif\" font-size=\"14.00\">samples = 145</text>\r\n<text text-anchor=\"middle\" x=\"840.5\" y=\"-616.8\" font-family=\"Times New Roman,serif\" font-size=\"14.00\">value = [6, 138, 1]</text>\r\n</g>\r\n<!-- 0&#45;&gt;18 -->\r\n<g id=\"edge18\" class=\"edge\"><title>0&#45;&gt;18</title>\r\n<path fill=\"none\" stroke=\"black\" d=\"M793.227,-712.884C799.157,-704.243 805.624,-694.819 811.819,-685.793\"/>\r\n<polygon fill=\"black\" stroke=\"black\" points=\"814.875,-687.525 817.647,-677.299 809.103,-683.564 814.875,-687.525\"/>\r\n<text text-anchor=\"middle\" x=\"822.22\" y=\"-698.178\" font-family=\"Times New Roman,serif\" font-size=\"14.00\">False</text>\r\n</g>\r\n<!-- 2 -->\r\n<g id=\"node3\" class=\"node\"><title>2</title>\r\n<polygon fill=\"none\" stroke=\"black\" points=\"633,-573 514,-573 514,-505 633,-505 633,-573\"/>\r\n<text text-anchor=\"middle\" x=\"573.5\" y=\"-557.8\" font-family=\"Times New Roman,serif\" font-size=\"14.00\">X[8836] &lt;= 0.032</text>\r\n<text text-anchor=\"middle\" x=\"573.5\" y=\"-542.8\" font-family=\"Times New Roman,serif\" font-size=\"14.00\">gini = 0.194</text>\r\n<text text-anchor=\"middle\" x=\"573.5\" y=\"-527.8\" font-family=\"Times New Roman,serif\" font-size=\"14.00\">samples = 152</text>\r\n<text text-anchor=\"middle\" x=\"573.5\" y=\"-512.8\" font-family=\"Times New Roman,serif\" font-size=\"14.00\">value = [136, 8, 8]</text>\r\n</g>\r\n<!-- 1&#45;&gt;2 -->\r\n<g id=\"edge2\" class=\"edge\"><title>1&#45;&gt;2</title>\r\n<path fill=\"none\" stroke=\"black\" d=\"M659.267,-608.884C647.622,-599.531 634.833,-589.259 622.766,-579.568\"/>\r\n<polygon fill=\"black\" stroke=\"black\" points=\"624.949,-576.832 614.961,-573.299 620.566,-582.29 624.949,-576.832\"/>\r\n</g>\r\n<!-- 17 -->\r\n<g id=\"node18\" class=\"node\"><title>17</title>\r\n<polygon fill=\"none\" stroke=\"black\" points=\"756,-565.5 651,-565.5 651,-512.5 756,-512.5 756,-565.5\"/>\r\n<text text-anchor=\"middle\" x=\"703.5\" y=\"-550.3\" font-family=\"Times New Roman,serif\" font-size=\"14.00\">gini = 0.0</text>\r\n<text text-anchor=\"middle\" x=\"703.5\" y=\"-535.3\" font-family=\"Times New Roman,serif\" font-size=\"14.00\">samples = 6</text>\r\n<text text-anchor=\"middle\" x=\"703.5\" y=\"-520.3\" font-family=\"Times New Roman,serif\" font-size=\"14.00\">value = [0, 0, 6]</text>\r\n</g>\r\n<!-- 1&#45;&gt;17 -->\r\n<g id=\"edge17\" class=\"edge\"><title>1&#45;&gt;17</title>\r\n<path fill=\"none\" stroke=\"black\" d=\"M701.474,-608.884C701.788,-598.216 702.137,-586.352 702.455,-575.519\"/>\r\n<polygon fill=\"black\" stroke=\"black\" points=\"705.954,-575.619 702.749,-565.52 698.957,-575.413 705.954,-575.619\"/>\r\n</g>\r\n<!-- 3 -->\r\n<g id=\"node4\" class=\"node\"><title>3</title>\r\n<polygon fill=\"none\" stroke=\"black\" points=\"503,-469 384,-469 384,-401 503,-401 503,-469\"/>\r\n<text text-anchor=\"middle\" x=\"443.5\" y=\"-453.8\" font-family=\"Times New Roman,serif\" font-size=\"14.00\">X[3984] &lt;= 0.099</text>\r\n<text text-anchor=\"middle\" x=\"443.5\" y=\"-438.8\" font-family=\"Times New Roman,serif\" font-size=\"14.00\">gini = 0.13</text>\r\n<text text-anchor=\"middle\" x=\"443.5\" y=\"-423.8\" font-family=\"Times New Roman,serif\" font-size=\"14.00\">samples = 145</text>\r\n<text text-anchor=\"middle\" x=\"443.5\" y=\"-408.8\" font-family=\"Times New Roman,serif\" font-size=\"14.00\">value = [135, 2, 8]</text>\r\n</g>\r\n<!-- 2&#45;&gt;3 -->\r\n<g id=\"edge3\" class=\"edge\"><title>2&#45;&gt;3</title>\r\n<path fill=\"none\" stroke=\"black\" d=\"M531.293,-504.884C519.373,-495.531 506.281,-485.259 493.93,-475.568\"/>\r\n<polygon fill=\"black\" stroke=\"black\" points=\"495.968,-472.719 485.94,-469.299 491.647,-478.226 495.968,-472.719\"/>\r\n</g>\r\n<!-- 14 -->\r\n<g id=\"node15\" class=\"node\"><title>14</title>\r\n<polygon fill=\"none\" stroke=\"black\" points=\"638,-469 521,-469 521,-401 638,-401 638,-469\"/>\r\n<text text-anchor=\"middle\" x=\"579.5\" y=\"-453.8\" font-family=\"Times New Roman,serif\" font-size=\"14.00\">X[3431] &lt;= 0.088</text>\r\n<text text-anchor=\"middle\" x=\"579.5\" y=\"-438.8\" font-family=\"Times New Roman,serif\" font-size=\"14.00\">gini = 0.245</text>\r\n<text text-anchor=\"middle\" x=\"579.5\" y=\"-423.8\" font-family=\"Times New Roman,serif\" font-size=\"14.00\">samples = 7</text>\r\n<text text-anchor=\"middle\" x=\"579.5\" y=\"-408.8\" font-family=\"Times New Roman,serif\" font-size=\"14.00\">value = [1, 6, 0]</text>\r\n</g>\r\n<!-- 2&#45;&gt;14 -->\r\n<g id=\"edge14\" class=\"edge\"><title>2&#45;&gt;14</title>\r\n<path fill=\"none\" stroke=\"black\" d=\"M575.448,-504.884C575.925,-496.778 576.442,-487.982 576.943,-479.472\"/>\r\n<polygon fill=\"black\" stroke=\"black\" points=\"580.448,-479.488 577.541,-469.299 573.46,-479.077 580.448,-479.488\"/>\r\n</g>\r\n<!-- 4 -->\r\n<g id=\"node5\" class=\"node\"><title>4</title>\r\n<polygon fill=\"none\" stroke=\"black\" points=\"377,-365 258,-365 258,-297 377,-297 377,-365\"/>\r\n<text text-anchor=\"middle\" x=\"317.5\" y=\"-349.8\" font-family=\"Times New Roman,serif\" font-size=\"14.00\">X[650] &lt;= 0.023</text>\r\n<text text-anchor=\"middle\" x=\"317.5\" y=\"-334.8\" font-family=\"Times New Roman,serif\" font-size=\"14.00\">gini = 0.082</text>\r\n<text text-anchor=\"middle\" x=\"317.5\" y=\"-319.8\" font-family=\"Times New Roman,serif\" font-size=\"14.00\">samples = 141</text>\r\n<text text-anchor=\"middle\" x=\"317.5\" y=\"-304.8\" font-family=\"Times New Roman,serif\" font-size=\"14.00\">value = [135, 2, 4]</text>\r\n</g>\r\n<!-- 3&#45;&gt;4 -->\r\n<g id=\"edge4\" class=\"edge\"><title>3&#45;&gt;4</title>\r\n<path fill=\"none\" stroke=\"black\" d=\"M402.591,-400.884C391.148,-391.62 378.591,-381.455 366.721,-371.845\"/>\r\n<polygon fill=\"black\" stroke=\"black\" points=\"368.609,-368.871 358.635,-365.299 364.205,-374.312 368.609,-368.871\"/>\r\n</g>\r\n<!-- 13 -->\r\n<g id=\"node14\" class=\"node\"><title>13</title>\r\n<polygon fill=\"none\" stroke=\"black\" points=\"500,-357.5 395,-357.5 395,-304.5 500,-304.5 500,-357.5\"/>\r\n<text text-anchor=\"middle\" x=\"447.5\" y=\"-342.3\" font-family=\"Times New Roman,serif\" font-size=\"14.00\">gini = 0.0</text>\r\n<text text-anchor=\"middle\" x=\"447.5\" y=\"-327.3\" font-family=\"Times New Roman,serif\" font-size=\"14.00\">samples = 4</text>\r\n<text text-anchor=\"middle\" x=\"447.5\" y=\"-312.3\" font-family=\"Times New Roman,serif\" font-size=\"14.00\">value = [0, 0, 4]</text>\r\n</g>\r\n<!-- 3&#45;&gt;13 -->\r\n<g id=\"edge13\" class=\"edge\"><title>3&#45;&gt;13</title>\r\n<path fill=\"none\" stroke=\"black\" d=\"M444.799,-400.884C445.217,-390.216 445.682,-378.352 446.107,-367.519\"/>\r\n<polygon fill=\"black\" stroke=\"black\" points=\"449.605,-367.649 446.499,-357.52 442.61,-367.375 449.605,-367.649\"/>\r\n</g>\r\n<!-- 5 -->\r\n<g id=\"node6\" class=\"node\"><title>5</title>\r\n<polygon fill=\"none\" stroke=\"black\" points=\"311,-261 192,-261 192,-193 311,-193 311,-261\"/>\r\n<text text-anchor=\"middle\" x=\"251.5\" y=\"-245.8\" font-family=\"Times New Roman,serif\" font-size=\"14.00\">X[6798] &lt;= 0.026</text>\r\n<text text-anchor=\"middle\" x=\"251.5\" y=\"-230.8\" font-family=\"Times New Roman,serif\" font-size=\"14.00\">gini = 0.043</text>\r\n<text text-anchor=\"middle\" x=\"251.5\" y=\"-215.8\" font-family=\"Times New Roman,serif\" font-size=\"14.00\">samples = 138</text>\r\n<text text-anchor=\"middle\" x=\"251.5\" y=\"-200.8\" font-family=\"Times New Roman,serif\" font-size=\"14.00\">value = [135, 1, 2]</text>\r\n</g>\r\n<!-- 4&#45;&gt;5 -->\r\n<g id=\"edge5\" class=\"edge\"><title>4&#45;&gt;5</title>\r\n<path fill=\"none\" stroke=\"black\" d=\"M296.072,-296.884C290.481,-288.243 284.383,-278.819 278.542,-269.793\"/>\r\n<polygon fill=\"black\" stroke=\"black\" points=\"281.418,-267.794 273.047,-261.299 275.541,-271.596 281.418,-267.794\"/>\r\n</g>\r\n<!-- 10 -->\r\n<g id=\"node11\" class=\"node\"><title>10</title>\r\n<polygon fill=\"none\" stroke=\"black\" points=\"439.5,-261 329.5,-261 329.5,-193 439.5,-193 439.5,-261\"/>\r\n<text text-anchor=\"middle\" x=\"384.5\" y=\"-245.8\" font-family=\"Times New Roman,serif\" font-size=\"14.00\">X[6534] &lt;= 0.01</text>\r\n<text text-anchor=\"middle\" x=\"384.5\" y=\"-230.8\" font-family=\"Times New Roman,serif\" font-size=\"14.00\">gini = 0.444</text>\r\n<text text-anchor=\"middle\" x=\"384.5\" y=\"-215.8\" font-family=\"Times New Roman,serif\" font-size=\"14.00\">samples = 3</text>\r\n<text text-anchor=\"middle\" x=\"384.5\" y=\"-200.8\" font-family=\"Times New Roman,serif\" font-size=\"14.00\">value = [0, 1, 2]</text>\r\n</g>\r\n<!-- 4&#45;&gt;10 -->\r\n<g id=\"edge10\" class=\"edge\"><title>4&#45;&gt;10</title>\r\n<path fill=\"none\" stroke=\"black\" d=\"M339.253,-296.884C344.928,-288.243 351.119,-278.819 357.048,-269.793\"/>\r\n<polygon fill=\"black\" stroke=\"black\" points=\"360.062,-271.579 362.627,-261.299 354.211,-267.736 360.062,-271.579\"/>\r\n</g>\r\n<!-- 6 -->\r\n<g id=\"node7\" class=\"node\"><title>6</title>\r\n<polygon fill=\"none\" stroke=\"black\" points=\"184,-157 65,-157 65,-89 184,-89 184,-157\"/>\r\n<text text-anchor=\"middle\" x=\"124.5\" y=\"-141.8\" font-family=\"Times New Roman,serif\" font-size=\"14.00\">X[534] &lt;= 0.03</text>\r\n<text text-anchor=\"middle\" x=\"124.5\" y=\"-126.8\" font-family=\"Times New Roman,serif\" font-size=\"14.00\">gini = 0.015</text>\r\n<text text-anchor=\"middle\" x=\"124.5\" y=\"-111.8\" font-family=\"Times New Roman,serif\" font-size=\"14.00\">samples = 136</text>\r\n<text text-anchor=\"middle\" x=\"124.5\" y=\"-96.8\" font-family=\"Times New Roman,serif\" font-size=\"14.00\">value = [135, 1, 0]</text>\r\n</g>\r\n<!-- 5&#45;&gt;6 -->\r\n<g id=\"edge6\" class=\"edge\"><title>5&#45;&gt;6</title>\r\n<path fill=\"none\" stroke=\"black\" d=\"M210.267,-192.884C198.622,-183.531 185.833,-173.259 173.766,-163.568\"/>\r\n<polygon fill=\"black\" stroke=\"black\" points=\"175.949,-160.832 165.961,-157.299 171.566,-166.29 175.949,-160.832\"/>\r\n</g>\r\n<!-- 9 -->\r\n<g id=\"node10\" class=\"node\"><title>9</title>\r\n<polygon fill=\"none\" stroke=\"black\" points=\"307,-149.5 202,-149.5 202,-96.5 307,-96.5 307,-149.5\"/>\r\n<text text-anchor=\"middle\" x=\"254.5\" y=\"-134.3\" font-family=\"Times New Roman,serif\" font-size=\"14.00\">gini = 0.0</text>\r\n<text text-anchor=\"middle\" x=\"254.5\" y=\"-119.3\" font-family=\"Times New Roman,serif\" font-size=\"14.00\">samples = 2</text>\r\n<text text-anchor=\"middle\" x=\"254.5\" y=\"-104.3\" font-family=\"Times New Roman,serif\" font-size=\"14.00\">value = [0, 0, 2]</text>\r\n</g>\r\n<!-- 5&#45;&gt;9 -->\r\n<g id=\"edge9\" class=\"edge\"><title>5&#45;&gt;9</title>\r\n<path fill=\"none\" stroke=\"black\" d=\"M252.474,-192.884C252.788,-182.216 253.137,-170.352 253.455,-159.519\"/>\r\n<polygon fill=\"black\" stroke=\"black\" points=\"256.954,-159.619 253.749,-149.52 249.957,-159.413 256.954,-159.619\"/>\r\n</g>\r\n<!-- 7 -->\r\n<g id=\"node8\" class=\"node\"><title>7</title>\r\n<polygon fill=\"none\" stroke=\"black\" points=\"119,-53 -7.10543e-015,-53 -7.10543e-015,-0 119,-0 119,-53\"/>\r\n<text text-anchor=\"middle\" x=\"59.5\" y=\"-37.8\" font-family=\"Times New Roman,serif\" font-size=\"14.00\">gini = 0.0</text>\r\n<text text-anchor=\"middle\" x=\"59.5\" y=\"-22.8\" font-family=\"Times New Roman,serif\" font-size=\"14.00\">samples = 135</text>\r\n<text text-anchor=\"middle\" x=\"59.5\" y=\"-7.8\" font-family=\"Times New Roman,serif\" font-size=\"14.00\">value = [135, 0, 0]</text>\r\n</g>\r\n<!-- 6&#45;&gt;7 -->\r\n<g id=\"edge7\" class=\"edge\"><title>6&#45;&gt;7</title>\r\n<path fill=\"none\" stroke=\"black\" d=\"M101.766,-88.9485C95.6626,-80.0749 89.0525,-70.4648 82.9129,-61.5388\"/>\r\n<polygon fill=\"black\" stroke=\"black\" points=\"85.7534,-59.4924 77.2025,-53.2367 79.986,-63.4594 85.7534,-59.4924\"/>\r\n</g>\r\n<!-- 8 -->\r\n<g id=\"node9\" class=\"node\"><title>8</title>\r\n<polygon fill=\"none\" stroke=\"black\" points=\"242,-53 137,-53 137,-0 242,-0 242,-53\"/>\r\n<text text-anchor=\"middle\" x=\"189.5\" y=\"-37.8\" font-family=\"Times New Roman,serif\" font-size=\"14.00\">gini = 0.0</text>\r\n<text text-anchor=\"middle\" x=\"189.5\" y=\"-22.8\" font-family=\"Times New Roman,serif\" font-size=\"14.00\">samples = 1</text>\r\n<text text-anchor=\"middle\" x=\"189.5\" y=\"-7.8\" font-family=\"Times New Roman,serif\" font-size=\"14.00\">value = [0, 1, 0]</text>\r\n</g>\r\n<!-- 6&#45;&gt;8 -->\r\n<g id=\"edge8\" class=\"edge\"><title>6&#45;&gt;8</title>\r\n<path fill=\"none\" stroke=\"black\" d=\"M147.234,-88.9485C153.337,-80.0749 159.947,-70.4648 166.087,-61.5388\"/>\r\n<polygon fill=\"black\" stroke=\"black\" points=\"169.014,-63.4594 171.798,-53.2367 163.247,-59.4924 169.014,-63.4594\"/>\r\n</g>\r\n<!-- 11 -->\r\n<g id=\"node12\" class=\"node\"><title>11</title>\r\n<polygon fill=\"none\" stroke=\"black\" points=\"432,-149.5 327,-149.5 327,-96.5 432,-96.5 432,-149.5\"/>\r\n<text text-anchor=\"middle\" x=\"379.5\" y=\"-134.3\" font-family=\"Times New Roman,serif\" font-size=\"14.00\">gini = 0.0</text>\r\n<text text-anchor=\"middle\" x=\"379.5\" y=\"-119.3\" font-family=\"Times New Roman,serif\" font-size=\"14.00\">samples = 2</text>\r\n<text text-anchor=\"middle\" x=\"379.5\" y=\"-104.3\" font-family=\"Times New Roman,serif\" font-size=\"14.00\">value = [0, 0, 2]</text>\r\n</g>\r\n<!-- 10&#45;&gt;11 -->\r\n<g id=\"edge11\" class=\"edge\"><title>10&#45;&gt;11</title>\r\n<path fill=\"none\" stroke=\"black\" d=\"M382.877,-192.884C382.354,-182.216 381.772,-170.352 381.241,-159.519\"/>\r\n<polygon fill=\"black\" stroke=\"black\" points=\"384.736,-159.337 380.751,-149.52 377.745,-159.679 384.736,-159.337\"/>\r\n</g>\r\n<!-- 12 -->\r\n<g id=\"node13\" class=\"node\"><title>12</title>\r\n<polygon fill=\"none\" stroke=\"black\" points=\"555,-149.5 450,-149.5 450,-96.5 555,-96.5 555,-149.5\"/>\r\n<text text-anchor=\"middle\" x=\"502.5\" y=\"-134.3\" font-family=\"Times New Roman,serif\" font-size=\"14.00\">gini = 0.0</text>\r\n<text text-anchor=\"middle\" x=\"502.5\" y=\"-119.3\" font-family=\"Times New Roman,serif\" font-size=\"14.00\">samples = 1</text>\r\n<text text-anchor=\"middle\" x=\"502.5\" y=\"-104.3\" font-family=\"Times New Roman,serif\" font-size=\"14.00\">value = [0, 1, 0]</text>\r\n</g>\r\n<!-- 10&#45;&gt;12 -->\r\n<g id=\"edge12\" class=\"edge\"><title>10&#45;&gt;12</title>\r\n<path fill=\"none\" stroke=\"black\" d=\"M422.811,-192.884C436.425,-181.116 451.721,-167.894 465.245,-156.203\"/>\r\n<polygon fill=\"black\" stroke=\"black\" points=\"467.7,-158.707 472.977,-149.52 463.123,-153.412 467.7,-158.707\"/>\r\n</g>\r\n<!-- 15 -->\r\n<g id=\"node16\" class=\"node\"><title>15</title>\r\n<polygon fill=\"none\" stroke=\"black\" points=\"629,-357.5 524,-357.5 524,-304.5 629,-304.5 629,-357.5\"/>\r\n<text text-anchor=\"middle\" x=\"576.5\" y=\"-342.3\" font-family=\"Times New Roman,serif\" font-size=\"14.00\">gini = 0.0</text>\r\n<text text-anchor=\"middle\" x=\"576.5\" y=\"-327.3\" font-family=\"Times New Roman,serif\" font-size=\"14.00\">samples = 6</text>\r\n<text text-anchor=\"middle\" x=\"576.5\" y=\"-312.3\" font-family=\"Times New Roman,serif\" font-size=\"14.00\">value = [0, 6, 0]</text>\r\n</g>\r\n<!-- 14&#45;&gt;15 -->\r\n<g id=\"edge15\" class=\"edge\"><title>14&#45;&gt;15</title>\r\n<path fill=\"none\" stroke=\"black\" d=\"M578.526,-400.884C578.212,-390.216 577.863,-378.352 577.545,-367.519\"/>\r\n<polygon fill=\"black\" stroke=\"black\" points=\"581.043,-367.413 577.251,-357.52 574.046,-367.619 581.043,-367.413\"/>\r\n</g>\r\n<!-- 16 -->\r\n<g id=\"node17\" class=\"node\"><title>16</title>\r\n<polygon fill=\"none\" stroke=\"black\" points=\"752,-357.5 647,-357.5 647,-304.5 752,-304.5 752,-357.5\"/>\r\n<text text-anchor=\"middle\" x=\"699.5\" y=\"-342.3\" font-family=\"Times New Roman,serif\" font-size=\"14.00\">gini = 0.0</text>\r\n<text text-anchor=\"middle\" x=\"699.5\" y=\"-327.3\" font-family=\"Times New Roman,serif\" font-size=\"14.00\">samples = 1</text>\r\n<text text-anchor=\"middle\" x=\"699.5\" y=\"-312.3\" font-family=\"Times New Roman,serif\" font-size=\"14.00\">value = [1, 0, 0]</text>\r\n</g>\r\n<!-- 14&#45;&gt;16 -->\r\n<g id=\"edge16\" class=\"edge\"><title>14&#45;&gt;16</title>\r\n<path fill=\"none\" stroke=\"black\" d=\"M618.461,-400.884C632.305,-389.116 647.86,-375.894 661.614,-364.203\"/>\r\n<polygon fill=\"black\" stroke=\"black\" points=\"664.124,-366.663 669.477,-357.52 659.59,-361.33 664.124,-366.663\"/>\r\n</g>\r\n<!-- 19 -->\r\n<g id=\"node20\" class=\"node\"><title>19</title>\r\n<polygon fill=\"none\" stroke=\"black\" points=\"896,-573 779,-573 779,-505 896,-505 896,-573\"/>\r\n<text text-anchor=\"middle\" x=\"837.5\" y=\"-557.8\" font-family=\"Times New Roman,serif\" font-size=\"14.00\">X[9308] &lt;= 0.005</text>\r\n<text text-anchor=\"middle\" x=\"837.5\" y=\"-542.8\" font-family=\"Times New Roman,serif\" font-size=\"14.00\">gini = 0.5</text>\r\n<text text-anchor=\"middle\" x=\"837.5\" y=\"-527.8\" font-family=\"Times New Roman,serif\" font-size=\"14.00\">samples = 6</text>\r\n<text text-anchor=\"middle\" x=\"837.5\" y=\"-512.8\" font-family=\"Times New Roman,serif\" font-size=\"14.00\">value = [4, 1, 1]</text>\r\n</g>\r\n<!-- 18&#45;&gt;19 -->\r\n<g id=\"edge19\" class=\"edge\"><title>18&#45;&gt;19</title>\r\n<path fill=\"none\" stroke=\"black\" d=\"M839.526,-608.884C839.288,-600.778 839.029,-591.982 838.779,-583.472\"/>\r\n<polygon fill=\"black\" stroke=\"black\" points=\"842.272,-583.192 838.479,-573.299 835.275,-583.398 842.272,-583.192\"/>\r\n</g>\r\n<!-- 24 -->\r\n<g id=\"node25\" class=\"node\"><title>24</title>\r\n<polygon fill=\"none\" stroke=\"black\" points=\"1033,-573 914,-573 914,-505 1033,-505 1033,-573\"/>\r\n<text text-anchor=\"middle\" x=\"973.5\" y=\"-557.8\" font-family=\"Times New Roman,serif\" font-size=\"14.00\">X[2189] &lt;= 0.018</text>\r\n<text text-anchor=\"middle\" x=\"973.5\" y=\"-542.8\" font-family=\"Times New Roman,serif\" font-size=\"14.00\">gini = 0.028</text>\r\n<text text-anchor=\"middle\" x=\"973.5\" y=\"-527.8\" font-family=\"Times New Roman,serif\" font-size=\"14.00\">samples = 139</text>\r\n<text text-anchor=\"middle\" x=\"973.5\" y=\"-512.8\" font-family=\"Times New Roman,serif\" font-size=\"14.00\">value = [2, 137, 0]</text>\r\n</g>\r\n<!-- 18&#45;&gt;24 -->\r\n<g id=\"edge24\" class=\"edge\"><title>18&#45;&gt;24</title>\r\n<path fill=\"none\" stroke=\"black\" d=\"M883.681,-608.884C895.877,-599.531 909.27,-589.259 921.906,-579.568\"/>\r\n<polygon fill=\"black\" stroke=\"black\" points=\"924.275,-582.162 930.08,-573.299 920.015,-576.608 924.275,-582.162\"/>\r\n</g>\r\n<!-- 20 -->\r\n<g id=\"node21\" class=\"node\"><title>20</title>\r\n<polygon fill=\"none\" stroke=\"black\" points=\"761,-461.5 656,-461.5 656,-408.5 761,-408.5 761,-461.5\"/>\r\n<text text-anchor=\"middle\" x=\"708.5\" y=\"-446.3\" font-family=\"Times New Roman,serif\" font-size=\"14.00\">gini = 0.0</text>\r\n<text text-anchor=\"middle\" x=\"708.5\" y=\"-431.3\" font-family=\"Times New Roman,serif\" font-size=\"14.00\">samples = 4</text>\r\n<text text-anchor=\"middle\" x=\"708.5\" y=\"-416.3\" font-family=\"Times New Roman,serif\" font-size=\"14.00\">value = [4, 0, 0]</text>\r\n</g>\r\n<!-- 19&#45;&gt;20 -->\r\n<g id=\"edge20\" class=\"edge\"><title>19&#45;&gt;20</title>\r\n<path fill=\"none\" stroke=\"black\" d=\"M795.617,-504.884C780.596,-493.006 763.7,-479.646 748.814,-467.876\"/>\r\n<polygon fill=\"black\" stroke=\"black\" points=\"750.79,-464.977 740.775,-461.52 746.449,-470.468 750.79,-464.977\"/>\r\n</g>\r\n<!-- 21 -->\r\n<g id=\"node22\" class=\"node\"><title>21</title>\r\n<polygon fill=\"none\" stroke=\"black\" points=\"896,-469 779,-469 779,-401 896,-401 896,-469\"/>\r\n<text text-anchor=\"middle\" x=\"837.5\" y=\"-453.8\" font-family=\"Times New Roman,serif\" font-size=\"14.00\">X[2090] &lt;= 0.004</text>\r\n<text text-anchor=\"middle\" x=\"837.5\" y=\"-438.8\" font-family=\"Times New Roman,serif\" font-size=\"14.00\">gini = 0.5</text>\r\n<text text-anchor=\"middle\" x=\"837.5\" y=\"-423.8\" font-family=\"Times New Roman,serif\" font-size=\"14.00\">samples = 2</text>\r\n<text text-anchor=\"middle\" x=\"837.5\" y=\"-408.8\" font-family=\"Times New Roman,serif\" font-size=\"14.00\">value = [0, 1, 1]</text>\r\n</g>\r\n<!-- 19&#45;&gt;21 -->\r\n<g id=\"edge21\" class=\"edge\"><title>19&#45;&gt;21</title>\r\n<path fill=\"none\" stroke=\"black\" d=\"M837.5,-504.884C837.5,-496.778 837.5,-487.982 837.5,-479.472\"/>\r\n<polygon fill=\"black\" stroke=\"black\" points=\"841,-479.299 837.5,-469.299 834,-479.299 841,-479.299\"/>\r\n</g>\r\n<!-- 22 -->\r\n<g id=\"node23\" class=\"node\"><title>22</title>\r\n<polygon fill=\"none\" stroke=\"black\" points=\"883,-357.5 778,-357.5 778,-304.5 883,-304.5 883,-357.5\"/>\r\n<text text-anchor=\"middle\" x=\"830.5\" y=\"-342.3\" font-family=\"Times New Roman,serif\" font-size=\"14.00\">gini = 0.0</text>\r\n<text text-anchor=\"middle\" x=\"830.5\" y=\"-327.3\" font-family=\"Times New Roman,serif\" font-size=\"14.00\">samples = 1</text>\r\n<text text-anchor=\"middle\" x=\"830.5\" y=\"-312.3\" font-family=\"Times New Roman,serif\" font-size=\"14.00\">value = [0, 0, 1]</text>\r\n</g>\r\n<!-- 21&#45;&gt;22 -->\r\n<g id=\"edge22\" class=\"edge\"><title>21&#45;&gt;22</title>\r\n<path fill=\"none\" stroke=\"black\" d=\"M835.227,-400.884C834.495,-390.216 833.681,-378.352 832.938,-367.519\"/>\r\n<polygon fill=\"black\" stroke=\"black\" points=\"836.428,-367.257 832.251,-357.52 829.444,-367.736 836.428,-367.257\"/>\r\n</g>\r\n<!-- 23 -->\r\n<g id=\"node24\" class=\"node\"><title>23</title>\r\n<polygon fill=\"none\" stroke=\"black\" points=\"1006,-357.5 901,-357.5 901,-304.5 1006,-304.5 1006,-357.5\"/>\r\n<text text-anchor=\"middle\" x=\"953.5\" y=\"-342.3\" font-family=\"Times New Roman,serif\" font-size=\"14.00\">gini = 0.0</text>\r\n<text text-anchor=\"middle\" x=\"953.5\" y=\"-327.3\" font-family=\"Times New Roman,serif\" font-size=\"14.00\">samples = 1</text>\r\n<text text-anchor=\"middle\" x=\"953.5\" y=\"-312.3\" font-family=\"Times New Roman,serif\" font-size=\"14.00\">value = [0, 1, 0]</text>\r\n</g>\r\n<!-- 21&#45;&gt;23 -->\r\n<g id=\"edge23\" class=\"edge\"><title>21&#45;&gt;23</title>\r\n<path fill=\"none\" stroke=\"black\" d=\"M875.162,-400.884C888.545,-389.116 903.582,-375.894 916.877,-364.203\"/>\r\n<polygon fill=\"black\" stroke=\"black\" points=\"919.279,-366.752 924.477,-357.52 914.656,-361.495 919.279,-366.752\"/>\r\n</g>\r\n<!-- 25 -->\r\n<g id=\"node26\" class=\"node\"><title>25</title>\r\n<polygon fill=\"none\" stroke=\"black\" points=\"1033,-461.5 914,-461.5 914,-408.5 1033,-408.5 1033,-461.5\"/>\r\n<text text-anchor=\"middle\" x=\"973.5\" y=\"-446.3\" font-family=\"Times New Roman,serif\" font-size=\"14.00\">gini = 0.0</text>\r\n<text text-anchor=\"middle\" x=\"973.5\" y=\"-431.3\" font-family=\"Times New Roman,serif\" font-size=\"14.00\">samples = 136</text>\r\n<text text-anchor=\"middle\" x=\"973.5\" y=\"-416.3\" font-family=\"Times New Roman,serif\" font-size=\"14.00\">value = [0, 136, 0]</text>\r\n</g>\r\n<!-- 24&#45;&gt;25 -->\r\n<g id=\"edge25\" class=\"edge\"><title>24&#45;&gt;25</title>\r\n<path fill=\"none\" stroke=\"black\" d=\"M973.5,-504.884C973.5,-494.326 973.5,-482.597 973.5,-471.854\"/>\r\n<polygon fill=\"black\" stroke=\"black\" points=\"977,-471.52 973.5,-461.52 970,-471.52 977,-471.52\"/>\r\n</g>\r\n<!-- 26 -->\r\n<g id=\"node27\" class=\"node\"><title>26</title>\r\n<polygon fill=\"none\" stroke=\"black\" points=\"1168,-469 1051,-469 1051,-401 1168,-401 1168,-469\"/>\r\n<text text-anchor=\"middle\" x=\"1109.5\" y=\"-453.8\" font-family=\"Times New Roman,serif\" font-size=\"14.00\">X[8705] &lt;= 0.021</text>\r\n<text text-anchor=\"middle\" x=\"1109.5\" y=\"-438.8\" font-family=\"Times New Roman,serif\" font-size=\"14.00\">gini = 0.444</text>\r\n<text text-anchor=\"middle\" x=\"1109.5\" y=\"-423.8\" font-family=\"Times New Roman,serif\" font-size=\"14.00\">samples = 3</text>\r\n<text text-anchor=\"middle\" x=\"1109.5\" y=\"-408.8\" font-family=\"Times New Roman,serif\" font-size=\"14.00\">value = [2, 1, 0]</text>\r\n</g>\r\n<!-- 24&#45;&gt;26 -->\r\n<g id=\"edge26\" class=\"edge\"><title>24&#45;&gt;26</title>\r\n<path fill=\"none\" stroke=\"black\" d=\"M1017.66,-504.884C1030.13,-495.531 1043.82,-485.259 1056.74,-475.568\"/>\r\n<polygon fill=\"black\" stroke=\"black\" points=\"1059.2,-478.099 1065.1,-469.299 1055,-472.499 1059.2,-478.099\"/>\r\n</g>\r\n<!-- 27 -->\r\n<g id=\"node28\" class=\"node\"><title>27</title>\r\n<polygon fill=\"none\" stroke=\"black\" points=\"1146,-357.5 1041,-357.5 1041,-304.5 1146,-304.5 1146,-357.5\"/>\r\n<text text-anchor=\"middle\" x=\"1093.5\" y=\"-342.3\" font-family=\"Times New Roman,serif\" font-size=\"14.00\">gini = 0.0</text>\r\n<text text-anchor=\"middle\" x=\"1093.5\" y=\"-327.3\" font-family=\"Times New Roman,serif\" font-size=\"14.00\">samples = 2</text>\r\n<text text-anchor=\"middle\" x=\"1093.5\" y=\"-312.3\" font-family=\"Times New Roman,serif\" font-size=\"14.00\">value = [2, 0, 0]</text>\r\n</g>\r\n<!-- 26&#45;&gt;27 -->\r\n<g id=\"edge27\" class=\"edge\"><title>26&#45;&gt;27</title>\r\n<path fill=\"none\" stroke=\"black\" d=\"M1104.31,-400.884C1102.63,-390.216 1100.77,-378.352 1099.07,-367.519\"/>\r\n<polygon fill=\"black\" stroke=\"black\" points=\"1102.51,-366.857 1097.5,-357.52 1095.6,-367.942 1102.51,-366.857\"/>\r\n</g>\r\n<!-- 28 -->\r\n<g id=\"node29\" class=\"node\"><title>28</title>\r\n<polygon fill=\"none\" stroke=\"black\" points=\"1269,-357.5 1164,-357.5 1164,-304.5 1269,-304.5 1269,-357.5\"/>\r\n<text text-anchor=\"middle\" x=\"1216.5\" y=\"-342.3\" font-family=\"Times New Roman,serif\" font-size=\"14.00\">gini = 0.0</text>\r\n<text text-anchor=\"middle\" x=\"1216.5\" y=\"-327.3\" font-family=\"Times New Roman,serif\" font-size=\"14.00\">samples = 1</text>\r\n<text text-anchor=\"middle\" x=\"1216.5\" y=\"-312.3\" font-family=\"Times New Roman,serif\" font-size=\"14.00\">value = [0, 1, 0]</text>\r\n</g>\r\n<!-- 26&#45;&gt;28 -->\r\n<g id=\"edge28\" class=\"edge\"><title>26&#45;&gt;28</title>\r\n<path fill=\"none\" stroke=\"black\" d=\"M1144.24,-400.884C1156.47,-389.226 1170.2,-376.141 1182.37,-364.532\"/>\r\n<polygon fill=\"black\" stroke=\"black\" points=\"1184.91,-366.953 1189.73,-357.52 1180.08,-361.887 1184.91,-366.953\"/>\r\n</g>\r\n</g>\r\n</svg>\r\n"
     },
     "metadata": {},
     "execution_count": 22
    }
   ],
   "source": [
    "import graphviz \n",
    "print(vectorizer2.get_feature_names())\n",
    "dot_data = tree.export_graphviz(dtree,out_file=None)\n",
    "graph = graphviz.Source(dot_data)\n",
    "graph"
   ]
  },
  {
   "cell_type": "code",
   "execution_count": 23,
   "metadata": {},
   "outputs": [
    {
     "output_type": "stream",
     "name": "stdout",
     "text": [
      "0.8866995073891626\n"
     ]
    },
    {
     "output_type": "execute_result",
     "data": {
      "text/plain": [
       "<graphviz.files.Source at 0x1b38fce5f08>"
      ],
      "image/svg+xml": "<?xml version=\"1.0\" encoding=\"UTF-8\" standalone=\"no\"?>\r\n<!DOCTYPE svg PUBLIC \"-//W3C//DTD SVG 1.1//EN\"\r\n \"http://www.w3.org/Graphics/SVG/1.1/DTD/svg11.dtd\">\r\n<!-- Generated by graphviz version 2.38.0 (20140413.2041)\r\n -->\r\n<!-- Title: Tree Pages: 1 -->\r\n<svg width=\"515pt\" height=\"269pt\"\r\n viewBox=\"0.00 0.00 515.00 269.00\" xmlns=\"http://www.w3.org/2000/svg\" xmlns:xlink=\"http://www.w3.org/1999/xlink\">\r\n<g id=\"graph0\" class=\"graph\" transform=\"scale(1 1) rotate(0) translate(4 265)\">\r\n<title>Tree</title>\r\n<polygon fill=\"white\" stroke=\"none\" points=\"-4,4 -4,-265 511,-265 511,4 -4,4\"/>\r\n<!-- 0 -->\r\n<g id=\"node1\" class=\"node\"><title>0</title>\r\n<polygon fill=\"none\" stroke=\"black\" points=\"326,-261 187,-261 187,-193 326,-193 326,-261\"/>\r\n<text text-anchor=\"middle\" x=\"256.5\" y=\"-245.8\" font-family=\"Times New Roman,serif\" font-size=\"14.00\">X[644] &lt;= 0.018</text>\r\n<text text-anchor=\"middle\" x=\"256.5\" y=\"-230.8\" font-family=\"Times New Roman,serif\" font-size=\"14.00\">gini = 0.546</text>\r\n<text text-anchor=\"middle\" x=\"256.5\" y=\"-215.8\" font-family=\"Times New Roman,serif\" font-size=\"14.00\">samples = 303</text>\r\n<text text-anchor=\"middle\" x=\"256.5\" y=\"-200.8\" font-family=\"Times New Roman,serif\" font-size=\"14.00\">value = [142, 146, 15]</text>\r\n</g>\r\n<!-- 1 -->\r\n<g id=\"node2\" class=\"node\"><title>1</title>\r\n<polygon fill=\"none\" stroke=\"black\" points=\"249,-157 124,-157 124,-89 249,-89 249,-157\"/>\r\n<text text-anchor=\"middle\" x=\"186.5\" y=\"-141.8\" font-family=\"Times New Roman,serif\" font-size=\"14.00\">X[5381] &lt;= 0.006</text>\r\n<text text-anchor=\"middle\" x=\"186.5\" y=\"-126.8\" font-family=\"Times New Roman,serif\" font-size=\"14.00\">gini = 0.249</text>\r\n<text text-anchor=\"middle\" x=\"186.5\" y=\"-111.8\" font-family=\"Times New Roman,serif\" font-size=\"14.00\">samples = 158</text>\r\n<text text-anchor=\"middle\" x=\"186.5\" y=\"-96.8\" font-family=\"Times New Roman,serif\" font-size=\"14.00\">value = [136, 8, 14]</text>\r\n</g>\r\n<!-- 0&#45;&gt;1 -->\r\n<g id=\"edge1\" class=\"edge\"><title>0&#45;&gt;1</title>\r\n<path fill=\"none\" stroke=\"black\" d=\"M233.773,-192.884C227.843,-184.243 221.376,-174.819 215.181,-165.793\"/>\r\n<polygon fill=\"black\" stroke=\"black\" points=\"217.897,-163.564 209.353,-157.299 212.125,-167.525 217.897,-163.564\"/>\r\n<text text-anchor=\"middle\" x=\"204.78\" y=\"-178.178\" font-family=\"Times New Roman,serif\" font-size=\"14.00\">True</text>\r\n</g>\r\n<!-- 4 -->\r\n<g id=\"node5\" class=\"node\"><title>4</title>\r\n<polygon fill=\"none\" stroke=\"black\" points=\"386,-157 267,-157 267,-89 386,-89 386,-157\"/>\r\n<text text-anchor=\"middle\" x=\"326.5\" y=\"-141.8\" font-family=\"Times New Roman,serif\" font-size=\"14.00\">X[7901] &lt;= 0.014</text>\r\n<text text-anchor=\"middle\" x=\"326.5\" y=\"-126.8\" font-family=\"Times New Roman,serif\" font-size=\"14.00\">gini = 0.092</text>\r\n<text text-anchor=\"middle\" x=\"326.5\" y=\"-111.8\" font-family=\"Times New Roman,serif\" font-size=\"14.00\">samples = 145</text>\r\n<text text-anchor=\"middle\" x=\"326.5\" y=\"-96.8\" font-family=\"Times New Roman,serif\" font-size=\"14.00\">value = [6, 138, 1]</text>\r\n</g>\r\n<!-- 0&#45;&gt;4 -->\r\n<g id=\"edge4\" class=\"edge\"><title>0&#45;&gt;4</title>\r\n<path fill=\"none\" stroke=\"black\" d=\"M279.227,-192.884C285.157,-184.243 291.624,-174.819 297.819,-165.793\"/>\r\n<polygon fill=\"black\" stroke=\"black\" points=\"300.875,-167.525 303.647,-157.299 295.103,-163.564 300.875,-167.525\"/>\r\n<text text-anchor=\"middle\" x=\"308.22\" y=\"-178.178\" font-family=\"Times New Roman,serif\" font-size=\"14.00\">False</text>\r\n</g>\r\n<!-- 2 -->\r\n<g id=\"node3\" class=\"node\"><title>2</title>\r\n<polygon fill=\"none\" stroke=\"black\" points=\"119,-53 -7.10543e-015,-53 -7.10543e-015,-0 119,-0 119,-53\"/>\r\n<text text-anchor=\"middle\" x=\"59.5\" y=\"-37.8\" font-family=\"Times New Roman,serif\" font-size=\"14.00\">gini = 0.194</text>\r\n<text text-anchor=\"middle\" x=\"59.5\" y=\"-22.8\" font-family=\"Times New Roman,serif\" font-size=\"14.00\">samples = 152</text>\r\n<text text-anchor=\"middle\" x=\"59.5\" y=\"-7.8\" font-family=\"Times New Roman,serif\" font-size=\"14.00\">value = [136, 8, 8]</text>\r\n</g>\r\n<!-- 1&#45;&gt;2 -->\r\n<g id=\"edge2\" class=\"edge\"><title>1&#45;&gt;2</title>\r\n<path fill=\"none\" stroke=\"black\" d=\"M142.082,-88.9485C129.173,-79.3431 115.104,-68.8747 102.297,-59.345\"/>\r\n<polygon fill=\"black\" stroke=\"black\" points=\"104.2,-56.3984 94.088,-53.2367 100.021,-62.0143 104.2,-56.3984\"/>\r\n</g>\r\n<!-- 3 -->\r\n<g id=\"node4\" class=\"node\"><title>3</title>\r\n<polygon fill=\"none\" stroke=\"black\" points=\"242,-53 137,-53 137,-0 242,-0 242,-53\"/>\r\n<text text-anchor=\"middle\" x=\"189.5\" y=\"-37.8\" font-family=\"Times New Roman,serif\" font-size=\"14.00\">gini = 0.0</text>\r\n<text text-anchor=\"middle\" x=\"189.5\" y=\"-22.8\" font-family=\"Times New Roman,serif\" font-size=\"14.00\">samples = 6</text>\r\n<text text-anchor=\"middle\" x=\"189.5\" y=\"-7.8\" font-family=\"Times New Roman,serif\" font-size=\"14.00\">value = [0, 0, 6]</text>\r\n</g>\r\n<!-- 1&#45;&gt;3 -->\r\n<g id=\"edge3\" class=\"edge\"><title>1&#45;&gt;3</title>\r\n<path fill=\"none\" stroke=\"black\" d=\"M187.549,-88.9485C187.811,-80.7153 188.092,-71.848 188.358,-63.4814\"/>\r\n<polygon fill=\"black\" stroke=\"black\" points=\"191.864,-63.3428 188.683,-53.2367 184.867,-63.1206 191.864,-63.3428\"/>\r\n</g>\r\n<!-- 5 -->\r\n<g id=\"node6\" class=\"node\"><title>5</title>\r\n<polygon fill=\"none\" stroke=\"black\" points=\"384,-53 265,-53 265,-0 384,-0 384,-53\"/>\r\n<text text-anchor=\"middle\" x=\"324.5\" y=\"-37.8\" font-family=\"Times New Roman,serif\" font-size=\"14.00\">gini = 0.028</text>\r\n<text text-anchor=\"middle\" x=\"324.5\" y=\"-22.8\" font-family=\"Times New Roman,serif\" font-size=\"14.00\">samples = 139</text>\r\n<text text-anchor=\"middle\" x=\"324.5\" y=\"-7.8\" font-family=\"Times New Roman,serif\" font-size=\"14.00\">value = [2, 137, 0]</text>\r\n</g>\r\n<!-- 4&#45;&gt;5 -->\r\n<g id=\"edge5\" class=\"edge\"><title>4&#45;&gt;5</title>\r\n<path fill=\"none\" stroke=\"black\" d=\"M325.8,-88.9485C325.626,-80.7153 325.439,-71.848 325.262,-63.4814\"/>\r\n<polygon fill=\"black\" stroke=\"black\" points=\"328.756,-63.1604 325.045,-53.2367 321.757,-63.3086 328.756,-63.1604\"/>\r\n</g>\r\n<!-- 6 -->\r\n<g id=\"node7\" class=\"node\"><title>6</title>\r\n<polygon fill=\"none\" stroke=\"black\" points=\"507,-53 402,-53 402,-0 507,-0 507,-53\"/>\r\n<text text-anchor=\"middle\" x=\"454.5\" y=\"-37.8\" font-family=\"Times New Roman,serif\" font-size=\"14.00\">gini = 0.5</text>\r\n<text text-anchor=\"middle\" x=\"454.5\" y=\"-22.8\" font-family=\"Times New Roman,serif\" font-size=\"14.00\">samples = 6</text>\r\n<text text-anchor=\"middle\" x=\"454.5\" y=\"-7.8\" font-family=\"Times New Roman,serif\" font-size=\"14.00\">value = [4, 1, 1]</text>\r\n</g>\r\n<!-- 4&#45;&gt;6 -->\r\n<g id=\"edge6\" class=\"edge\"><title>4&#45;&gt;6</title>\r\n<path fill=\"none\" stroke=\"black\" d=\"M371.268,-88.9485C384.279,-79.3431 398.458,-68.8747 411.366,-59.345\"/>\r\n<polygon fill=\"black\" stroke=\"black\" points=\"413.673,-61.992 419.64,-53.2367 409.516,-56.3605 413.673,-61.992\"/>\r\n</g>\r\n</g>\r\n</svg>\r\n"
     },
     "metadata": {},
     "execution_count": 23
    }
   ],
   "source": [
    "dtree2 = tree.DecisionTreeClassifier(max_depth=2)\n",
    "dtree2 = dtree2.fit(X_train, y_train)\n",
    "print(dtree2.score(X_test,y_test))\n",
    "dot_data2 = tree.export_graphviz(dtree2,out_file=None)\n",
    "graph2 = graphviz.Source(dot_data2)\n",
    "graph2"
   ]
  },
  {
   "cell_type": "code",
   "execution_count": null,
   "metadata": {},
   "outputs": [],
   "source": []
  },
  {
   "cell_type": "code",
   "execution_count": 24,
   "metadata": {},
   "outputs": [
    {
     "output_type": "stream",
     "name": "stdout",
     "text": [
      "classifier score: 0.9556650246305419\n\naccuracy: 0.9556650246305419\n\nConfusion matrix\n[[ 86   5   2]\n [  0 100   0]\n [  2   0   8]]\n\nPrecision Score per class\n[0.97727273 0.95238095 0.8       ]\n\nAverage Precision Score\n0.9562781225342801\n\nRecall Score per class\n[0.92473118 1.         0.8       ]\n\nAverage Recall Score\n0.9556650246305419\n\nF1-score Score per class\n[0.95027624 0.97560976 0.8       ]\n\nAverage F1 Score\n0.9553530355541424\n"
     ]
    }
   ],
   "source": [
    "from sklearn.neighbors import KNeighborsClassifier\n",
    "\n",
    "knn = KNeighborsClassifier(n_neighbors=3)\n",
    "knn.fit(X_train,y_train)\n",
    "print(\"classifier score:\", knn.score(X_test,y_test))\n",
    "\n",
    "y_pred = knn.predict(X_test)\n",
    "\n",
    "print(\"\\naccuracy:\",metrics.accuracy_score(y_test,y_pred))\n",
    "print(\"\\nConfusion matrix\")\n",
    "print(metrics.confusion_matrix(y_test,y_pred))\n",
    "print(\"\\nPrecision Score per class\")\n",
    "print(metrics.precision_score(y_test,y_pred,average=None))\n",
    "print(\"\\nAverage Precision Score\")\n",
    "print(metrics.precision_score(y_test,y_pred,average='weighted'))\n",
    "print(\"\\nRecall Score per class\")\n",
    "print(metrics.recall_score(y_test,y_pred,average=None))\n",
    "print(\"\\nAverage Recall Score\")\n",
    "print(metrics.recall_score(y_test,y_pred,average='weighted'))\n",
    "print(\"\\nF1-score Score per class\")\n",
    "print(metrics.f1_score(y_test,y_pred,average=None))\n",
    "print(\"\\nAverage F1 Score\")\n",
    "print(metrics.f1_score(y_test,y_pred,average='weighted'))"
   ]
  },
  {
   "cell_type": "code",
   "execution_count": null,
   "metadata": {},
   "outputs": [],
   "source": []
  },
  {
   "source": [
    "from sklearn.naive_bayes import GaussianNB\n",
    "gnb = GaussianNB()\n",
    "gnb.fit(X_train, y_train)\n",
    "y_pred = gnb.predict(X_test)\n",
    "print(\"Accuracy:\",metrics.accuracy_score(y_test, y_pred))\n",
    "print(\"Number of mislabeled points out of a total %d points : %d\"\n",
    "% (X_test.shape[0], (y_test != y_pred).sum()))\n"
   ],
   "cell_type": "markdown",
   "metadata": {}
  },
  {
   "cell_type": "code",
   "execution_count": 25,
   "metadata": {},
   "outputs": [
    {
     "output_type": "error",
     "ename": "NameError",
     "evalue": "name 'y' is not defined",
     "traceback": [
      "\u001b[1;31m---------------------------------------------------------------------------\u001b[0m",
      "\u001b[1;31mNameError\u001b[0m                                 Traceback (most recent call last)",
      "\u001b[1;32m<ipython-input-25-a9a82322260f>\u001b[0m in \u001b[0;36m<module>\u001b[1;34m\u001b[0m\n\u001b[0;32m      5\u001b[0m                                           \u001b[0mdtree\u001b[0m\u001b[1;33m,\u001b[0m\u001b[1;33m\u001b[0m\u001b[1;33m\u001b[0m\u001b[0m\n\u001b[0;32m      6\u001b[0m                                           \u001b[0mX\u001b[0m\u001b[1;33m,\u001b[0m\u001b[1;33m\u001b[0m\u001b[1;33m\u001b[0m\u001b[0m\n\u001b[1;32m----> 7\u001b[1;33m                                           \u001b[0my\u001b[0m\u001b[1;33m,\u001b[0m\u001b[1;33m\u001b[0m\u001b[1;33m\u001b[0m\u001b[0m\n\u001b[0m\u001b[0;32m      8\u001b[0m                                           \u001b[0mscoring\u001b[0m\u001b[1;33m=\u001b[0m\u001b[1;33m[\u001b[0m\u001b[1;34m'precision_weighted'\u001b[0m\u001b[1;33m,\u001b[0m\u001b[1;34m'recall_weighted'\u001b[0m\u001b[1;33m,\u001b[0m\u001b[1;34m'f1_weighted'\u001b[0m\u001b[1;33m]\u001b[0m\u001b[1;33m,\u001b[0m\u001b[1;33m\u001b[0m\u001b[1;33m\u001b[0m\u001b[0m\n\u001b[0;32m      9\u001b[0m                                           cv=5)\n",
      "\u001b[1;31mNameError\u001b[0m: name 'y' is not defined"
     ]
    }
   ],
   "source": [
    "import sklearn.model_selection as model_selection\n",
    "scores_dtree = model_selection.cross_validate(#lr_clf,\n",
    "                                          #svm_clf,\n",
    "                                          #knn,\n",
    "                                          dtree,\n",
    "                                          X,\n",
    "                                          y,\n",
    "                                          scoring=['precision_weighted','recall_weighted','f1_weighted'],\n",
    "                                          cv=5)\n",
    "print (scores_dtree)\n",
    "print (scores_dtree['test_precision_weighted'].mean(),scores_dtree['test_recall_weighted'].mean(),scores_dtree['test_f1_weighted'].mean())"
   ]
  },
  {
   "cell_type": "code",
   "execution_count": 200,
   "metadata": {},
   "outputs": [
    {
     "output_type": "stream",
     "name": "stdout",
     "text": [
      "{'fit_time': array([0.00197124, 0.00097156, 0.00097108, 0.00102997, 0.00199914]), 'score_time': array([0.01402855, 0.01502919, 0.01300097, 0.01297092, 0.00899863]), 'test_precision_weighted': array([0.40092006, 0.2361271 , 0.2088441 , 0.20297419, 0.24445069]), 'test_recall_weighted': array([0.42156863, 0.31683168, 0.25742574, 0.23762376, 0.30693069]), 'test_f1_weighted': array([0.41097199, 0.26323668, 0.22787657, 0.21592752, 0.26372603])}\n0.25866322704826183 0.30807610172781985 0.2763477582788586\n"
     ]
    }
   ],
   "source": [
    "scores_knn = model_selection.cross_validate(#lr_clf,\n",
    "                                          #svm_clf,\n",
    "                                          knn,\n",
    "                                          #dtree,\n",
    "                                          X,\n",
    "                                          y,\n",
    "                                          scoring=['precision_weighted','recall_weighted','f1_weighted'],\n",
    "                                          cv=5)\n",
    "print (scores_knn)\n",
    "print (scores_knn['test_precision_weighted'].mean(),scores_knn['test_recall_weighted'].mean(),scores_knn['test_f1_weighted'].mean())"
   ]
  },
  {
   "cell_type": "code",
   "execution_count": 201,
   "metadata": {},
   "outputs": [
    {
     "output_type": "stream",
     "name": "stdout",
     "text": [
      "{'fit_time': array([0.01099944, 0.0079987 , 0.00696111, 0.00700521, 0.00700021]), 'score_time': array([0.00599957, 0.00403404, 0.00400281, 0.00399494, 0.0039444 ]), 'test_precision_weighted': array([0.4704882 , 0.64660387, 0.55535869, 0.42365924, 0.41423801]), 'test_recall_weighted': array([0.49019608, 0.53465347, 0.51485149, 0.48514851, 0.43564356]), 'test_f1_weighted': array([0.35410497, 0.42910445, 0.39367333, 0.35030596, 0.42465857])}\n0.5020696024232539 0.49209862162686857 0.39036945529060074\n"
     ]
    }
   ],
   "source": [
    "scores_svm = model_selection.cross_validate(#lr_clf,\n",
    "                                          svm_clf,\n",
    "                                          #knn,\n",
    "                                          #dtree,\n",
    "                                          X,\n",
    "                                          y,\n",
    "                                          scoring=['precision_weighted','recall_weighted','f1_weighted'],\n",
    "                                          cv=5)\n",
    "print (scores_svm)\n",
    "print (scores_svm['test_precision_weighted'].mean(),scores_svm['test_recall_weighted'].mean(),scores_svm['test_f1_weighted'].mean())"
   ]
  },
  {
   "cell_type": "code",
   "execution_count": 202,
   "metadata": {},
   "outputs": [
    {
     "output_type": "stream",
     "name": "stdout",
     "text": [
      "{'fit_time': array([0.01800036, 0.01300025, 0.01600122, 0.01400065, 0.01399994]), 'score_time': array([0.00300026, 0.00299931, 0.00200009, 0.00300026, 0.00299978]), 'test_precision_weighted': array([0.4704882 , 0.64660387, 0.55535869, 0.42365924, 0.41423801]), 'test_recall_weighted': array([0.49019608, 0.53465347, 0.51485149, 0.48514851, 0.43564356]), 'test_f1_weighted': array([0.35410497, 0.42910445, 0.39367333, 0.35030596, 0.42465857])}\n0.5020696024232539 0.49209862162686857 0.39036945529060074\n"
     ]
    }
   ],
   "source": [
    "scores_lr = model_selection.cross_validate(lr_clf,\n",
    "                                          #svm_clf,\n",
    "                                          #knn,\n",
    "                                          #dtree,\n",
    "                                          X,\n",
    "                                          y,\n",
    "                                          scoring=['precision_weighted','recall_weighted','f1_weighted'],\n",
    "                                          cv=5)\n",
    "print (scores_lr)\n",
    "print (scores_lr['test_precision_weighted'].mean(),scores_lr['test_recall_weighted'].mean(),scores_lr['test_f1_weighted'].mean())"
   ]
  },
  {
   "source": [
    "Παρατηρώ ότι όλα τα μοντέλα εκτός από το knn έχουν ίδια mean των σταθμισμένων scores. Το knn μοντέλο δίνει περίπου το μισό σταθμισμένο precision σε σύγκριση με τα υπόλοιπα."
   ],
   "cell_type": "markdown",
   "metadata": {}
  },
  {
   "cell_type": "code",
   "execution_count": null,
   "metadata": {},
   "outputs": [],
   "source": []
  },
  {
   "cell_type": "code",
   "execution_count": 61,
   "metadata": {
    "tags": [
     "outputPrepend"
    ]
   },
   "outputs": [
    {
     "output_type": "stream",
     "name": "stdout",
     "text": [
      "em. I even bought a robe for my grandmother at another store and they changed me $ for the most lovely wrapping job I\\'ve ever seen.\\n\\nFriendly and warm. I will keep stopping by his shop, again and again.If you are anything like me and spend hours browsing stores like Chapters you\\'ll love this place ! Well I don\\'t know if that is a fair comparison as this place is nothing like the branded items you find at Chapters. I came after work late in the evening and the atmosphere inside was enough to put me at ease. The store is quite small so I really don\\'t understand how I ended up spending nearly an hour in there ! They have quite a few items I had seen online but could never find in stores. There were quite a few Alice in Wonderland and Le Petit Prince Vintage items to be found. I picked up a really cute handmade card for my friend, a couple of sticky notes as well as a pen for $ ! The prices are a little steep so it adds up quickly. It\\'s a wonderfully adorable place full of unique items and I can\\'t wait to go back.We were up visiting Toronto from NYC over the holidays. This place was amazing. The paper products were stunning and beautiful, and the cards are magnificent and inexpensive. We suggested they open in NYC to compete with Papyrus and Kate\\'s, which sux and are waaaaaaaaay overpriced. Hanji would CRUSH it down here. Open in the Village!This place is wonderful! The couple who run this shop are very sweet! Their stationary is beautiful, and there\\'s lots of variety! They are also super helpful when you need help picking out that special something for your loved ones, or something for yourself. They offer unique cards, beautiful delicate papers, stamp pads, cute stamps and so much more! Their prices are also fairly reasonable for imported goods! \\n\\nThey also offer a crafting table - you can book and reserve a spot with them for a fee and you can purchase materials for different paper craft projects to work on. Catherine was kind enough to guide me through a simple bookbinding project, and another time helped me make a beautiful mirrored jewellery box and a handheld mirror for my friend. \\n\\nThis store is located in a row of Korean eating places - and directly across the street from snakes and lattes.Here at Hanji, you can find cute, thoughtful and unique gifts for that special someone to celebrate all kind of life events.\\n\\nAll these pop up gift cards are all so well made. And there are also other small gifts for someone that appreciate better things in life.\\n\\nI always have so much fun browsing around. And if you are shopping for someone special, maybe you should come to Hanji take a look!This is a beautiful shop - great for gifts or for anyone who is into doing crafty things. It kinda reminds me of The Paper Place on Queen West. They have lots of cards, fancy Korean paper, stamps... basically anything you need to make nice gifts. They have several boxes and gift items that have  prices: they make it or DIY. If you want to DIY, you can call and arrange a class and then you buy the materials and make it yourself in the store (or at home). There\\'s a big table in the front where you can work. They play very zen instrumental music, making for a calming shopping experience... \\n\\nWhen I went, the man at the counter was very nice. He took extra care wrapping my gifts carefully with pretty ribbons and tissue paper! He also gave me some stickers for free. I found the prices overall to be quite reasonable (unlike other places -- what\\'s with greeting cards costing over $ these days?!). Definitely worth swinging by here if you are in Koreatown!Hanji is a charming gift store in the heart of Koreatown, primarily stationary-related but full of oh-so-clever fun and beautiful items that you know you want but can\\'t justify having practically.  So fool yourself into thinking that you\\'re going to give them as gifts and then when you get home, you can decide that they\\'re really too nice to give away as only you would appreciate them.  Particularly acquisitive for me were the incredibly intricate laser-cut pop-up paper greeting cards and the -kt gold-plated delicately laser-cut steel bookmarks.  Hanji\\'s items are a little on the pricey-end but highly irresistable too!Love Hanji! Tried both locations and always find unique stationery items. They are my go-to for greeting cards, but also for small gifts like tote bags, handkerchiefs, stamps, and little notebooks. The owners are lovely & I wish them all the best!Terrific, stupendous, wonderful, and amazing.  My only lament is the time I spent consoling my wallet after I, albeit willingly, emptied it at this spectacular establishment!  \\n\\nWonderfully friendly Catherine was a delight, answering any and all questions I had.  Rest assured, I\\'ll be back for more VERY soon!This place is gorgeous and it stocks wonderful things--when I went in, there were several people just browsing and talking quietly to each other.  It feels like a very meditative shop.  The craftsmanship of the items on offer is clearly evident, and prices seem very reasonable for handmade goods.  And if you want to cut the price a bit, you can always purchase one of their kits and assemble the products yourself (you can even do it in-store for a $ glue-and-seating cover charge).\\n\\nThe staff is a bit pushy, though--I\\'m pretty good at evading chatty salespeople, but the friend I was with got sucked into a conversation that ended in the salesgirl trying to convince her that she needed a $ leather iPhone case.  Admittedly, it was a beautiful and useful gift, but not really something you buy on impulse.I love this shop. From great gift wrapping the wax seals, this spot is classy and aesthetically astounding. Do you want a unique pop up card? Need a wax seal for a letter? Want some pretty fn cute paper? Check out Hanji. \\n\\nEverything in this shop will leave an impression. In a time when emails and texts are the main show, snail mail and a little care for attention go a log way. If you want to get a message across quickly, send a text. If you want a message to last a long time, send a letter. \\n\\nThis place will up your flirting, thank you card, job interview, resume, invitation game up  arbitrary points.This store brings out the inner-child in me. \\nEverything they carry is beautiful and inspiring and I\\'ve never had a bad experience.Hanji is an ideal place to find unique and irresistibly cute gifts and stationary. In this predominantly Korean stationary store I was really surprised to discover some European themed stationary that brought me back to my childhood. There is a great supply and selection of adorable cards, gift papers, notebooks, calendars and novelty items. I highly recommend the spot to any stationary addict.\"Hanji\", according to Wikipedia, is the name of a traditional handmade paper from Korea made from the bark of a Mulberry tree.\\n\\nThe shop Hanji opened recently in Korea Town, selling handmade paper and gifts. The back of the shop is lined with sheets of paper, some plain and some with vivid colours/patterns, suitable for wrapping gifts.\\n\\nThere were also a selection of lamps made from the paper, with hand carved wooden bases. They had some other items made of the same paper and a selection of other gifts from Korea. They also had a few greeting cards and paper items from other countries, I noticed some stationary sourced from Sweden at the front of the shop.\\n\\nThey had a large craft table set up at the front where you could sit and work on your DIY craft kits, were also for sale at the shop. (You can make your own jewelry boxes and a few other items).\\n\\nIt\\'s a nice looking space with modern interior, great addition to Korea Town - would love to see more shops like this opening up in the area!The place is really simplistic, neat, and orderly. It\\'s overall a really comfortable atmosphere, but there is usually quite a bit of people browsing around.\\n\\nThe products are really neat in itself, but again as usual due to the monopoly power of asian stationary, they\\'re incredibly steeply priced and I would not be surprised if they had a ridiculously high mark up. The quality of the paper crafts and journals do seem to be of good quality, but at $- a card...I\\'ll probably pass. It\\'s cool, though! Journals are priced around $. - $. depending on size and pages.\\n\\nIn terms of the stationary, it\\'s a fairly good selection although limited. They\\'re very unique and interesting. I have heard that everything is imported from Korea, though some of the products may not necessarily be Korean produced/manufactured. \\n\\nI really liked the service here, they offer free gift wrapping! It\\'s a really nice and thoughtful touch. Overall, would recommend checking this place out for getting gifts because let\\'s face it - who could ever deny the pleasing aesthetic of expensive stationary?This is a great place to find unique cards. The owners here are really friendly and will always make time to help you find the perfect card or gift. Birthday cards are plenty but the wedding card selection is limited.I buy all my cards I sent to my family over seas. They also sell great quality paper, notebooks and Agendas.A small shop in Koreatown carrying many unique types of Hanji (Korean traditional handmade paper) and many other types of Korean products, housewares, stationery, etc. This shop reminded me on an area in Seoul; Insadong where you can find many handmade paper and ceramic crafts. \\n\\nBeautiful store, worth a visit if you\\'re looking for unique gifts & stationery, handmade wrapping paper, and ceramic housewares.Perfect for gift shopping! Their array of goods is all so fascinating, and the gift wrapping service is fantastic. The owner is a delight to talk to, too!Great store! So many unique and cool things here! I go bought sealing wax, which was in great condition and the lady was very kind and helpful, but knew to give space. Things can be pricey, but they are rather reasonable. Definitely worth visiting.Very nice people and cute store. Service was nice and there\\'s no feeling pressure of looking around the shop - since in stores like this, many employees stare at you like hawks when you\\'re looking around and browsing. Would go again.I stumbled in here during an afternoon stroll in the neighbourhood.  Who doesn\\'t like stationery?!\\n\\nHanji offers paper items like lamps, stationery and greeting cards.  My friend\\'s birthday was coming up so I decided I wouldn\\'t leave Hanji until I found an appropriate birthday card.  The mini cards right by the door were too cute for me to handle.  I did a couple of laps around the store making sure I got a good idea of everything it had to offer.  In the end, I settled on a boring letter set - lined paper with envelopes.  But wait!  This set included a four-leaf clover!  Not only is my friend\\'s birthday close (enough) to St. Patrick\\'s Day, this Leafs fan also owns an old Toronto St. Patricks hockey sweater.  How perfect.  \\n\\nDisclaimer: these four-leaf clovers are not real, but they certainly look natural (from afar).\\n\\nCool stuff!Hanji is an adorable, unique, sweet-as-apple-pie kind of store that carries everything that I love in a convenient location. They have hand-cut pop-up cards, vintage umbrellas, hanji paper (where they get their name from!), and a seemingly unlimited supply of stationary. A lot of their stuff is made in Korea, actually, but the actual origin of most of their products is a bit mysterious to me.\\n\\nIf you come here to pick up a gift for a friend, you really can\\'t go wrong with anything you choose. Everything is so lovely and your friend will probably squeal in delight. Alternatively, you can buy a myriad of things for yourself because TREAT YO SELF. \\n\\nEvery time I go into Hanji, the same workers are there, chatting and having a good time. I think their energy really brightens the place up! On rainy days there are less customers, but otherwise it\\'s hustling and bustling with people wanting to browse.\\n\\n(p.s. on a very rare occasion, the staff gave me a postcard for free! I am silently waiting for the day they\\'ll give me another freebie.)It\\'s such a delightful experience to browse Hanji. For anyone who has an appreciation for beautiful paper goods, this is the place to visit.\\n\\nThough, for my first visit... I actually came in here hoping to get some help with gift-wrapping. Thankfully, Robin was ever so gracious in lending a hand. She expertly took care of my oddly shaped item. I love how she paired the colours of the bow and paper. Everything was done in under  minutes and under $ at that!\\n\\nThank you, Robin!!Products - amazing and beautiful. Loved the details. Shipped from Korea and local too, which was great. I got a few notebooks, envelopes, and socks. All so cute!\\n\\nService - above and beyond! A girl named Wendy helped me who answered all my questions, provided support while choosing what to buy, gave great recommendations, and told me about the history of Hanji (Korean paper). Best customer experience I\\'ve ever had in a while!\\n\\nWill definitely return and have already recommended friends and family to revisit. \\n\\nThank you!Hanji offers not only beautiful Korean handmade paper, but a lot of artistic stationaries, cards and tea ware from Korea and Japan. They were truly authentic at a very reasonable price.\\n\\nI came on a Tuesday afternoon after work to do some gift wrapping. Yes, you can bring your own gift and they will wrap it for you with a Hanji of your choice(cardboard box can also be provided at a few bucks). On top of that, you can choice to add a paper flower or a ribbon. \\n\\nThere were already many people in the store at pm but the customer rep was very warm and helpful. The gift wrapping was done professionally within  minutes and the outcome was definitely above expectation. My gift looked not only beautiful but way more expensive after the wrapping lol.\\n\\nFor  cardboard boxes, two Hanji and two paper flower it took me $. Not a cheap price but absolutely worth the value, not to speak of the attentive and professional service. I highly recommend it if you are sending a gift to an important someone.Having done art in Korea, I think this store is a super cool concept. In theory....\\nHanji, meaning Korean paper, has a unique texture and color. I used to use it to make Korean traditional jewel boxes and tea tables, but at this store, there weren\\'t a lot of \"authentic\" Hanji products, which was a bit disappointing.\\nThey have cards and other cute stationery products though, but everything is a bit overpriced. :/ \\nI think for the same Korean products, I would shop online or go to bigger stores that carry the same thing.无意逛到呢间精品店，在热闹的韩国街上（Bloor st和Bathurst st附近）透过橱窗已经感受到别致的小物。有点点日式的布置风格，有售日系陶瓷茶具套装，好精致。仲有各种纸质的、迷你的，别致的小摆设，贺卡类和包装服务都有。'] ['Shopping', 'Bars', 'Shopping', 'Bars', 'Shopping', 'Bars', 'Bars', 'Beauty & Spa', 'Bars', 'Shopping', 'Shopping', 'Bars', 'Shopping', 'Shopping', 'Shopping', 'Shopping', 'Shopping', 'Shopping', 'Bars', 'Shopping', 'Bars', 'Shopping', 'Bars', 'Bars', 'Shopping', 'Shopping', 'Shopping', 'Beauty & Spa', 'Shopping', 'Beauty & Spa', 'Bars', 'Shopping', 'Shopping', 'Shopping', 'Shopping', 'Bars', 'Shopping', 'Bars', 'Shopping', 'Bars', 'Bars', 'Bars', 'Shopping', 'Bars', 'Bars', 'Bars', 'Bars', 'Shopping', 'Shopping', 'Bars', 'Bars', 'Shopping', 'Shopping', 'Shopping', 'Bars', 'Shopping', 'Shopping', 'Shopping', 'Shopping', 'Bars', 'Shopping', 'Shopping', 'Bars', 'Bars', 'Bars', 'Bars', 'Bars', 'Bars', 'Bars', 'Bars', 'Shopping', 'Bars', 'Bars', 'Shopping', 'Shopping', 'Shopping', 'Shopping', 'Shopping', 'Bars', 'Shopping', 'Bars', 'Shopping', 'Shopping', 'Bars', 'Shopping', 'Shopping', 'Bars', 'Shopping', 'Bars', 'Shopping', 'Bars', 'Shopping', 'Shopping', 'Bars', 'Bars', 'Shopping', 'Bars', 'Beauty & Spa', 'Shopping', 'Bars', 'Shopping', 'Shopping', 'Bars', 'Bars', 'Shopping', 'Bars', 'Shopping', 'Shopping', 'Bars', 'Shopping', 'Shopping', 'Bars', 'Shopping', 'Shopping', 'Bars', 'Shopping', 'Shopping', 'Bars', 'Shopping', 'Shopping', 'Beauty & Spa', 'Shopping', 'Bars', 'Bars', 'Shopping', 'Bars', 'Shopping', 'Shopping', 'Bars', 'Shopping', 'Shopping', 'Bars', 'Bars', 'Shopping', 'Bars', 'Bars', 'Bars', 'Bars', 'Bars', 'Bars', 'Bars', 'Bars', 'Bars', 'Beauty & Spa', 'Bars', 'Bars', 'Shopping', 'Shopping', 'Shopping', 'Shopping', 'Beauty & Spa', 'Shopping', 'Shopping', 'Bars', 'Bars', 'Shopping', 'Beauty & Spa', 'Bars', 'Bars', 'Shopping', 'Shopping', 'Bars', 'Shopping', 'Bars', 'Beauty & Spa', 'Bars', 'Bars', 'Bars', 'Bars', 'Shopping', 'Shopping', 'Bars', 'Bars', 'Bars', 'Shopping', 'Bars', 'Bars', 'Bars', 'Bars', 'Shopping', 'Shopping', 'Bars', 'Shopping', 'Shopping', 'Shopping', 'Shopping', 'Shopping', 'Bars', 'Bars', 'Bars', 'Shopping', 'Bars', 'Shopping', 'Shopping', 'Bars', 'Bars', 'Shopping', 'Shopping', 'Bars', 'Bars', 'Bars', 'Shopping', 'Bars', 'Bars', 'Bars', 'Bars', 'Shopping', 'Shopping', 'Shopping', 'Bars', 'Bars', 'Shopping', 'Bars', 'Shopping', 'Shopping', 'Shopping', 'Beauty & Spa', 'Bars', 'Shopping', 'Bars', 'Bars', 'Shopping', 'Shopping', 'Bars', 'Shopping', 'Bars', 'Bars', 'Bars', 'Bars', 'Shopping', 'Bars', 'Shopping', 'Shopping', 'Bars', 'Shopping', 'Shopping', 'Shopping', 'Bars', 'Bars', 'Bars', 'Bars', 'Bars', 'Bars', 'Shopping', 'Shopping', 'Bars', 'Bars', 'Shopping', 'Bars', 'Bars', 'Bars', 'Bars', 'Shopping', 'Shopping', 'Shopping', 'Bars', 'Shopping', 'Bars', 'Shopping', 'Bars', 'Shopping', 'Bars', 'Bars', 'Bars', 'Bars', 'Bars', 'Shopping', 'Bars', 'Shopping', 'Shopping', 'Shopping', 'Shopping', 'Bars', 'Bars', 'Bars', 'Shopping', 'Bars', 'Shopping', 'Bars', 'Shopping', 'Shopping', 'Bars', 'Bars', 'Shopping', 'Beauty & Spa', 'Bars', 'Shopping', 'Beauty & Spa', 'Bars', 'Shopping', 'Bars', 'Bars', 'Beauty & Spa', 'Bars', 'Bars', 'Beauty & Spa', 'Bars', 'Shopping', 'Bars', 'Bars', 'Bars', 'Shopping', 'Bars'] ['Bars', 'Shopping', 'Shopping', 'Beauty & Spa', 'Shopping', 'Shopping', 'Bars', 'Shopping', 'Beauty & Spa', 'Shopping', 'Bars', 'Shopping', 'Shopping', 'Shopping', 'Bars', 'Bars', 'Shopping', 'Bars', 'Shopping', 'Bars', 'Shopping', 'Bars', 'Shopping', 'Shopping', 'Bars', 'Shopping', 'Shopping', 'Shopping', 'Bars', 'Shopping', 'Shopping', 'Bars', 'Bars', 'Bars', 'Shopping', 'Shopping', 'Shopping', 'Bars', 'Shopping', 'Bars', 'Beauty & Spa', 'Shopping', 'Bars', 'Bars', 'Beauty & Spa', 'Shopping', 'Bars', 'Shopping', 'Shopping', 'Bars', 'Bars', 'Bars', 'Beauty & Spa', 'Shopping', 'Bars', 'Shopping', 'Bars', 'Shopping', 'Bars', 'Shopping', 'Shopping', 'Bars', 'Shopping', 'Bars', 'Shopping', 'Bars', 'Bars', 'Bars', 'Shopping', 'Shopping', 'Shopping', 'Bars', 'Bars', 'Shopping', 'Bars', 'Shopping', 'Shopping', 'Bars', 'Bars', 'Shopping', 'Shopping', 'Shopping', 'Beauty & Spa', 'Bars', 'Bars', 'Bars', 'Bars', 'Shopping', 'Shopping', 'Shopping', 'Bars', 'Beauty & Spa', 'Shopping', 'Bars', 'Bars', 'Bars', 'Bars', 'Bars', 'Shopping', 'Shopping', 'Bars', 'Shopping', 'Bars', 'Shopping', 'Bars', 'Bars', 'Bars', 'Shopping', 'Bars', 'Beauty & Spa', 'Bars', 'Bars', 'Bars', 'Shopping', 'Bars', 'Shopping', 'Bars', 'Shopping', 'Bars', 'Bars', 'Beauty & Spa', 'Shopping', 'Shopping', 'Bars', 'Bars', 'Bars', 'Shopping', 'Shopping', 'Bars', 'Shopping', 'Bars', 'Shopping', 'Bars', 'Shopping', 'Shopping', 'Beauty & Spa', 'Shopping', 'Bars', 'Shopping', 'Bars', 'Shopping', 'Shopping', 'Bars', 'Bars', 'Shopping', 'Bars', 'Bars', 'Shopping', 'Shopping', 'Shopping', 'Bars', 'Shopping', 'Shopping', 'Bars', 'Bars', 'Shopping', 'Shopping', 'Bars', 'Bars', 'Shopping', 'Bars', 'Shopping', 'Bars', 'Bars', 'Bars', 'Bars', 'Bars', 'Bars', 'Shopping', 'Bars', 'Bars', 'Shopping', 'Shopping', 'Bars', 'Shopping', 'Bars', 'Shopping', 'Beauty & Spa', 'Shopping', 'Shopping', 'Bars', 'Shopping', 'Bars', 'Shopping', 'Bars', 'Bars', 'Shopping', 'Bars', 'Bars', 'Shopping', 'Shopping', 'Shopping', 'Shopping', 'Bars', 'Shopping', 'Shopping', 'Bars', 'Shopping', 'Bars', 'Shopping', 'Bars', 'Shopping', 'Shopping']\n"
     ]
    }
   ],
   "source": [
    "X_train, X_test, y_train, y_test = train_test_split(df.Reviews.tolist(), df.categories.tolist(), test_size=0.4, random_state=1)\n",
    "#print(X_train, X_test, y_train, y_test)"
   ]
  },
  {
   "cell_type": "code",
   "execution_count": 74,
   "metadata": {},
   "outputs": [
    {
     "output_type": "stream",
     "name": "stderr",
     "text": [
      "[nltk_data] Downloading package punkt to\n[nltk_data]     C:\\Users\\miltosv\\AppData\\Roaming\\nltk_data...\n[nltk_data]   Package punkt is already up-to-date!\n[nltk_data] Downloading package stopwords to\n[nltk_data]     C:\\Users\\miltosv\\AppData\\Roaming\\nltk_data...\n[nltk_data]   Package stopwords is already up-to-date!\n"
     ]
    }
   ],
   "source": [
    "import nltk\n",
    "from nltk.tokenize import sent_tokenize, word_tokenize \n",
    "from nltk.corpus import stopwords\n",
    "nltk.download('punkt')\n",
    "nltk.download('stopwords')\n",
    "english_stop_words = set(stopwords.words('english'))"
   ]
  },
  {
   "cell_type": "code",
   "execution_count": 75,
   "metadata": {},
   "outputs": [],
   "source": [
    "X_train_nltk = []\n",
    "y_train_nltk = []\n",
    "for x,y in zip(X_train,y_train):\n",
    "    wt = word_tokenize(x.lower())\n",
    "    doc = [w for w in wt if w not in string.punctuation]\n",
    "    if len(doc) == 0: continue\n",
    "    X_train_nltk.append(doc)\n",
    "    y_train_nltk.append(y)\n"
   ]
  },
  {
   "cell_type": "code",
   "execution_count": 77,
   "metadata": {},
   "outputs": [],
   "source": [
    "X_test_nltk = []\n",
    "y_test_nltk = []\n",
    "\n",
    "for x,y in zip(X_test,y_test):\n",
    "    wt = word_tokenize(x.lower())\n",
    "    doc = [w for w in wt if (w not in english_stop_words) and (w not in string.punctuation)]\n",
    "    if len(doc) == 0: continue    \n",
    "    X_test_nltk.append(doc)\n",
    "    y_test_nltk.append(y)"
   ]
  },
  {
   "cell_type": "code",
   "execution_count": 78,
   "metadata": {
    "tags": []
   },
   "outputs": [],
   "source": [
    "#print(X_train_nltk)\n",
    "#print(y_train_nltk)"
   ]
  },
  {
   "cell_type": "code",
   "execution_count": 79,
   "metadata": {},
   "outputs": [],
   "source": [
    "import gensim\n",
    "import gensim.downloader as api\n",
    "#path = api.load(\"word2vec-google-news-300\", return_path=True)\n",
    "#print(path)\n",
    "path = 'GoogleNews-vectors-negative300.bin.gz'\n",
    "g_model = gensim.models.KeyedVectors.load_word2vec_format(path, binary=True)  "
   ]
  },
  {
   "cell_type": "code",
   "execution_count": 80,
   "metadata": {},
   "outputs": [],
   "source": [
    "X_train_gmodel = []\n",
    "for x in X_train_nltk:\n",
    "    vx = np.zeros(300)\n",
    "    length = 0\n",
    "    for w in x: \n",
    "        if w in g_model.wv:\n",
    "            length += 1\n",
    "            vx += g_model[w]\n",
    "    if length != 0: vx /= length\n",
    "    X_train_gmodel.append(vx)"
   ]
  },
  {
   "cell_type": "code",
   "execution_count": 81,
   "metadata": {},
   "outputs": [],
   "source": [
    "X_test_gmodel = []\n",
    "for x in X_test_nltk:\n",
    "    vx = np.zeros(300)\n",
    "    length = 0\n",
    "    for w in x: \n",
    "        if (w not in g_model.wv): continue\n",
    "        length += 1\n",
    "        vx += g_model.wv[w]\n",
    "    if length != 0: vx /= length\n",
    "    X_test_gmodel.append(vx)"
   ]
  },
  {
   "cell_type": "code",
   "execution_count": 89,
   "metadata": {},
   "outputs": [
    {
     "output_type": "execute_result",
     "data": {
      "text/plain": [
       "DecisionTreeClassifier()"
      ]
     },
     "metadata": {},
     "execution_count": 89
    }
   ],
   "source": [
    "lr_clf.fit(X_train_gmodel, np.array(y_train_nltk))\n",
    "svm_clf.fit(X_train_gmodel, np.array(y_train_nltk))\n",
    "knn.fit(X_train_gmodel, np.array(y_train_nltk))\n",
    "dtree.fit(X_train_gmodel, np.array(y_train_nltk))"
   ]
  },
  {
   "cell_type": "code",
   "execution_count": 90,
   "metadata": {},
   "outputs": [],
   "source": [
    "#lr_clf.score(np.array(X_test_gmodel),y_test_nltk)"
   ]
  },
  {
   "cell_type": "code",
   "execution_count": 88,
   "metadata": {},
   "outputs": [
    {
     "output_type": "execute_result",
     "data": {
      "text/plain": [
       "SVC()"
      ]
     },
     "metadata": {},
     "execution_count": 88
    }
   ],
   "source": []
  },
  {
   "cell_type": "code",
   "execution_count": 95,
   "metadata": {},
   "outputs": [
    {
     "output_type": "stream",
     "name": "stdout",
     "text": [
      "{'fit_time': array([0.01900148, 0.01621175, 0.0150001 , 0.0200007 , 0.01996589]), 'score_time': array([0.00299859, 0.        , 0.00500083, 0.00503254, 0.00499892]), 'test_precision_weighted': array([0.84388878, 0.78296596, 0.81560976, 0.80297619, 0.92611111]), 'test_recall_weighted': array([0.82926829, 0.7804878 , 0.85365854, 0.825     , 0.925     ]), 'test_f1_weighted': array([0.83210283, 0.77971351, 0.82391511, 0.81263514, 0.92494802])}\n0.8343103581417786 0.8426829268292682 0.834662923065362\n"
     ]
    }
   ],
   "source": [
    "scores_dtree_google = model_selection.cross_validate(#lr_clf,\n",
    "                                          #svm_clf,\n",
    "                                          #knn,\n",
    "                                          dtree,\n",
    "                                          X_test_gmodel,\n",
    "                                          y_test_nltk,\n",
    "                                          scoring=['precision_weighted','recall_weighted','f1_weighted'],\n",
    "                                          cv=5)\n",
    "print (scores_dtree_google)\n",
    "print (scores_dtree_google['test_precision_weighted'].mean(),scores_dtree_google['test_recall_weighted'].mean(),scores_dtree_google['test_f1_weighted'].mean())"
   ]
  },
  {
   "cell_type": "code",
   "execution_count": 96,
   "metadata": {},
   "outputs": [
    {
     "output_type": "stream",
     "name": "stdout",
     "text": [
      "{'fit_time': array([0.00599957, 0.0079999 , 0.0059998 , 0.00306845, 0.00600171]), 'score_time': array([0.01100016, 0.01199961, 0.01000047, 0.01251841, 0.01000905]), 'test_precision_weighted': array([0.95243902, 1.        , 0.97682927, 0.9072861 , 0.93522727]), 'test_recall_weighted': array([0.95121951, 1.        , 0.97560976, 0.9       , 0.925     ]), 'test_f1_weighted': array([0.94746717, 1.        , 0.97348343, 0.89579946, 0.92452962])}\n0.9543563323333769 0.9503658536585367 0.9482559337681288\n"
     ]
    }
   ],
   "source": [
    "scores_knn_google = model_selection.cross_validate(#lr_clf,\n",
    "                                          #svm_clf,\n",
    "                                          knn,\n",
    "                                          #dtree,\n",
    "                                          X_test_gmodel,\n",
    "                                          y_test_nltk,\n",
    "                                          scoring=['precision_weighted','recall_weighted','f1_weighted'],\n",
    "                                          cv=5)\n",
    "print (scores_knn_google)\n",
    "print (scores_knn_google['test_precision_weighted'].mean(),scores_knn_google['test_recall_weighted'].mean(),scores_knn_google['test_f1_weighted'].mean())"
   ]
  },
  {
   "cell_type": "code",
   "execution_count": 97,
   "metadata": {},
   "outputs": [
    {
     "output_type": "stream",
     "name": "stdout",
     "text": [
      "{'fit_time': array([0.00700021, 0.00803018, 0.00699949, 0.00700212, 0.00699925]), 'score_time': array([0.00600028, 0.00497031, 0.00502968, 0.00599837, 0.00500083]), 'test_precision_weighted': array([0.88159117, 0.90687361, 0.86363636, 0.83244949, 0.8547619 ]), 'test_recall_weighted': array([0.92682927, 0.95121951, 0.92682927, 0.875     , 0.9       ]), 'test_f1_weighted': array([0.90364405, 0.92799071, 0.89292088, 0.85105471, 0.87625   ])}\n0.8678625101186077 0.9159756097560976 0.8903720695955972\n"
     ]
    }
   ],
   "source": [
    "scores_svm_google = model_selection.cross_validate(#lr_clf,\n",
    "                                          svm_clf,\n",
    "                                          #knn,\n",
    "                                          #dtree,\n",
    "                                          X_test_gmodel,\n",
    "                                          y_test_nltk,\n",
    "                                          scoring=['precision_weighted','recall_weighted','f1_weighted'],\n",
    "                                          cv=5)\n",
    "print (scores_svm_google)\n",
    "print (scores_svm_google['test_precision_weighted'].mean(),scores_svm_google['test_recall_weighted'].mean(),scores_svm_google['test_f1_weighted'].mean())"
   ]
  },
  {
   "cell_type": "code",
   "execution_count": 98,
   "metadata": {},
   "outputs": [
    {
     "output_type": "stream",
     "name": "stdout",
     "text": [
      "{'fit_time': array([0.02700138, 0.03002906, 0.02100086, 0.02099943, 0.01866841]), 'score_time': array([0.00400853, 0.00497007, 0.00399947, 0.00399995, 0.00404859]), 'test_precision_weighted': array([0.88159117, 0.90687361, 0.84623542, 0.83244949, 0.8547619 ]), 'test_recall_weighted': array([0.92682927, 0.95121951, 0.90243902, 0.875     , 0.9       ]), 'test_f1_weighted': array([0.90364405, 0.92799071, 0.87016982, 0.85105471, 0.87625   ])}\n0.8643823211665206 0.9110975609756098 0.8858218577878005\n"
     ]
    }
   ],
   "source": [
    "scores_lr_google = model_selection.cross_validate(lr_clf,\n",
    "                                          #svm_clf,\n",
    "                                          #knn,\n",
    "                                          #dtree,\n",
    "                                          X_test_gmodel,\n",
    "                                          y_test_nltk,\n",
    "                                          scoring=['precision_weighted','recall_weighted','f1_weighted'],\n",
    "                                          cv=5)\n",
    "print (scores_lr_google)\n",
    "print (scores_lr_google['test_precision_weighted'].mean(),scores_lr_google['test_recall_weighted'].mean(),scores_lr_google['test_f1_weighted'].mean())"
   ]
  },
  {
   "cell_type": "code",
   "execution_count": 108,
   "metadata": {},
   "outputs": [
    {
     "output_type": "stream",
     "name": "stdout",
     "text": [
      "['lr', 'svm', 'knn', 'dtree'] [0.8858218577878005, 0.8903720695955972, 0.9482559337681288, 0.834662923065362] [0.9110975609756098, 0.9159756097560976, 0.9503658536585367, 0.8426829268292682] [0.8643823211665206, 0.8678625101186077, 0.9543563323333769, 0.8343103581417786]\n"
     ]
    }
   ],
   "source": [
    "precisions = [scores_lr_google['test_precision_weighted'].mean(),scores_svm_google['test_precision_weighted'].mean(),scores_knn_google['test_precision_weighted'].mean(),scores_dtree_google['test_precision_weighted'].mean()]#lr,svm,knn,dtree IN THAT ORDER\n",
    "recalls = [scores_lr_google['test_recall_weighted'].mean(),scores_svm_google['test_recall_weighted'].mean(),scores_knn_google['test_recall_weighted'].mean(),scores_dtree_google['test_recall_weighted'].mean()]\n",
    "f1s =[scores_lr_google['test_f1_weighted'].mean(),scores_svm_google['test_f1_weighted'].mean(),scores_knn_google['test_f1_weighted'].mean(),scores_dtree_google['test_f1_weighted'].mean()]\n",
    "methods = 'lr,svm,knn,dtree'.split(',')\n",
    "print(methods,f1s,recalls,precisions)"
   ]
  },
  {
   "cell_type": "code",
   "execution_count": 111,
   "metadata": {},
   "outputs": [
    {
     "output_type": "execute_result",
     "data": {
      "text/plain": [
       "<BarContainer object of 4 artists>"
      ]
     },
     "metadata": {},
     "execution_count": 111
    },
    {
     "output_type": "display_data",
     "data": {
      "text/plain": "<Figure size 864x288 with 3 Axes>",
      "image/svg+xml": "<?xml version=\"1.0\" encoding=\"utf-8\" standalone=\"no\"?>\r\n<!DOCTYPE svg PUBLIC \"-//W3C//DTD SVG 1.1//EN\"\r\n  \"http://www.w3.org/Graphics/SVG/1.1/DTD/svg11.dtd\">\r\n<!-- Created with matplotlib (https://matplotlib.org/) -->\r\n<svg height=\"251.867274pt\" version=\"1.1\" viewBox=\"0 0 706.903125 251.867274\" width=\"706.903125pt\" xmlns=\"http://www.w3.org/2000/svg\" xmlns:xlink=\"http://www.w3.org/1999/xlink\">\r\n <metadata>\r\n  <rdf:RDF xmlns:cc=\"http://creativecommons.org/ns#\" xmlns:dc=\"http://purl.org/dc/elements/1.1/\" xmlns:rdf=\"http://www.w3.org/1999/02/22-rdf-syntax-ns#\">\r\n   <cc:Work>\r\n    <dc:type rdf:resource=\"http://purl.org/dc/dcmitype/StillImage\"/>\r\n    <dc:date>2021-02-01T20:40:05.174109</dc:date>\r\n    <dc:format>image/svg+xml</dc:format>\r\n    <dc:creator>\r\n     <cc:Agent>\r\n      <dc:title>Matplotlib v3.3.2, https://matplotlib.org/</dc:title>\r\n     </cc:Agent>\r\n    </dc:creator>\r\n   </cc:Work>\r\n  </rdf:RDF>\r\n </metadata>\r\n <defs>\r\n  <style type=\"text/css\">*{stroke-linecap:butt;stroke-linejoin:round;}</style>\r\n </defs>\r\n <g id=\"figure_1\">\r\n  <g id=\"patch_1\">\r\n   <path d=\"M 0 251.867274 \r\nL 706.903125 251.867274 \r\nL 706.903125 0 \r\nL 0 0 \r\nz\r\n\" style=\"fill:none;\"/>\r\n  </g>\r\n  <g id=\"axes_1\">\r\n   <g id=\"patch_2\">\r\n    <path d=\"M 30.103125 227.989149 \r\nL 227.044301 227.989149 \r\nL 227.044301 10.549149 \r\nL 30.103125 10.549149 \r\nz\r\n\" style=\"fill:#ffffff;\"/>\r\n   </g>\r\n   <g id=\"patch_3\">\r\n    <path clip-path=\"url(#p169daadd96)\" d=\"M 39.054997 227.989149 \r\nL 76.747088 227.989149 \r\nL 76.747088 40.426889 \r\nL 39.054997 40.426889 \r\nz\r\n\" style=\"fill:#1f77b4;\"/>\r\n   </g>\r\n   <g id=\"patch_4\">\r\n    <path clip-path=\"url(#p169daadd96)\" d=\"M 86.170111 227.989149 \r\nL 123.862202 227.989149 \r\nL 123.862202 39.671724 \r\nL 86.170111 39.671724 \r\nz\r\n\" style=\"fill:#1f77b4;\"/>\r\n   </g>\r\n   <g id=\"patch_5\">\r\n    <path clip-path=\"url(#p169daadd96)\" d=\"M 133.285225 227.989149 \r\nL 170.977316 227.989149 \r\nL 170.977316 20.903435 \r\nL 133.285225 20.903435 \r\nz\r\n\" style=\"fill:#1f77b4;\"/>\r\n   </g>\r\n   <g id=\"patch_6\">\r\n    <path clip-path=\"url(#p169daadd96)\" d=\"M 180.400339 227.989149 \r\nL 218.09243 227.989149 \r\nL 218.09243 46.952203 \r\nL 180.400339 46.952203 \r\nz\r\n\" style=\"fill:#1f77b4;\"/>\r\n   </g>\r\n   <g id=\"matplotlib.axis_1\">\r\n    <g id=\"xtick_1\">\r\n     <g id=\"line2d_1\">\r\n      <defs>\r\n       <path d=\"M 0 0 \r\nL 0 3.5 \r\n\" id=\"m27df68d68b\" style=\"stroke:#000000;stroke-width:0.8;\"/>\r\n      </defs>\r\n      <g>\r\n       <use style=\"stroke:#000000;stroke-width:0.8;\" x=\"57.901042\" xlink:href=\"#m27df68d68b\" y=\"227.989149\"/>\r\n      </g>\r\n     </g>\r\n     <g id=\"text_1\">\r\n      <!-- lr -->\r\n      <g transform=\"translate(54.456511 242.587587)scale(0.1 -0.1)\">\r\n       <defs>\r\n        <path d=\"M 9.421875 75.984375 \r\nL 18.40625 75.984375 \r\nL 18.40625 0 \r\nL 9.421875 0 \r\nz\r\n\" id=\"DejaVuSans-108\"/>\r\n        <path d=\"M 41.109375 46.296875 \r\nQ 39.59375 47.171875 37.8125 47.578125 \r\nQ 36.03125 48 33.890625 48 \r\nQ 26.265625 48 22.1875 43.046875 \r\nQ 18.109375 38.09375 18.109375 28.8125 \r\nL 18.109375 0 \r\nL 9.078125 0 \r\nL 9.078125 54.6875 \r\nL 18.109375 54.6875 \r\nL 18.109375 46.1875 \r\nQ 20.953125 51.171875 25.484375 53.578125 \r\nQ 30.03125 56 36.53125 56 \r\nQ 37.453125 56 38.578125 55.875 \r\nQ 39.703125 55.765625 41.0625 55.515625 \r\nz\r\n\" id=\"DejaVuSans-114\"/>\r\n       </defs>\r\n       <use xlink:href=\"#DejaVuSans-108\"/>\r\n       <use x=\"27.783203\" xlink:href=\"#DejaVuSans-114\"/>\r\n      </g>\r\n     </g>\r\n    </g>\r\n    <g id=\"xtick_2\">\r\n     <g id=\"line2d_2\">\r\n      <g>\r\n       <use style=\"stroke:#000000;stroke-width:0.8;\" x=\"105.016156\" xlink:href=\"#m27df68d68b\" y=\"227.989149\"/>\r\n      </g>\r\n     </g>\r\n     <g id=\"text_2\">\r\n      <!-- svm -->\r\n      <g transform=\"translate(94.581781 242.587587)scale(0.1 -0.1)\">\r\n       <defs>\r\n        <path d=\"M 44.28125 53.078125 \r\nL 44.28125 44.578125 \r\nQ 40.484375 46.53125 36.375 47.5 \r\nQ 32.28125 48.484375 27.875 48.484375 \r\nQ 21.1875 48.484375 17.84375 46.4375 \r\nQ 14.5 44.390625 14.5 40.28125 \r\nQ 14.5 37.15625 16.890625 35.375 \r\nQ 19.28125 33.59375 26.515625 31.984375 \r\nL 29.59375 31.296875 \r\nQ 39.15625 29.25 43.1875 25.515625 \r\nQ 47.21875 21.78125 47.21875 15.09375 \r\nQ 47.21875 7.46875 41.1875 3.015625 \r\nQ 35.15625 -1.421875 24.609375 -1.421875 \r\nQ 20.21875 -1.421875 15.453125 -0.5625 \r\nQ 10.6875 0.296875 5.421875 2 \r\nL 5.421875 11.28125 \r\nQ 10.40625 8.6875 15.234375 7.390625 \r\nQ 20.0625 6.109375 24.8125 6.109375 \r\nQ 31.15625 6.109375 34.5625 8.28125 \r\nQ 37.984375 10.453125 37.984375 14.40625 \r\nQ 37.984375 18.0625 35.515625 20.015625 \r\nQ 33.0625 21.96875 24.703125 23.78125 \r\nL 21.578125 24.515625 \r\nQ 13.234375 26.265625 9.515625 29.90625 \r\nQ 5.8125 33.546875 5.8125 39.890625 \r\nQ 5.8125 47.609375 11.28125 51.796875 \r\nQ 16.75 56 26.8125 56 \r\nQ 31.78125 56 36.171875 55.265625 \r\nQ 40.578125 54.546875 44.28125 53.078125 \r\nz\r\n\" id=\"DejaVuSans-115\"/>\r\n        <path d=\"M 2.984375 54.6875 \r\nL 12.5 54.6875 \r\nL 29.59375 8.796875 \r\nL 46.6875 54.6875 \r\nL 56.203125 54.6875 \r\nL 35.6875 0 \r\nL 23.484375 0 \r\nz\r\n\" id=\"DejaVuSans-118\"/>\r\n        <path d=\"M 52 44.1875 \r\nQ 55.375 50.25 60.0625 53.125 \r\nQ 64.75 56 71.09375 56 \r\nQ 79.640625 56 84.28125 50.015625 \r\nQ 88.921875 44.046875 88.921875 33.015625 \r\nL 88.921875 0 \r\nL 79.890625 0 \r\nL 79.890625 32.71875 \r\nQ 79.890625 40.578125 77.09375 44.375 \r\nQ 74.3125 48.1875 68.609375 48.1875 \r\nQ 61.625 48.1875 57.5625 43.546875 \r\nQ 53.515625 38.921875 53.515625 30.90625 \r\nL 53.515625 0 \r\nL 44.484375 0 \r\nL 44.484375 32.71875 \r\nQ 44.484375 40.625 41.703125 44.40625 \r\nQ 38.921875 48.1875 33.109375 48.1875 \r\nQ 26.21875 48.1875 22.15625 43.53125 \r\nQ 18.109375 38.875 18.109375 30.90625 \r\nL 18.109375 0 \r\nL 9.078125 0 \r\nL 9.078125 54.6875 \r\nL 18.109375 54.6875 \r\nL 18.109375 46.1875 \r\nQ 21.1875 51.21875 25.484375 53.609375 \r\nQ 29.78125 56 35.6875 56 \r\nQ 41.65625 56 45.828125 52.96875 \r\nQ 50 49.953125 52 44.1875 \r\nz\r\n\" id=\"DejaVuSans-109\"/>\r\n       </defs>\r\n       <use xlink:href=\"#DejaVuSans-115\"/>\r\n       <use x=\"52.099609\" xlink:href=\"#DejaVuSans-118\"/>\r\n       <use x=\"111.279297\" xlink:href=\"#DejaVuSans-109\"/>\r\n      </g>\r\n     </g>\r\n    </g>\r\n    <g id=\"xtick_3\">\r\n     <g id=\"line2d_3\">\r\n      <g>\r\n       <use style=\"stroke:#000000;stroke-width:0.8;\" x=\"152.13127\" xlink:href=\"#m27df68d68b\" y=\"227.989149\"/>\r\n      </g>\r\n     </g>\r\n     <g id=\"text_3\">\r\n      <!-- knn -->\r\n      <g transform=\"translate(142.898458 242.587587)scale(0.1 -0.1)\">\r\n       <defs>\r\n        <path d=\"M 9.078125 75.984375 \r\nL 18.109375 75.984375 \r\nL 18.109375 31.109375 \r\nL 44.921875 54.6875 \r\nL 56.390625 54.6875 \r\nL 27.390625 29.109375 \r\nL 57.625 0 \r\nL 45.90625 0 \r\nL 18.109375 26.703125 \r\nL 18.109375 0 \r\nL 9.078125 0 \r\nz\r\n\" id=\"DejaVuSans-107\"/>\r\n        <path d=\"M 54.890625 33.015625 \r\nL 54.890625 0 \r\nL 45.90625 0 \r\nL 45.90625 32.71875 \r\nQ 45.90625 40.484375 42.875 44.328125 \r\nQ 39.84375 48.1875 33.796875 48.1875 \r\nQ 26.515625 48.1875 22.3125 43.546875 \r\nQ 18.109375 38.921875 18.109375 30.90625 \r\nL 18.109375 0 \r\nL 9.078125 0 \r\nL 9.078125 54.6875 \r\nL 18.109375 54.6875 \r\nL 18.109375 46.1875 \r\nQ 21.34375 51.125 25.703125 53.5625 \r\nQ 30.078125 56 35.796875 56 \r\nQ 45.21875 56 50.046875 50.171875 \r\nQ 54.890625 44.34375 54.890625 33.015625 \r\nz\r\n\" id=\"DejaVuSans-110\"/>\r\n       </defs>\r\n       <use xlink:href=\"#DejaVuSans-107\"/>\r\n       <use x=\"57.910156\" xlink:href=\"#DejaVuSans-110\"/>\r\n       <use x=\"121.289062\" xlink:href=\"#DejaVuSans-110\"/>\r\n      </g>\r\n     </g>\r\n    </g>\r\n    <g id=\"xtick_4\">\r\n     <g id=\"line2d_4\">\r\n      <g>\r\n       <use style=\"stroke:#000000;stroke-width:0.8;\" x=\"199.246384\" xlink:href=\"#m27df68d68b\" y=\"227.989149\"/>\r\n      </g>\r\n     </g>\r\n     <g id=\"text_4\">\r\n      <!-- dtree -->\r\n      <g transform=\"translate(186.015915 242.587587)scale(0.1 -0.1)\">\r\n       <defs>\r\n        <path d=\"M 45.40625 46.390625 \r\nL 45.40625 75.984375 \r\nL 54.390625 75.984375 \r\nL 54.390625 0 \r\nL 45.40625 0 \r\nL 45.40625 8.203125 \r\nQ 42.578125 3.328125 38.25 0.953125 \r\nQ 33.9375 -1.421875 27.875 -1.421875 \r\nQ 17.96875 -1.421875 11.734375 6.484375 \r\nQ 5.515625 14.40625 5.515625 27.296875 \r\nQ 5.515625 40.1875 11.734375 48.09375 \r\nQ 17.96875 56 27.875 56 \r\nQ 33.9375 56 38.25 53.625 \r\nQ 42.578125 51.265625 45.40625 46.390625 \r\nz\r\nM 14.796875 27.296875 \r\nQ 14.796875 17.390625 18.875 11.75 \r\nQ 22.953125 6.109375 30.078125 6.109375 \r\nQ 37.203125 6.109375 41.296875 11.75 \r\nQ 45.40625 17.390625 45.40625 27.296875 \r\nQ 45.40625 37.203125 41.296875 42.84375 \r\nQ 37.203125 48.484375 30.078125 48.484375 \r\nQ 22.953125 48.484375 18.875 42.84375 \r\nQ 14.796875 37.203125 14.796875 27.296875 \r\nz\r\n\" id=\"DejaVuSans-100\"/>\r\n        <path d=\"M 18.3125 70.21875 \r\nL 18.3125 54.6875 \r\nL 36.8125 54.6875 \r\nL 36.8125 47.703125 \r\nL 18.3125 47.703125 \r\nL 18.3125 18.015625 \r\nQ 18.3125 11.328125 20.140625 9.421875 \r\nQ 21.96875 7.515625 27.59375 7.515625 \r\nL 36.8125 7.515625 \r\nL 36.8125 0 \r\nL 27.59375 0 \r\nQ 17.1875 0 13.234375 3.875 \r\nQ 9.28125 7.765625 9.28125 18.015625 \r\nL 9.28125 47.703125 \r\nL 2.6875 47.703125 \r\nL 2.6875 54.6875 \r\nL 9.28125 54.6875 \r\nL 9.28125 70.21875 \r\nz\r\n\" id=\"DejaVuSans-116\"/>\r\n        <path d=\"M 56.203125 29.59375 \r\nL 56.203125 25.203125 \r\nL 14.890625 25.203125 \r\nQ 15.484375 15.921875 20.484375 11.0625 \r\nQ 25.484375 6.203125 34.421875 6.203125 \r\nQ 39.59375 6.203125 44.453125 7.46875 \r\nQ 49.3125 8.734375 54.109375 11.28125 \r\nL 54.109375 2.78125 \r\nQ 49.265625 0.734375 44.1875 -0.34375 \r\nQ 39.109375 -1.421875 33.890625 -1.421875 \r\nQ 20.796875 -1.421875 13.15625 6.1875 \r\nQ 5.515625 13.8125 5.515625 26.8125 \r\nQ 5.515625 40.234375 12.765625 48.109375 \r\nQ 20.015625 56 32.328125 56 \r\nQ 43.359375 56 49.78125 48.890625 \r\nQ 56.203125 41.796875 56.203125 29.59375 \r\nz\r\nM 47.21875 32.234375 \r\nQ 47.125 39.59375 43.09375 43.984375 \r\nQ 39.0625 48.390625 32.421875 48.390625 \r\nQ 24.90625 48.390625 20.390625 44.140625 \r\nQ 15.875 39.890625 15.1875 32.171875 \r\nz\r\n\" id=\"DejaVuSans-101\"/>\r\n       </defs>\r\n       <use xlink:href=\"#DejaVuSans-100\"/>\r\n       <use x=\"63.476562\" xlink:href=\"#DejaVuSans-116\"/>\r\n       <use x=\"102.685547\" xlink:href=\"#DejaVuSans-114\"/>\r\n       <use x=\"141.548828\" xlink:href=\"#DejaVuSans-101\"/>\r\n       <use x=\"203.072266\" xlink:href=\"#DejaVuSans-101\"/>\r\n      </g>\r\n     </g>\r\n    </g>\r\n   </g>\r\n   <g id=\"matplotlib.axis_2\">\r\n    <g id=\"ytick_1\">\r\n     <g id=\"line2d_5\">\r\n      <defs>\r\n       <path d=\"M 0 0 \r\nL -3.5 0 \r\n\" id=\"mbf6cd730a2\" style=\"stroke:#000000;stroke-width:0.8;\"/>\r\n      </defs>\r\n      <g>\r\n       <use style=\"stroke:#000000;stroke-width:0.8;\" x=\"30.103125\" xlink:href=\"#mbf6cd730a2\" y=\"227.989149\"/>\r\n      </g>\r\n     </g>\r\n     <g id=\"text_5\">\r\n      <!-- 0.0 -->\r\n      <g transform=\"translate(7.2 231.788368)scale(0.1 -0.1)\">\r\n       <defs>\r\n        <path d=\"M 31.78125 66.40625 \r\nQ 24.171875 66.40625 20.328125 58.90625 \r\nQ 16.5 51.421875 16.5 36.375 \r\nQ 16.5 21.390625 20.328125 13.890625 \r\nQ 24.171875 6.390625 31.78125 6.390625 \r\nQ 39.453125 6.390625 43.28125 13.890625 \r\nQ 47.125 21.390625 47.125 36.375 \r\nQ 47.125 51.421875 43.28125 58.90625 \r\nQ 39.453125 66.40625 31.78125 66.40625 \r\nz\r\nM 31.78125 74.21875 \r\nQ 44.046875 74.21875 50.515625 64.515625 \r\nQ 56.984375 54.828125 56.984375 36.375 \r\nQ 56.984375 17.96875 50.515625 8.265625 \r\nQ 44.046875 -1.421875 31.78125 -1.421875 \r\nQ 19.53125 -1.421875 13.0625 8.265625 \r\nQ 6.59375 17.96875 6.59375 36.375 \r\nQ 6.59375 54.828125 13.0625 64.515625 \r\nQ 19.53125 74.21875 31.78125 74.21875 \r\nz\r\n\" id=\"DejaVuSans-48\"/>\r\n        <path d=\"M 10.6875 12.40625 \r\nL 21 12.40625 \r\nL 21 0 \r\nL 10.6875 0 \r\nz\r\n\" id=\"DejaVuSans-46\"/>\r\n       </defs>\r\n       <use xlink:href=\"#DejaVuSans-48\"/>\r\n       <use x=\"63.623047\" xlink:href=\"#DejaVuSans-46\"/>\r\n       <use x=\"95.410156\" xlink:href=\"#DejaVuSans-48\"/>\r\n      </g>\r\n     </g>\r\n    </g>\r\n    <g id=\"ytick_2\">\r\n     <g id=\"line2d_6\">\r\n      <g>\r\n       <use style=\"stroke:#000000;stroke-width:0.8;\" x=\"30.103125\" xlink:href=\"#mbf6cd730a2\" y=\"184.591163\"/>\r\n      </g>\r\n     </g>\r\n     <g id=\"text_6\">\r\n      <!-- 0.2 -->\r\n      <g transform=\"translate(7.2 188.390382)scale(0.1 -0.1)\">\r\n       <defs>\r\n        <path d=\"M 19.1875 8.296875 \r\nL 53.609375 8.296875 \r\nL 53.609375 0 \r\nL 7.328125 0 \r\nL 7.328125 8.296875 \r\nQ 12.9375 14.109375 22.625 23.890625 \r\nQ 32.328125 33.6875 34.8125 36.53125 \r\nQ 39.546875 41.84375 41.421875 45.53125 \r\nQ 43.3125 49.21875 43.3125 52.78125 \r\nQ 43.3125 58.59375 39.234375 62.25 \r\nQ 35.15625 65.921875 28.609375 65.921875 \r\nQ 23.96875 65.921875 18.8125 64.3125 \r\nQ 13.671875 62.703125 7.8125 59.421875 \r\nL 7.8125 69.390625 \r\nQ 13.765625 71.78125 18.9375 73 \r\nQ 24.125 74.21875 28.421875 74.21875 \r\nQ 39.75 74.21875 46.484375 68.546875 \r\nQ 53.21875 62.890625 53.21875 53.421875 \r\nQ 53.21875 48.921875 51.53125 44.890625 \r\nQ 49.859375 40.875 45.40625 35.40625 \r\nQ 44.1875 33.984375 37.640625 27.21875 \r\nQ 31.109375 20.453125 19.1875 8.296875 \r\nz\r\n\" id=\"DejaVuSans-50\"/>\r\n       </defs>\r\n       <use xlink:href=\"#DejaVuSans-48\"/>\r\n       <use x=\"63.623047\" xlink:href=\"#DejaVuSans-46\"/>\r\n       <use x=\"95.410156\" xlink:href=\"#DejaVuSans-50\"/>\r\n      </g>\r\n     </g>\r\n    </g>\r\n    <g id=\"ytick_3\">\r\n     <g id=\"line2d_7\">\r\n      <g>\r\n       <use style=\"stroke:#000000;stroke-width:0.8;\" x=\"30.103125\" xlink:href=\"#mbf6cd730a2\" y=\"141.193177\"/>\r\n      </g>\r\n     </g>\r\n     <g id=\"text_7\">\r\n      <!-- 0.4 -->\r\n      <g transform=\"translate(7.2 144.992396)scale(0.1 -0.1)\">\r\n       <defs>\r\n        <path d=\"M 37.796875 64.3125 \r\nL 12.890625 25.390625 \r\nL 37.796875 25.390625 \r\nz\r\nM 35.203125 72.90625 \r\nL 47.609375 72.90625 \r\nL 47.609375 25.390625 \r\nL 58.015625 25.390625 \r\nL 58.015625 17.1875 \r\nL 47.609375 17.1875 \r\nL 47.609375 0 \r\nL 37.796875 0 \r\nL 37.796875 17.1875 \r\nL 4.890625 17.1875 \r\nL 4.890625 26.703125 \r\nz\r\n\" id=\"DejaVuSans-52\"/>\r\n       </defs>\r\n       <use xlink:href=\"#DejaVuSans-48\"/>\r\n       <use x=\"63.623047\" xlink:href=\"#DejaVuSans-46\"/>\r\n       <use x=\"95.410156\" xlink:href=\"#DejaVuSans-52\"/>\r\n      </g>\r\n     </g>\r\n    </g>\r\n    <g id=\"ytick_4\">\r\n     <g id=\"line2d_8\">\r\n      <g>\r\n       <use style=\"stroke:#000000;stroke-width:0.8;\" x=\"30.103125\" xlink:href=\"#mbf6cd730a2\" y=\"97.795191\"/>\r\n      </g>\r\n     </g>\r\n     <g id=\"text_8\">\r\n      <!-- 0.6 -->\r\n      <g transform=\"translate(7.2 101.59441)scale(0.1 -0.1)\">\r\n       <defs>\r\n        <path d=\"M 33.015625 40.375 \r\nQ 26.375 40.375 22.484375 35.828125 \r\nQ 18.609375 31.296875 18.609375 23.390625 \r\nQ 18.609375 15.53125 22.484375 10.953125 \r\nQ 26.375 6.390625 33.015625 6.390625 \r\nQ 39.65625 6.390625 43.53125 10.953125 \r\nQ 47.40625 15.53125 47.40625 23.390625 \r\nQ 47.40625 31.296875 43.53125 35.828125 \r\nQ 39.65625 40.375 33.015625 40.375 \r\nz\r\nM 52.59375 71.296875 \r\nL 52.59375 62.3125 \r\nQ 48.875 64.0625 45.09375 64.984375 \r\nQ 41.3125 65.921875 37.59375 65.921875 \r\nQ 27.828125 65.921875 22.671875 59.328125 \r\nQ 17.53125 52.734375 16.796875 39.40625 \r\nQ 19.671875 43.65625 24.015625 45.921875 \r\nQ 28.375 48.1875 33.59375 48.1875 \r\nQ 44.578125 48.1875 50.953125 41.515625 \r\nQ 57.328125 34.859375 57.328125 23.390625 \r\nQ 57.328125 12.15625 50.6875 5.359375 \r\nQ 44.046875 -1.421875 33.015625 -1.421875 \r\nQ 20.359375 -1.421875 13.671875 8.265625 \r\nQ 6.984375 17.96875 6.984375 36.375 \r\nQ 6.984375 53.65625 15.1875 63.9375 \r\nQ 23.390625 74.21875 37.203125 74.21875 \r\nQ 40.921875 74.21875 44.703125 73.484375 \r\nQ 48.484375 72.75 52.59375 71.296875 \r\nz\r\n\" id=\"DejaVuSans-54\"/>\r\n       </defs>\r\n       <use xlink:href=\"#DejaVuSans-48\"/>\r\n       <use x=\"63.623047\" xlink:href=\"#DejaVuSans-46\"/>\r\n       <use x=\"95.410156\" xlink:href=\"#DejaVuSans-54\"/>\r\n      </g>\r\n     </g>\r\n    </g>\r\n    <g id=\"ytick_5\">\r\n     <g id=\"line2d_9\">\r\n      <g>\r\n       <use style=\"stroke:#000000;stroke-width:0.8;\" x=\"30.103125\" xlink:href=\"#mbf6cd730a2\" y=\"54.397205\"/>\r\n      </g>\r\n     </g>\r\n     <g id=\"text_9\">\r\n      <!-- 0.8 -->\r\n      <g transform=\"translate(7.2 58.196424)scale(0.1 -0.1)\">\r\n       <defs>\r\n        <path d=\"M 31.78125 34.625 \r\nQ 24.75 34.625 20.71875 30.859375 \r\nQ 16.703125 27.09375 16.703125 20.515625 \r\nQ 16.703125 13.921875 20.71875 10.15625 \r\nQ 24.75 6.390625 31.78125 6.390625 \r\nQ 38.8125 6.390625 42.859375 10.171875 \r\nQ 46.921875 13.96875 46.921875 20.515625 \r\nQ 46.921875 27.09375 42.890625 30.859375 \r\nQ 38.875 34.625 31.78125 34.625 \r\nz\r\nM 21.921875 38.8125 \r\nQ 15.578125 40.375 12.03125 44.71875 \r\nQ 8.5 49.078125 8.5 55.328125 \r\nQ 8.5 64.0625 14.71875 69.140625 \r\nQ 20.953125 74.21875 31.78125 74.21875 \r\nQ 42.671875 74.21875 48.875 69.140625 \r\nQ 55.078125 64.0625 55.078125 55.328125 \r\nQ 55.078125 49.078125 51.53125 44.71875 \r\nQ 48 40.375 41.703125 38.8125 \r\nQ 48.828125 37.15625 52.796875 32.3125 \r\nQ 56.78125 27.484375 56.78125 20.515625 \r\nQ 56.78125 9.90625 50.3125 4.234375 \r\nQ 43.84375 -1.421875 31.78125 -1.421875 \r\nQ 19.734375 -1.421875 13.25 4.234375 \r\nQ 6.78125 9.90625 6.78125 20.515625 \r\nQ 6.78125 27.484375 10.78125 32.3125 \r\nQ 14.796875 37.15625 21.921875 38.8125 \r\nz\r\nM 18.3125 54.390625 \r\nQ 18.3125 48.734375 21.84375 45.5625 \r\nQ 25.390625 42.390625 31.78125 42.390625 \r\nQ 38.140625 42.390625 41.71875 45.5625 \r\nQ 45.3125 48.734375 45.3125 54.390625 \r\nQ 45.3125 60.0625 41.71875 63.234375 \r\nQ 38.140625 66.40625 31.78125 66.40625 \r\nQ 25.390625 66.40625 21.84375 63.234375 \r\nQ 18.3125 60.0625 18.3125 54.390625 \r\nz\r\n\" id=\"DejaVuSans-56\"/>\r\n       </defs>\r\n       <use xlink:href=\"#DejaVuSans-48\"/>\r\n       <use x=\"63.623047\" xlink:href=\"#DejaVuSans-46\"/>\r\n       <use x=\"95.410156\" xlink:href=\"#DejaVuSans-56\"/>\r\n      </g>\r\n     </g>\r\n    </g>\r\n    <g id=\"ytick_6\">\r\n     <g id=\"line2d_10\">\r\n      <g>\r\n       <use style=\"stroke:#000000;stroke-width:0.8;\" x=\"30.103125\" xlink:href=\"#mbf6cd730a2\" y=\"10.999219\"/>\r\n      </g>\r\n     </g>\r\n     <g id=\"text_10\">\r\n      <!-- 1.0 -->\r\n      <g transform=\"translate(7.2 14.798437)scale(0.1 -0.1)\">\r\n       <defs>\r\n        <path d=\"M 12.40625 8.296875 \r\nL 28.515625 8.296875 \r\nL 28.515625 63.921875 \r\nL 10.984375 60.40625 \r\nL 10.984375 69.390625 \r\nL 28.421875 72.90625 \r\nL 38.28125 72.90625 \r\nL 38.28125 8.296875 \r\nL 54.390625 8.296875 \r\nL 54.390625 0 \r\nL 12.40625 0 \r\nz\r\n\" id=\"DejaVuSans-49\"/>\r\n       </defs>\r\n       <use xlink:href=\"#DejaVuSans-49\"/>\r\n       <use x=\"63.623047\" xlink:href=\"#DejaVuSans-46\"/>\r\n       <use x=\"95.410156\" xlink:href=\"#DejaVuSans-48\"/>\r\n      </g>\r\n     </g>\r\n    </g>\r\n   </g>\r\n   <g id=\"patch_7\">\r\n    <path d=\"M 30.103125 227.989149 \r\nL 30.103125 10.549149 \r\n\" style=\"fill:none;stroke:#000000;stroke-linecap:square;stroke-linejoin:miter;stroke-width:0.8;\"/>\r\n   </g>\r\n   <g id=\"patch_8\">\r\n    <path d=\"M 227.044301 227.989149 \r\nL 227.044301 10.549149 \r\n\" style=\"fill:none;stroke:#000000;stroke-linecap:square;stroke-linejoin:miter;stroke-width:0.8;\"/>\r\n   </g>\r\n   <g id=\"patch_9\">\r\n    <path d=\"M 30.103125 227.989149 \r\nL 227.044301 227.989149 \r\n\" style=\"fill:none;stroke:#000000;stroke-linecap:square;stroke-linejoin:miter;stroke-width:0.8;\"/>\r\n   </g>\r\n   <g id=\"patch_10\">\r\n    <path d=\"M 30.103125 10.549149 \r\nL 227.044301 10.549149 \r\n\" style=\"fill:none;stroke:#000000;stroke-linecap:square;stroke-linejoin:miter;stroke-width:0.8;\"/>\r\n   </g>\r\n  </g>\r\n  <g id=\"axes_2\">\r\n   <g id=\"patch_11\">\r\n    <path d=\"M 266.432537 227.989149 \r\nL 463.373713 227.989149 \r\nL 463.373713 10.549149 \r\nL 266.432537 10.549149 \r\nz\r\n\" style=\"fill:#ffffff;\"/>\r\n   </g>\r\n   <g id=\"patch_12\">\r\n    <path clip-path=\"url(#pf223151a7a)\" d=\"M 275.384408 227.989149 \r\nL 313.0765 227.989149 \r\nL 313.0765 29.460037 \r\nL 275.384408 29.460037 \r\nz\r\n\" style=\"fill:#1f77b4;\"/>\r\n   </g>\r\n   <g id=\"patch_13\">\r\n    <path clip-path=\"url(#pf223151a7a)\" d=\"M 322.499522 227.989149 \r\nL 360.191614 227.989149 \r\nL 360.191614 28.397105 \r\nL 322.499522 28.397105 \r\nz\r\n\" style=\"fill:#1f77b4;\"/>\r\n   </g>\r\n   <g id=\"patch_14\">\r\n    <path clip-path=\"url(#pf223151a7a)\" d=\"M 369.614636 227.989149 \r\nL 407.306728 227.989149 \r\nL 407.306728 20.903435 \r\nL 369.614636 20.903435 \r\nz\r\n\" style=\"fill:#1f77b4;\"/>\r\n   </g>\r\n   <g id=\"patch_15\">\r\n    <path clip-path=\"url(#pf223151a7a)\" d=\"M 416.72975 227.989149 \r\nL 454.421842 227.989149 \r\nL 454.421842 44.367657 \r\nL 416.72975 44.367657 \r\nz\r\n\" style=\"fill:#1f77b4;\"/>\r\n   </g>\r\n   <g id=\"matplotlib.axis_3\">\r\n    <g id=\"xtick_5\">\r\n     <g id=\"line2d_11\">\r\n      <g>\r\n       <use style=\"stroke:#000000;stroke-width:0.8;\" x=\"294.230454\" xlink:href=\"#m27df68d68b\" y=\"227.989149\"/>\r\n      </g>\r\n     </g>\r\n     <g id=\"text_11\">\r\n      <!-- lr -->\r\n      <g transform=\"translate(290.785923 242.587587)scale(0.1 -0.1)\">\r\n       <use xlink:href=\"#DejaVuSans-108\"/>\r\n       <use x=\"27.783203\" xlink:href=\"#DejaVuSans-114\"/>\r\n      </g>\r\n     </g>\r\n    </g>\r\n    <g id=\"xtick_6\">\r\n     <g id=\"line2d_12\">\r\n      <g>\r\n       <use style=\"stroke:#000000;stroke-width:0.8;\" x=\"341.345568\" xlink:href=\"#m27df68d68b\" y=\"227.989149\"/>\r\n      </g>\r\n     </g>\r\n     <g id=\"text_12\">\r\n      <!-- svm -->\r\n      <g transform=\"translate(330.911193 242.587587)scale(0.1 -0.1)\">\r\n       <use xlink:href=\"#DejaVuSans-115\"/>\r\n       <use x=\"52.099609\" xlink:href=\"#DejaVuSans-118\"/>\r\n       <use x=\"111.279297\" xlink:href=\"#DejaVuSans-109\"/>\r\n      </g>\r\n     </g>\r\n    </g>\r\n    <g id=\"xtick_7\">\r\n     <g id=\"line2d_13\">\r\n      <g>\r\n       <use style=\"stroke:#000000;stroke-width:0.8;\" x=\"388.460682\" xlink:href=\"#m27df68d68b\" y=\"227.989149\"/>\r\n      </g>\r\n     </g>\r\n     <g id=\"text_13\">\r\n      <!-- knn -->\r\n      <g transform=\"translate(379.227869 242.587587)scale(0.1 -0.1)\">\r\n       <use xlink:href=\"#DejaVuSans-107\"/>\r\n       <use x=\"57.910156\" xlink:href=\"#DejaVuSans-110\"/>\r\n       <use x=\"121.289062\" xlink:href=\"#DejaVuSans-110\"/>\r\n      </g>\r\n     </g>\r\n    </g>\r\n    <g id=\"xtick_8\">\r\n     <g id=\"line2d_14\">\r\n      <g>\r\n       <use style=\"stroke:#000000;stroke-width:0.8;\" x=\"435.575796\" xlink:href=\"#m27df68d68b\" y=\"227.989149\"/>\r\n      </g>\r\n     </g>\r\n     <g id=\"text_14\">\r\n      <!-- dtree -->\r\n      <g transform=\"translate(422.345327 242.587587)scale(0.1 -0.1)\">\r\n       <use xlink:href=\"#DejaVuSans-100\"/>\r\n       <use x=\"63.476562\" xlink:href=\"#DejaVuSans-116\"/>\r\n       <use x=\"102.685547\" xlink:href=\"#DejaVuSans-114\"/>\r\n       <use x=\"141.548828\" xlink:href=\"#DejaVuSans-101\"/>\r\n       <use x=\"203.072266\" xlink:href=\"#DejaVuSans-101\"/>\r\n      </g>\r\n     </g>\r\n    </g>\r\n   </g>\r\n   <g id=\"matplotlib.axis_4\">\r\n    <g id=\"ytick_7\">\r\n     <g id=\"line2d_15\">\r\n      <g>\r\n       <use style=\"stroke:#000000;stroke-width:0.8;\" x=\"266.432537\" xlink:href=\"#mbf6cd730a2\" y=\"227.989149\"/>\r\n      </g>\r\n     </g>\r\n     <g id=\"text_15\">\r\n      <!-- 0.0 -->\r\n      <g transform=\"translate(243.529412 231.788368)scale(0.1 -0.1)\">\r\n       <use xlink:href=\"#DejaVuSans-48\"/>\r\n       <use x=\"63.623047\" xlink:href=\"#DejaVuSans-46\"/>\r\n       <use x=\"95.410156\" xlink:href=\"#DejaVuSans-48\"/>\r\n      </g>\r\n     </g>\r\n    </g>\r\n    <g id=\"ytick_8\">\r\n     <g id=\"line2d_16\">\r\n      <g>\r\n       <use style=\"stroke:#000000;stroke-width:0.8;\" x=\"266.432537\" xlink:href=\"#mbf6cd730a2\" y=\"184.40894\"/>\r\n      </g>\r\n     </g>\r\n     <g id=\"text_16\">\r\n      <!-- 0.2 -->\r\n      <g transform=\"translate(243.529412 188.208159)scale(0.1 -0.1)\">\r\n       <use xlink:href=\"#DejaVuSans-48\"/>\r\n       <use x=\"63.623047\" xlink:href=\"#DejaVuSans-46\"/>\r\n       <use x=\"95.410156\" xlink:href=\"#DejaVuSans-50\"/>\r\n      </g>\r\n     </g>\r\n    </g>\r\n    <g id=\"ytick_9\">\r\n     <g id=\"line2d_17\">\r\n      <g>\r\n       <use style=\"stroke:#000000;stroke-width:0.8;\" x=\"266.432537\" xlink:href=\"#mbf6cd730a2\" y=\"140.828731\"/>\r\n      </g>\r\n     </g>\r\n     <g id=\"text_17\">\r\n      <!-- 0.4 -->\r\n      <g transform=\"translate(243.529412 144.627949)scale(0.1 -0.1)\">\r\n       <use xlink:href=\"#DejaVuSans-48\"/>\r\n       <use x=\"63.623047\" xlink:href=\"#DejaVuSans-46\"/>\r\n       <use x=\"95.410156\" xlink:href=\"#DejaVuSans-52\"/>\r\n      </g>\r\n     </g>\r\n    </g>\r\n    <g id=\"ytick_10\">\r\n     <g id=\"line2d_18\">\r\n      <g>\r\n       <use style=\"stroke:#000000;stroke-width:0.8;\" x=\"266.432537\" xlink:href=\"#mbf6cd730a2\" y=\"97.248521\"/>\r\n      </g>\r\n     </g>\r\n     <g id=\"text_18\">\r\n      <!-- 0.6 -->\r\n      <g transform=\"translate(243.529412 101.04774)scale(0.1 -0.1)\">\r\n       <use xlink:href=\"#DejaVuSans-48\"/>\r\n       <use x=\"63.623047\" xlink:href=\"#DejaVuSans-46\"/>\r\n       <use x=\"95.410156\" xlink:href=\"#DejaVuSans-54\"/>\r\n      </g>\r\n     </g>\r\n    </g>\r\n    <g id=\"ytick_11\">\r\n     <g id=\"line2d_19\">\r\n      <g>\r\n       <use style=\"stroke:#000000;stroke-width:0.8;\" x=\"266.432537\" xlink:href=\"#mbf6cd730a2\" y=\"53.668312\"/>\r\n      </g>\r\n     </g>\r\n     <g id=\"text_19\">\r\n      <!-- 0.8 -->\r\n      <g transform=\"translate(243.529412 57.467531)scale(0.1 -0.1)\">\r\n       <use xlink:href=\"#DejaVuSans-48\"/>\r\n       <use x=\"63.623047\" xlink:href=\"#DejaVuSans-46\"/>\r\n       <use x=\"95.410156\" xlink:href=\"#DejaVuSans-56\"/>\r\n      </g>\r\n     </g>\r\n    </g>\r\n   </g>\r\n   <g id=\"patch_16\">\r\n    <path d=\"M 266.432537 227.989149 \r\nL 266.432537 10.549149 \r\n\" style=\"fill:none;stroke:#000000;stroke-linecap:square;stroke-linejoin:miter;stroke-width:0.8;\"/>\r\n   </g>\r\n   <g id=\"patch_17\">\r\n    <path d=\"M 463.373713 227.989149 \r\nL 463.373713 10.549149 \r\n\" style=\"fill:none;stroke:#000000;stroke-linecap:square;stroke-linejoin:miter;stroke-width:0.8;\"/>\r\n   </g>\r\n   <g id=\"patch_18\">\r\n    <path d=\"M 266.432537 227.989149 \r\nL 463.373713 227.989149 \r\n\" style=\"fill:none;stroke:#000000;stroke-linecap:square;stroke-linejoin:miter;stroke-width:0.8;\"/>\r\n   </g>\r\n   <g id=\"patch_19\">\r\n    <path d=\"M 266.432537 10.549149 \r\nL 463.373713 10.549149 \r\n\" style=\"fill:none;stroke:#000000;stroke-linecap:square;stroke-linejoin:miter;stroke-width:0.8;\"/>\r\n   </g>\r\n  </g>\r\n  <g id=\"axes_3\">\r\n   <g id=\"patch_20\">\r\n    <path d=\"M 502.761949 227.989149 \r\nL 699.703125 227.989149 \r\nL 699.703125 10.549149 \r\nL 502.761949 10.549149 \r\nz\r\n\" style=\"fill:#ffffff;\"/>\r\n   </g>\r\n   <g id=\"patch_21\">\r\n    <path clip-path=\"url(#p83c903c7c8)\" d=\"M 511.71382 227.989149 \r\nL 549.405911 227.989149 \r\nL 549.405911 34.538156 \r\nL 511.71382 34.538156 \r\nz\r\n\" style=\"fill:#1f77b4;\"/>\r\n   </g>\r\n   <g id=\"patch_22\">\r\n    <path clip-path=\"url(#p83c903c7c8)\" d=\"M 558.828934 227.989149 \r\nL 596.521025 227.989149 \r\nL 596.521025 33.544454 \r\nL 558.828934 33.544454 \r\nz\r\n\" style=\"fill:#1f77b4;\"/>\r\n   </g>\r\n   <g id=\"patch_23\">\r\n    <path clip-path=\"url(#p83c903c7c8)\" d=\"M 605.944048 227.989149 \r\nL 643.636139 227.989149 \r\nL 643.636139 20.903435 \r\nL 605.944048 20.903435 \r\nz\r\n\" style=\"fill:#1f77b4;\"/>\r\n   </g>\r\n   <g id=\"patch_24\">\r\n    <path clip-path=\"url(#p83c903c7c8)\" d=\"M 653.059162 227.989149 \r\nL 690.751253 227.989149 \r\nL 690.751253 45.710546 \r\nL 653.059162 45.710546 \r\nz\r\n\" style=\"fill:#1f77b4;\"/>\r\n   </g>\r\n   <g id=\"matplotlib.axis_5\">\r\n    <g id=\"xtick_9\">\r\n     <g id=\"line2d_20\">\r\n      <g>\r\n       <use style=\"stroke:#000000;stroke-width:0.8;\" x=\"530.559866\" xlink:href=\"#m27df68d68b\" y=\"227.989149\"/>\r\n      </g>\r\n     </g>\r\n     <g id=\"text_20\">\r\n      <!-- lr -->\r\n      <g transform=\"translate(527.115335 242.587587)scale(0.1 -0.1)\">\r\n       <use xlink:href=\"#DejaVuSans-108\"/>\r\n       <use x=\"27.783203\" xlink:href=\"#DejaVuSans-114\"/>\r\n      </g>\r\n     </g>\r\n    </g>\r\n    <g id=\"xtick_10\">\r\n     <g id=\"line2d_21\">\r\n      <g>\r\n       <use style=\"stroke:#000000;stroke-width:0.8;\" x=\"577.67498\" xlink:href=\"#m27df68d68b\" y=\"227.989149\"/>\r\n      </g>\r\n     </g>\r\n     <g id=\"text_21\">\r\n      <!-- svm -->\r\n      <g transform=\"translate(567.240605 242.587587)scale(0.1 -0.1)\">\r\n       <use xlink:href=\"#DejaVuSans-115\"/>\r\n       <use x=\"52.099609\" xlink:href=\"#DejaVuSans-118\"/>\r\n       <use x=\"111.279297\" xlink:href=\"#DejaVuSans-109\"/>\r\n      </g>\r\n     </g>\r\n    </g>\r\n    <g id=\"xtick_11\">\r\n     <g id=\"line2d_22\">\r\n      <g>\r\n       <use style=\"stroke:#000000;stroke-width:0.8;\" x=\"624.790094\" xlink:href=\"#m27df68d68b\" y=\"227.989149\"/>\r\n      </g>\r\n     </g>\r\n     <g id=\"text_22\">\r\n      <!-- knn -->\r\n      <g transform=\"translate(615.557281 242.587587)scale(0.1 -0.1)\">\r\n       <use xlink:href=\"#DejaVuSans-107\"/>\r\n       <use x=\"57.910156\" xlink:href=\"#DejaVuSans-110\"/>\r\n       <use x=\"121.289062\" xlink:href=\"#DejaVuSans-110\"/>\r\n      </g>\r\n     </g>\r\n    </g>\r\n    <g id=\"xtick_12\">\r\n     <g id=\"line2d_23\">\r\n      <g>\r\n       <use style=\"stroke:#000000;stroke-width:0.8;\" x=\"671.905208\" xlink:href=\"#m27df68d68b\" y=\"227.989149\"/>\r\n      </g>\r\n     </g>\r\n     <g id=\"text_23\">\r\n      <!-- dtree -->\r\n      <g transform=\"translate(658.674739 242.587587)scale(0.1 -0.1)\">\r\n       <use xlink:href=\"#DejaVuSans-100\"/>\r\n       <use x=\"63.476562\" xlink:href=\"#DejaVuSans-116\"/>\r\n       <use x=\"102.685547\" xlink:href=\"#DejaVuSans-114\"/>\r\n       <use x=\"141.548828\" xlink:href=\"#DejaVuSans-101\"/>\r\n       <use x=\"203.072266\" xlink:href=\"#DejaVuSans-101\"/>\r\n      </g>\r\n     </g>\r\n    </g>\r\n   </g>\r\n   <g id=\"matplotlib.axis_6\">\r\n    <g id=\"ytick_12\">\r\n     <g id=\"line2d_24\">\r\n      <g>\r\n       <use style=\"stroke:#000000;stroke-width:0.8;\" x=\"502.761949\" xlink:href=\"#mbf6cd730a2\" y=\"227.989149\"/>\r\n      </g>\r\n     </g>\r\n     <g id=\"text_24\">\r\n      <!-- 0.0 -->\r\n      <g transform=\"translate(479.858824 231.788368)scale(0.1 -0.1)\">\r\n       <use xlink:href=\"#DejaVuSans-48\"/>\r\n       <use x=\"63.623047\" xlink:href=\"#DejaVuSans-46\"/>\r\n       <use x=\"95.410156\" xlink:href=\"#DejaVuSans-48\"/>\r\n      </g>\r\n     </g>\r\n    </g>\r\n    <g id=\"ytick_13\">\r\n     <g id=\"line2d_25\">\r\n      <g>\r\n       <use style=\"stroke:#000000;stroke-width:0.8;\" x=\"502.761949\" xlink:href=\"#mbf6cd730a2\" y=\"184.311972\"/>\r\n      </g>\r\n     </g>\r\n     <g id=\"text_25\">\r\n      <!-- 0.2 -->\r\n      <g transform=\"translate(479.858824 188.11119)scale(0.1 -0.1)\">\r\n       <use xlink:href=\"#DejaVuSans-48\"/>\r\n       <use x=\"63.623047\" xlink:href=\"#DejaVuSans-46\"/>\r\n       <use x=\"95.410156\" xlink:href=\"#DejaVuSans-50\"/>\r\n      </g>\r\n     </g>\r\n    </g>\r\n    <g id=\"ytick_14\">\r\n     <g id=\"line2d_26\">\r\n      <g>\r\n       <use style=\"stroke:#000000;stroke-width:0.8;\" x=\"502.761949\" xlink:href=\"#mbf6cd730a2\" y=\"140.634794\"/>\r\n      </g>\r\n     </g>\r\n     <g id=\"text_26\">\r\n      <!-- 0.4 -->\r\n      <g transform=\"translate(479.858824 144.434013)scale(0.1 -0.1)\">\r\n       <use xlink:href=\"#DejaVuSans-48\"/>\r\n       <use x=\"63.623047\" xlink:href=\"#DejaVuSans-46\"/>\r\n       <use x=\"95.410156\" xlink:href=\"#DejaVuSans-52\"/>\r\n      </g>\r\n     </g>\r\n    </g>\r\n    <g id=\"ytick_15\">\r\n     <g id=\"line2d_27\">\r\n      <g>\r\n       <use style=\"stroke:#000000;stroke-width:0.8;\" x=\"502.761949\" xlink:href=\"#mbf6cd730a2\" y=\"96.957616\"/>\r\n      </g>\r\n     </g>\r\n     <g id=\"text_27\">\r\n      <!-- 0.6 -->\r\n      <g transform=\"translate(479.858824 100.756835)scale(0.1 -0.1)\">\r\n       <use xlink:href=\"#DejaVuSans-48\"/>\r\n       <use x=\"63.623047\" xlink:href=\"#DejaVuSans-46\"/>\r\n       <use x=\"95.410156\" xlink:href=\"#DejaVuSans-54\"/>\r\n      </g>\r\n     </g>\r\n    </g>\r\n    <g id=\"ytick_16\">\r\n     <g id=\"line2d_28\">\r\n      <g>\r\n       <use style=\"stroke:#000000;stroke-width:0.8;\" x=\"502.761949\" xlink:href=\"#mbf6cd730a2\" y=\"53.280439\"/>\r\n      </g>\r\n     </g>\r\n     <g id=\"text_28\">\r\n      <!-- 0.8 -->\r\n      <g transform=\"translate(479.858824 57.079658)scale(0.1 -0.1)\">\r\n       <use xlink:href=\"#DejaVuSans-48\"/>\r\n       <use x=\"63.623047\" xlink:href=\"#DejaVuSans-46\"/>\r\n       <use x=\"95.410156\" xlink:href=\"#DejaVuSans-56\"/>\r\n      </g>\r\n     </g>\r\n    </g>\r\n   </g>\r\n   <g id=\"patch_25\">\r\n    <path d=\"M 502.761949 227.989149 \r\nL 502.761949 10.549149 \r\n\" style=\"fill:none;stroke:#000000;stroke-linecap:square;stroke-linejoin:miter;stroke-width:0.8;\"/>\r\n   </g>\r\n   <g id=\"patch_26\">\r\n    <path d=\"M 699.703125 227.989149 \r\nL 699.703125 10.549149 \r\n\" style=\"fill:none;stroke:#000000;stroke-linecap:square;stroke-linejoin:miter;stroke-width:0.8;\"/>\r\n   </g>\r\n   <g id=\"patch_27\">\r\n    <path d=\"M 502.761949 227.989149 \r\nL 699.703125 227.989149 \r\n\" style=\"fill:none;stroke:#000000;stroke-linecap:square;stroke-linejoin:miter;stroke-width:0.8;\"/>\r\n   </g>\r\n   <g id=\"patch_28\">\r\n    <path d=\"M 502.761949 10.549149 \r\nL 699.703125 10.549149 \r\n\" style=\"fill:none;stroke:#000000;stroke-linecap:square;stroke-linejoin:miter;stroke-width:0.8;\"/>\r\n   </g>\r\n  </g>\r\n </g>\r\n <defs>\r\n  <clipPath id=\"p169daadd96\">\r\n   <rect height=\"217.44\" width=\"196.941176\" x=\"30.103125\" y=\"10.549149\"/>\r\n  </clipPath>\r\n  <clipPath id=\"pf223151a7a\">\r\n   <rect height=\"217.44\" width=\"196.941176\" x=\"266.432537\" y=\"10.549149\"/>\r\n  </clipPath>\r\n  <clipPath id=\"p83c903c7c8\">\r\n   <rect height=\"217.44\" width=\"196.941176\" x=\"502.761949\" y=\"10.549149\"/>\r\n  </clipPath>\r\n </defs>\r\n</svg>\r\n",
      "image/png": "[encoded data removed]"
     },
     "metadata": {
      "needs_background": "light"
     }
    }
   ],
   "source": [
    "fig, axes = plt.subplots(1,3, figsize = (12,4))\n",
    "axes[0].bar(methods,precisions)\n",
    "axes[1].bar(methods,recalls)\n",
    "axes[2].bar(methods,f1s)"
   ]
  },
  {
   "source": [
    "Όπως παρατηρούμε με την χρήση του Google Word2Vec όλα τα προηγούμενα μοντέλα των classifiers δίνουν καλύτερα αποτελέσματα. Εδώ το knn δίνει τα καλύτερα αποτελέσματα ενώ με την χρήση tf id έδινε τα χειρότερα"
   ],
   "cell_type": "markdown",
   "metadata": {}
  }
 ]
}